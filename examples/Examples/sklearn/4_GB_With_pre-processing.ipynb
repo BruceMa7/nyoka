{
 "cells": [
  {
   "cell_type": "markdown",
   "metadata": {},
   "source": [
    "# scikit-learn → PMML\n",
    "\n",
    "\n",
    "### Exporter: Gradient Boosting\n",
    "### Data Set used: Titanic\n",
    "\n",
    "\n",
    "### **STEPS**: \n",
    "- Build the Pipeline with preprocessing (using DataFrameMapper)\n",
    "- Build PMML using Nyoka exporter"
   ]
  },
  {
   "cell_type": "markdown",
   "metadata": {},
   "source": [
    "### Pre-processing, Model building (using pipeline) for Titanic data set"
   ]
  },
  {
   "cell_type": "code",
   "execution_count": 1,
   "metadata": {
    "ExecuteTime": {
     "end_time": "2018-08-13T17:27:16.921866Z",
     "start_time": "2018-08-13T17:27:15.846866Z"
    }
   },
   "outputs": [],
   "source": [
    "import pandas as pd\n",
    "from sklearn import datasets\n",
    "from sklearn.pipeline import Pipeline\n",
    "from sklearn.preprocessing import StandardScaler, Imputer, LabelEncoder, LabelBinarizer\n",
    "from sklearn_pandas import DataFrameMapper\n",
    "from sklearn.ensemble import GradientBoostingClassifier\n",
    "\n",
    "titanic = pd.read_csv(\"titanic_train.csv\")\n",
    "\n",
    "titanic['Embarked'] = titanic['Embarked'].fillna('S')\n",
    "\n",
    "features = list(titanic.columns.drop(['PassengerId','Name','Ticket','Cabin','Survived']))\n",
    "target = 'Survived'"
   ]
  },
  {
   "cell_type": "code",
   "execution_count": 2,
   "metadata": {
    "ExecuteTime": {
     "end_time": "2018-08-13T17:27:19.458366Z",
     "start_time": "2018-08-13T17:27:19.403366Z"
    }
   },
   "outputs": [
    {
     "name": "stderr",
     "output_type": "stream",
     "text": [
      "C:\\Users\\cchi\\AppData\\Local\\Continuum\\anaconda3\\lib\\site-packages\\sklearn\\utils\\deprecation.py:58: DeprecationWarning: Class Imputer is deprecated; Imputer was deprecated in version 0.20 and will be removed in 0.22. Import impute.SimpleImputer from sklearn instead.\n",
      "  warnings.warn(msg, category=DeprecationWarning)\n",
      "C:\\Users\\cchi\\AppData\\Local\\Continuum\\anaconda3\\lib\\site-packages\\sklearn\\preprocessing\\label.py:235: DataConversionWarning: A column-vector y was passed when a 1d array was expected. Please change the shape of y to (n_samples, ), for example using ravel().\n",
      "  y = column_or_1d(y, warn=True)\n"
     ]
    },
    {
     "data": {
      "text/plain": [
       "GradientBoostingClassifier(criterion='friedman_mse', init=None,\n",
       "              learning_rate=0.1, loss='deviance', max_depth=3,\n",
       "              max_features=None, max_leaf_nodes=None,\n",
       "              min_impurity_decrease=0.0, min_impurity_split=None,\n",
       "              min_samples_leaf=1, min_samples_split=2,\n",
       "              min_weight_fraction_leaf=0.0, n_estimators=10,\n",
       "              n_iter_no_change=None, presort='auto', random_state=None,\n",
       "              subsample=1.0, tol=0.0001, validation_fraction=0.1,\n",
       "              verbose=0, warm_start=False)"
      ]
     },
     "execution_count": 2,
     "metadata": {},
     "output_type": "execute_result"
    }
   ],
   "source": [
    "pipeline_obj = Pipeline([\n",
    "    (\"mapping\", DataFrameMapper([\n",
    "        (['Sex'], LabelEncoder()),\n",
    "        (['Embarked'], LabelEncoder())\n",
    "    ])),\n",
    "    (\"imp\", Imputer(strategy=\"median\"))\n",
    "#     (\"gbc\", GradientBoostingClassifier(n_estimators = 10))\n",
    "])\n",
    "\n",
    "tt = pipeline_obj.fit_transform(titanic[features])\n",
    "\n",
    "gbc = GradientBoostingClassifier(n_estimators = 10)\n",
    "\n",
    "gbc.fit(tt,titanic[target])"
   ]
  },
  {
   "cell_type": "markdown",
   "metadata": {},
   "source": [
    "### Export the Pipeline object into PMML using the Nyoka package"
   ]
  },
  {
   "cell_type": "code",
   "execution_count": 3,
   "metadata": {},
   "outputs": [],
   "source": [
    "from nyoka import model_to_pmml\n",
    "pmml_file_name = \"gb_pmml.pmml\""
   ]
  },
  {
   "cell_type": "code",
   "execution_count": 4,
   "metadata": {},
   "outputs": [],
   "source": [
    "toExportDict={\n",
    "    'model1':{\n",
    "        'hyperparameters':None,\n",
    "        'preProcessingScript':None,\n",
    "        'pipelineObj':pipeline_obj,\n",
    "        'modelObj':gbc,\n",
    "        'featuresUsed':features,\n",
    "        'targetName':target,\n",
    "        'postProcessingScript':None,\n",
    "        'taskType': 'trainAndscore'\n",
    "    }\n",
    "}\n",
    "pmml = model_to_pmml(toExportDict, pmml_f_name=pmml_file_name)"
   ]
  }
 ],
 "metadata": {
  "kernelspec": {
   "display_name": "Python 3",
   "language": "python",
   "name": "python3"
  },
  "language_info": {
   "codemirror_mode": {
    "name": "ipython",
    "version": 3
   },
   "file_extension": ".py",
   "mimetype": "text/x-python",
   "name": "python",
   "nbconvert_exporter": "python",
   "pygments_lexer": "ipython3",
   "version": "3.6.8"
  },
  "latex_envs": {
   "LaTeX_envs_menu_present": true,
   "autoclose": false,
   "autocomplete": true,
   "bibliofile": "biblio.bib",
   "cite_by": "apalike",
   "current_citInitial": 1,
   "eqLabelWithNumbers": true,
   "eqNumInitial": 1,
   "hotkeys": {
    "equation": "Ctrl-E",
    "itemize": "Ctrl-I"
   },
   "labels_anchors": false,
   "latex_user_defs": false,
   "report_style_numbering": false,
   "user_envs_cfg": false
  }
 },
 "nbformat": 4,
 "nbformat_minor": 2
}
