{
 "cells": [
  {
   "cell_type": "markdown",
   "metadata": {},
   "source": [
    "# scikit-learn → PMML\n",
    "\n",
    "\n",
    "### Exporter: Decision Tree Regressor\n",
    "### Data Set used: auto_mpg\n",
    "\n",
    "\n",
    "### **STEPS**:\n",
    "- Build the Pipeline with model and pre-processing (tf-idf vectorizer) using sklearn Decision Tree Regressor\n",
    "- Build PMML using Nyoka exporter"
   ]
  },
  {
   "cell_type": "markdown",
   "metadata": {},
   "source": [
    "### Model building (using pipeline) for Iris data set"
   ]
  },
  {
   "cell_type": "code",
   "execution_count": 1,
   "metadata": {
    "ExecuteTime": {
     "end_time": "2018-08-14T05:28:30.880830Z",
     "start_time": "2018-08-14T05:28:29.795786Z"
    }
   },
   "outputs": [
    {
     "data": {
      "text/plain": [
       "DecisionTreeRegressor(criterion='mse', max_depth=None, max_features=None,\n",
       "           max_leaf_nodes=None, min_impurity_decrease=0.0,\n",
       "           min_impurity_split=None, min_samples_leaf=1,\n",
       "           min_samples_split=2, min_weight_fraction_leaf=0.0,\n",
       "           presort=False, random_state=None, splitter='best')"
      ]
     },
     "execution_count": 1,
     "metadata": {},
     "output_type": "execute_result"
    }
   ],
   "source": [
    "import pandas as pd\n",
    "from sklearn.pipeline import Pipeline\n",
    "from sklearn_pandas import DataFrameMapper\n",
    "from sklearn.feature_extraction.text import TfidfVectorizer\n",
    "from sklearn.tree import DecisionTreeRegressor\n",
    "\n",
    "\n",
    "df = pd.read_csv('auto-mpg.csv')\n",
    "X = df.drop(['mpg'],axis=1)\n",
    "y = df['mpg']\n",
    "\n",
    "features = [name for name in df.columns if name not in ('mpg')]\n",
    "target = 'mpg'\n",
    "\n",
    "pipeline_obj = Pipeline([\n",
    "    ('mapper', DataFrameMapper([\n",
    "        ('car name', TfidfVectorizer())\n",
    "    ]))\n",
    "#     ('model',DecisionTreeRegressor())\n",
    "])\n",
    "\n",
    "X = pipeline_obj.fit_transform(X)\n",
    "\n",
    "dtr = DecisionTreeRegressor()\n",
    "\n",
    "dtr.fit(X,y)"
   ]
  },
  {
   "cell_type": "markdown",
   "metadata": {},
   "source": [
    "### Export the Pipeline object into PMML using the Nyoka package"
   ]
  },
  {
   "cell_type": "code",
   "execution_count": 2,
   "metadata": {},
   "outputs": [],
   "source": [
    "from nyoka import model_to_pmml\n",
    "pmml_file_name = \"dtr_pmml.pmml\""
   ]
  },
  {
   "cell_type": "code",
   "execution_count": 3,
   "metadata": {},
   "outputs": [],
   "source": [
    "toExportDict={\n",
    "    'model1':{\n",
    "        'hyperparameters':None,\n",
    "        'preProcessingScript':None,\n",
    "        'pipelineObj':pipeline_obj,\n",
    "        'modelObj':dtr,\n",
    "        'featuresUsed':features,\n",
    "        'targetName':target,\n",
    "        'postProcessingScript':None,\n",
    "        'taskType': 'trainAndscore'\n",
    "    }\n",
    "}\n",
    "pmml = model_to_pmml(toExportDict, pmml_f_name=pmml_file_name)"
   ]
  }
 ],
 "metadata": {
  "kernelspec": {
   "display_name": "Python 3",
   "language": "python",
   "name": "python3"
  },
  "language_info": {
   "codemirror_mode": {
    "name": "ipython",
    "version": 3
   },
   "file_extension": ".py",
   "mimetype": "text/x-python",
   "name": "python",
   "nbconvert_exporter": "python",
   "pygments_lexer": "ipython3",
   "version": "3.6.8"
  },
  "latex_envs": {
   "LaTeX_envs_menu_present": true,
   "autoclose": false,
   "autocomplete": true,
   "bibliofile": "biblio.bib",
   "cite_by": "apalike",
   "current_citInitial": 1,
   "eqLabelWithNumbers": true,
   "eqNumInitial": 1,
   "hotkeys": {
    "equation": "Ctrl-E",
    "itemize": "Ctrl-I"
   },
   "labels_anchors": false,
   "latex_user_defs": false,
   "report_style_numbering": false,
   "user_envs_cfg": false
  }
 },
 "nbformat": 4,
 "nbformat_minor": 2
}
