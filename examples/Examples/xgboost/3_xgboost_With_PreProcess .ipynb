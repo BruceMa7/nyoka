{
 "cells": [
  {
   "cell_type": "markdown",
   "metadata": {},
   "source": [
    "# XGBoost → PMML\n",
    "\n",
    "\n",
    "### Exporter: XGboost Regressor\n",
    "### Data Set used: Auto\n",
    "\n",
    "\n",
    "### **STEPS**:\n",
    "- Build the Pipeline with preprocessing \n",
    "- Build PMML using Nyoka exporter"
   ]
  },
  {
   "cell_type": "markdown",
   "metadata": {},
   "source": [
    "### Pre-processing, Model building (using pipeline) for Auto data set"
   ]
  },
  {
   "cell_type": "code",
   "execution_count": 1,
   "metadata": {
    "ExecuteTime": {
     "end_time": "2018-08-13T17:23:34.023366Z",
     "start_time": "2018-08-13T17:23:33.043866Z"
    }
   },
   "outputs": [
    {
     "data": {
      "text/plain": [
       "XGBRegressor(base_score=0.5, booster='gbtree', colsample_bylevel=1,\n",
       "       colsample_bytree=1, gamma=0, learning_rate=0.1, max_delta_step=0,\n",
       "       max_depth=3, min_child_weight=1, missing=None, n_estimators=100,\n",
       "       n_jobs=1, nthread=None, objective='reg:linear', random_state=0,\n",
       "       reg_alpha=0, reg_lambda=1, scale_pos_weight=1, seed=None,\n",
       "       silent=True, subsample=1)"
      ]
     },
     "execution_count": 1,
     "metadata": {},
     "output_type": "execute_result"
    }
   ],
   "source": [
    "import pandas as pd\n",
    "from sklearn import datasets\n",
    "from sklearn.pipeline import Pipeline\n",
    "from sklearn.preprocessing import StandardScaler\n",
    "from sklearn.feature_extraction.text import CountVectorizer\n",
    "from xgboost import XGBClassifier,XGBRegressor\n",
    "from sklearn_pandas import DataFrameMapper\n",
    "from sklearn.model_selection import train_test_split\n",
    "\n",
    "auto = pd.read_csv('auto-mpg.csv')\n",
    "X = auto.drop(['mpg'], axis=1)\n",
    "y = auto['mpg']\n",
    "\n",
    "feature_names = [name for name in auto.columns if name not in ('mpg')]\n",
    "\n",
    "target_name='mpg'\n",
    "x_train, x_test, y_train, y_test = train_test_split(X, y, test_size=0.33, random_state=101)\n",
    "pipeline_obj = Pipeline([\n",
    "    ('mapper', DataFrameMapper([\n",
    "        ('car name', CountVectorizer()),\n",
    "        (['displacement'],[StandardScaler()]) \n",
    "    ]))\n",
    "#     ('Xgbr',XGBRegressor())\n",
    "])\n",
    "x_train = pipeline_obj.fit_transform(x_train)\n",
    "Xgbr = XGBRegressor()\n",
    "Xgbr.fit(x_train,y_train)"
   ]
  },
  {
   "cell_type": "markdown",
   "metadata": {},
   "source": [
    "### Export the Pipeline object into PMML using the Nyoka package"
   ]
  },
  {
   "cell_type": "code",
   "execution_count": 2,
   "metadata": {
    "ExecuteTime": {
     "end_time": "2018-08-13T17:23:36.956866Z",
     "start_time": "2018-08-13T17:23:36.319366Z"
    }
   },
   "outputs": [],
   "source": [
    "# from nyoka import xgboost_to_pmml\n",
    "# xgboost_to_pmml(pipeline_obj,feature_names,target_name,\"xgbr_pmml_preprocess.pmml\")"
   ]
  },
  {
   "cell_type": "code",
   "execution_count": 3,
   "metadata": {},
   "outputs": [],
   "source": [
    "from nyoka import model_to_pmml\n",
    "pmml_file_name = \"xgbr_pmml_preprocess.pmml\""
   ]
  },
  {
   "cell_type": "code",
   "execution_count": 4,
   "metadata": {},
   "outputs": [
    {
     "ename": "NameError",
     "evalue": "name 'xgbr' is not defined",
     "output_type": "error",
     "traceback": [
      "\u001b[1;31m---------------------------------------------------------------------------\u001b[0m",
      "\u001b[1;31mNameError\u001b[0m                                 Traceback (most recent call last)",
      "\u001b[1;32m<ipython-input-4-b38cf78e1aa3>\u001b[0m in \u001b[0;36m<module>\u001b[1;34m\u001b[0m\n\u001b[0;32m      4\u001b[0m         \u001b[1;34m'preProcessingScript'\u001b[0m\u001b[1;33m:\u001b[0m\u001b[1;32mNone\u001b[0m\u001b[1;33m,\u001b[0m\u001b[1;33m\u001b[0m\u001b[1;33m\u001b[0m\u001b[0m\n\u001b[0;32m      5\u001b[0m         \u001b[1;34m'pipelineObj'\u001b[0m\u001b[1;33m:\u001b[0m\u001b[0mpipeline_obj\u001b[0m\u001b[1;33m,\u001b[0m\u001b[1;33m\u001b[0m\u001b[1;33m\u001b[0m\u001b[0m\n\u001b[1;32m----> 6\u001b[1;33m         \u001b[1;34m'modelObj'\u001b[0m\u001b[1;33m:\u001b[0m\u001b[0mxgbr\u001b[0m\u001b[1;33m,\u001b[0m\u001b[1;33m\u001b[0m\u001b[1;33m\u001b[0m\u001b[0m\n\u001b[0m\u001b[0;32m      7\u001b[0m         \u001b[1;34m'featuresUsed'\u001b[0m\u001b[1;33m:\u001b[0m\u001b[0mfeature_names\u001b[0m\u001b[1;33m,\u001b[0m\u001b[1;33m\u001b[0m\u001b[1;33m\u001b[0m\u001b[0m\n\u001b[0;32m      8\u001b[0m         \u001b[1;34m'targetName'\u001b[0m\u001b[1;33m:\u001b[0m\u001b[0mtarget_name\u001b[0m\u001b[1;33m,\u001b[0m\u001b[1;33m\u001b[0m\u001b[1;33m\u001b[0m\u001b[0m\n",
      "\u001b[1;31mNameError\u001b[0m: name 'xgbr' is not defined"
     ]
    }
   ],
   "source": [
    "toExportDict={\n",
    "    'model1':{\n",
    "        'hyperparameters':None,\n",
    "        'preProcessingScript':None,\n",
    "        'pipelineObj':pipeline_obj,\n",
    "        'modelObj':xgbr,\n",
    "        'featuresUsed':feature_names,\n",
    "        'targetName':target_name,\n",
    "        'postProcessingScript':None,\n",
    "        'taskType': 'trainAndscore'\n",
    "    }\n",
    "}\n",
    "pmml = model_to_pmml(toExportDict, pmml_f_name=pmml_file_name)"
   ]
  }
 ],
 "metadata": {
  "kernelspec": {
   "display_name": "Python 3",
   "language": "python",
   "name": "python3"
  },
  "language_info": {
   "codemirror_mode": {
    "name": "ipython",
    "version": 3
   },
   "file_extension": ".py",
   "mimetype": "text/x-python",
   "name": "python",
   "nbconvert_exporter": "python",
   "pygments_lexer": "ipython3",
   "version": "3.6.8"
  },
  "latex_envs": {
   "LaTeX_envs_menu_present": true,
   "autoclose": false,
   "autocomplete": true,
   "bibliofile": "biblio.bib",
   "cite_by": "apalike",
   "current_citInitial": 1,
   "eqLabelWithNumbers": true,
   "eqNumInitial": 1,
   "hotkeys": {
    "equation": "Ctrl-E",
    "itemize": "Ctrl-I"
   },
   "labels_anchors": false,
   "latex_user_defs": false,
   "report_style_numbering": false,
   "user_envs_cfg": false
  }
 },
 "nbformat": 4,
 "nbformat_minor": 2
}
