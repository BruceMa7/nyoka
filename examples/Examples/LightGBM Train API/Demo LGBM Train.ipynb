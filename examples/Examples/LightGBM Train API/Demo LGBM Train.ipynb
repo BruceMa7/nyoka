{
 "cells": [
  {
   "cell_type": "code",
   "execution_count": 1,
   "metadata": {
    "ExecuteTime": {
     "end_time": "2019-06-19T09:03:38.418872Z",
     "start_time": "2019-06-19T09:03:37.079803Z"
    }
   },
   "outputs": [],
   "source": [
    "import numpy as np\n",
    "import pandas as pd\n",
    "import os\n",
    "import matplotlib.pyplot as plt\n",
    "# import seaborn as sns\n",
    "from sklearn.preprocessing import LabelEncoder\n",
    "from sklearn.preprocessing import StandardScaler\n",
    "from sklearn.preprocessing import MinMaxScaler\n",
    "from sklearn.metrics import accuracy_score\n",
    "from sklearn.metrics import confusion_matrix\n",
    "import warnings\n",
    "# warnings.filterwarnings('ignore')"
   ]
  },
  {
   "cell_type": "code",
   "execution_count": 2,
   "metadata": {
    "ExecuteTime": {
     "end_time": "2019-06-19T09:03:38.453849Z",
     "start_time": "2019-06-19T09:03:38.421814Z"
    }
   },
   "outputs": [],
   "source": [
    "train = pd.read_csv('titanic_train.csv')\n",
    "test = pd.read_csv('titanic_test.csv')"
   ]
  },
  {
   "cell_type": "code",
   "execution_count": 3,
   "metadata": {
    "ExecuteTime": {
     "end_time": "2019-06-19T09:03:38.479811Z",
     "start_time": "2019-06-19T09:03:38.456806Z"
    }
   },
   "outputs": [
    {
     "data": {
      "text/html": [
       "<div>\n",
       "<style scoped>\n",
       "    .dataframe tbody tr th:only-of-type {\n",
       "        vertical-align: middle;\n",
       "    }\n",
       "\n",
       "    .dataframe tbody tr th {\n",
       "        vertical-align: top;\n",
       "    }\n",
       "\n",
       "    .dataframe thead th {\n",
       "        text-align: right;\n",
       "    }\n",
       "</style>\n",
       "<table border=\"1\" class=\"dataframe\">\n",
       "  <thead>\n",
       "    <tr style=\"text-align: right;\">\n",
       "      <th></th>\n",
       "      <th>PassengerId</th>\n",
       "      <th>Survived</th>\n",
       "      <th>Pclass</th>\n",
       "      <th>Name</th>\n",
       "      <th>Sex</th>\n",
       "      <th>Age</th>\n",
       "      <th>SibSp</th>\n",
       "      <th>Parch</th>\n",
       "      <th>Ticket</th>\n",
       "      <th>Fare</th>\n",
       "      <th>Cabin</th>\n",
       "      <th>Embarked</th>\n",
       "    </tr>\n",
       "  </thead>\n",
       "  <tbody>\n",
       "    <tr>\n",
       "      <th>0</th>\n",
       "      <td>1</td>\n",
       "      <td>0</td>\n",
       "      <td>3</td>\n",
       "      <td>Braund, Mr. Owen Harris</td>\n",
       "      <td>male</td>\n",
       "      <td>22.0</td>\n",
       "      <td>1</td>\n",
       "      <td>0</td>\n",
       "      <td>A/5 21171</td>\n",
       "      <td>7.2500</td>\n",
       "      <td>NaN</td>\n",
       "      <td>S</td>\n",
       "    </tr>\n",
       "    <tr>\n",
       "      <th>1</th>\n",
       "      <td>2</td>\n",
       "      <td>1</td>\n",
       "      <td>1</td>\n",
       "      <td>Cumings, Mrs. John Bradley (Florence Briggs Th...</td>\n",
       "      <td>female</td>\n",
       "      <td>38.0</td>\n",
       "      <td>1</td>\n",
       "      <td>0</td>\n",
       "      <td>PC 17599</td>\n",
       "      <td>71.2833</td>\n",
       "      <td>C85</td>\n",
       "      <td>C</td>\n",
       "    </tr>\n",
       "    <tr>\n",
       "      <th>2</th>\n",
       "      <td>3</td>\n",
       "      <td>1</td>\n",
       "      <td>3</td>\n",
       "      <td>Heikkinen, Miss. Laina</td>\n",
       "      <td>female</td>\n",
       "      <td>26.0</td>\n",
       "      <td>0</td>\n",
       "      <td>0</td>\n",
       "      <td>STON/O2. 3101282</td>\n",
       "      <td>7.9250</td>\n",
       "      <td>NaN</td>\n",
       "      <td>S</td>\n",
       "    </tr>\n",
       "    <tr>\n",
       "      <th>3</th>\n",
       "      <td>4</td>\n",
       "      <td>1</td>\n",
       "      <td>1</td>\n",
       "      <td>Futrelle, Mrs. Jacques Heath (Lily May Peel)</td>\n",
       "      <td>female</td>\n",
       "      <td>35.0</td>\n",
       "      <td>1</td>\n",
       "      <td>0</td>\n",
       "      <td>113803</td>\n",
       "      <td>53.1000</td>\n",
       "      <td>C123</td>\n",
       "      <td>S</td>\n",
       "    </tr>\n",
       "    <tr>\n",
       "      <th>4</th>\n",
       "      <td>5</td>\n",
       "      <td>0</td>\n",
       "      <td>3</td>\n",
       "      <td>Allen, Mr. William Henry</td>\n",
       "      <td>male</td>\n",
       "      <td>35.0</td>\n",
       "      <td>0</td>\n",
       "      <td>0</td>\n",
       "      <td>373450</td>\n",
       "      <td>8.0500</td>\n",
       "      <td>NaN</td>\n",
       "      <td>S</td>\n",
       "    </tr>\n",
       "  </tbody>\n",
       "</table>\n",
       "</div>"
      ],
      "text/plain": [
       "   PassengerId  Survived  Pclass  \\\n",
       "0            1         0       3   \n",
       "1            2         1       1   \n",
       "2            3         1       3   \n",
       "3            4         1       1   \n",
       "4            5         0       3   \n",
       "\n",
       "                                                Name     Sex   Age  SibSp  \\\n",
       "0                            Braund, Mr. Owen Harris    male  22.0      1   \n",
       "1  Cumings, Mrs. John Bradley (Florence Briggs Th...  female  38.0      1   \n",
       "2                             Heikkinen, Miss. Laina  female  26.0      0   \n",
       "3       Futrelle, Mrs. Jacques Heath (Lily May Peel)  female  35.0      1   \n",
       "4                           Allen, Mr. William Henry    male  35.0      0   \n",
       "\n",
       "   Parch            Ticket     Fare Cabin Embarked  \n",
       "0      0         A/5 21171   7.2500   NaN        S  \n",
       "1      0          PC 17599  71.2833   C85        C  \n",
       "2      0  STON/O2. 3101282   7.9250   NaN        S  \n",
       "3      0            113803  53.1000  C123        S  \n",
       "4      0            373450   8.0500   NaN        S  "
      ]
     },
     "execution_count": 3,
     "metadata": {},
     "output_type": "execute_result"
    }
   ],
   "source": [
    "train.head()"
   ]
  },
  {
   "cell_type": "code",
   "execution_count": 4,
   "metadata": {
    "ExecuteTime": {
     "end_time": "2019-06-19T09:03:38.501827Z",
     "start_time": "2019-06-19T09:03:38.483809Z"
    }
   },
   "outputs": [
    {
     "data": {
      "text/html": [
       "<div>\n",
       "<style scoped>\n",
       "    .dataframe tbody tr th:only-of-type {\n",
       "        vertical-align: middle;\n",
       "    }\n",
       "\n",
       "    .dataframe tbody tr th {\n",
       "        vertical-align: top;\n",
       "    }\n",
       "\n",
       "    .dataframe thead th {\n",
       "        text-align: right;\n",
       "    }\n",
       "</style>\n",
       "<table border=\"1\" class=\"dataframe\">\n",
       "  <thead>\n",
       "    <tr style=\"text-align: right;\">\n",
       "      <th></th>\n",
       "      <th>PassengerId</th>\n",
       "      <th>Pclass</th>\n",
       "      <th>Name</th>\n",
       "      <th>Sex</th>\n",
       "      <th>Age</th>\n",
       "      <th>SibSp</th>\n",
       "      <th>Parch</th>\n",
       "      <th>Ticket</th>\n",
       "      <th>Fare</th>\n",
       "      <th>Cabin</th>\n",
       "      <th>Embarked</th>\n",
       "    </tr>\n",
       "  </thead>\n",
       "  <tbody>\n",
       "    <tr>\n",
       "      <th>0</th>\n",
       "      <td>892</td>\n",
       "      <td>3</td>\n",
       "      <td>Kelly, Mr. James</td>\n",
       "      <td>male</td>\n",
       "      <td>34.5</td>\n",
       "      <td>0</td>\n",
       "      <td>0</td>\n",
       "      <td>330911</td>\n",
       "      <td>7.8292</td>\n",
       "      <td>NaN</td>\n",
       "      <td>Q</td>\n",
       "    </tr>\n",
       "    <tr>\n",
       "      <th>1</th>\n",
       "      <td>893</td>\n",
       "      <td>3</td>\n",
       "      <td>Wilkes, Mrs. James (Ellen Needs)</td>\n",
       "      <td>female</td>\n",
       "      <td>47.0</td>\n",
       "      <td>1</td>\n",
       "      <td>0</td>\n",
       "      <td>363272</td>\n",
       "      <td>7.0000</td>\n",
       "      <td>NaN</td>\n",
       "      <td>S</td>\n",
       "    </tr>\n",
       "    <tr>\n",
       "      <th>2</th>\n",
       "      <td>894</td>\n",
       "      <td>2</td>\n",
       "      <td>Myles, Mr. Thomas Francis</td>\n",
       "      <td>male</td>\n",
       "      <td>62.0</td>\n",
       "      <td>0</td>\n",
       "      <td>0</td>\n",
       "      <td>240276</td>\n",
       "      <td>9.6875</td>\n",
       "      <td>NaN</td>\n",
       "      <td>Q</td>\n",
       "    </tr>\n",
       "    <tr>\n",
       "      <th>3</th>\n",
       "      <td>895</td>\n",
       "      <td>3</td>\n",
       "      <td>Wirz, Mr. Albert</td>\n",
       "      <td>male</td>\n",
       "      <td>27.0</td>\n",
       "      <td>0</td>\n",
       "      <td>0</td>\n",
       "      <td>315154</td>\n",
       "      <td>8.6625</td>\n",
       "      <td>NaN</td>\n",
       "      <td>S</td>\n",
       "    </tr>\n",
       "    <tr>\n",
       "      <th>4</th>\n",
       "      <td>896</td>\n",
       "      <td>3</td>\n",
       "      <td>Hirvonen, Mrs. Alexander (Helga E Lindqvist)</td>\n",
       "      <td>female</td>\n",
       "      <td>22.0</td>\n",
       "      <td>1</td>\n",
       "      <td>1</td>\n",
       "      <td>3101298</td>\n",
       "      <td>12.2875</td>\n",
       "      <td>NaN</td>\n",
       "      <td>S</td>\n",
       "    </tr>\n",
       "  </tbody>\n",
       "</table>\n",
       "</div>"
      ],
      "text/plain": [
       "   PassengerId  Pclass                                          Name     Sex  \\\n",
       "0          892       3                              Kelly, Mr. James    male   \n",
       "1          893       3              Wilkes, Mrs. James (Ellen Needs)  female   \n",
       "2          894       2                     Myles, Mr. Thomas Francis    male   \n",
       "3          895       3                              Wirz, Mr. Albert    male   \n",
       "4          896       3  Hirvonen, Mrs. Alexander (Helga E Lindqvist)  female   \n",
       "\n",
       "    Age  SibSp  Parch   Ticket     Fare Cabin Embarked  \n",
       "0  34.5      0      0   330911   7.8292   NaN        Q  \n",
       "1  47.0      1      0   363272   7.0000   NaN        S  \n",
       "2  62.0      0      0   240276   9.6875   NaN        Q  \n",
       "3  27.0      0      0   315154   8.6625   NaN        S  \n",
       "4  22.0      1      1  3101298  12.2875   NaN        S  "
      ]
     },
     "execution_count": 4,
     "metadata": {},
     "output_type": "execute_result"
    }
   ],
   "source": [
    "test.head()"
   ]
  },
  {
   "cell_type": "code",
   "execution_count": 5,
   "metadata": {
    "ExecuteTime": {
     "end_time": "2019-06-19T09:03:38.519807Z",
     "start_time": "2019-06-19T09:03:38.505808Z"
    }
   },
   "outputs": [
    {
     "data": {
      "text/plain": [
       "PassengerId      0\n",
       "Survived         0\n",
       "Pclass           0\n",
       "Name             0\n",
       "Sex              0\n",
       "Age            177\n",
       "SibSp            0\n",
       "Parch            0\n",
       "Ticket           0\n",
       "Fare             0\n",
       "Cabin          687\n",
       "Embarked         2\n",
       "dtype: int64"
      ]
     },
     "execution_count": 5,
     "metadata": {},
     "output_type": "execute_result"
    }
   ],
   "source": [
    "train.isna().sum()"
   ]
  },
  {
   "cell_type": "code",
   "execution_count": 6,
   "metadata": {
    "ExecuteTime": {
     "end_time": "2019-06-19T09:03:38.539806Z",
     "start_time": "2019-06-19T09:03:38.525810Z"
    }
   },
   "outputs": [
    {
     "data": {
      "text/plain": [
       "PassengerId      0\n",
       "Pclass           0\n",
       "Name             0\n",
       "Sex              0\n",
       "Age             86\n",
       "SibSp            0\n",
       "Parch            0\n",
       "Ticket           0\n",
       "Fare             1\n",
       "Cabin          327\n",
       "Embarked         0\n",
       "dtype: int64"
      ]
     },
     "execution_count": 6,
     "metadata": {},
     "output_type": "execute_result"
    }
   ],
   "source": [
    "test.isna().sum()"
   ]
  },
  {
   "cell_type": "code",
   "execution_count": 7,
   "metadata": {
    "ExecuteTime": {
     "end_time": "2019-06-19T09:03:38.551809Z",
     "start_time": "2019-06-19T09:03:38.542807Z"
    }
   },
   "outputs": [],
   "source": [
    "train.Age.fillna(train.Age.mean(), inplace=True)\n",
    "test.Age.fillna(test.Age.mean(), inplace=True)"
   ]
  },
  {
   "cell_type": "code",
   "execution_count": 8,
   "metadata": {
    "ExecuteTime": {
     "end_time": "2019-06-19T09:03:38.566810Z",
     "start_time": "2019-06-19T09:03:38.556808Z"
    }
   },
   "outputs": [],
   "source": [
    "train.Cabin.fillna(train.Cabin.mode()[0], inplace=True)\n",
    "test.Cabin.fillna(test.Cabin.mode()[0], inplace=True)"
   ]
  },
  {
   "cell_type": "code",
   "execution_count": 9,
   "metadata": {
    "ExecuteTime": {
     "end_time": "2019-06-19T09:03:38.750809Z",
     "start_time": "2019-06-19T09:03:38.745832Z"
    }
   },
   "outputs": [],
   "source": [
    "train.Embarked.fillna(train.Embarked.mode()[0], inplace=True)"
   ]
  },
  {
   "cell_type": "code",
   "execution_count": 10,
   "metadata": {
    "ExecuteTime": {
     "end_time": "2019-06-19T09:03:38.955813Z",
     "start_time": "2019-06-19T09:03:38.950853Z"
    }
   },
   "outputs": [],
   "source": [
    "test.Fare.fillna(train.Fare.mean(), inplace=True)"
   ]
  },
  {
   "cell_type": "code",
   "execution_count": 11,
   "metadata": {
    "ExecuteTime": {
     "end_time": "2019-06-19T09:03:39.166856Z",
     "start_time": "2019-06-19T09:03:39.158810Z"
    }
   },
   "outputs": [
    {
     "data": {
      "text/plain": [
       "PassengerId    0\n",
       "Pclass         0\n",
       "Name           0\n",
       "Sex            0\n",
       "Age            0\n",
       "SibSp          0\n",
       "Parch          0\n",
       "Ticket         0\n",
       "Fare           0\n",
       "Cabin          0\n",
       "Embarked       0\n",
       "dtype: int64"
      ]
     },
     "execution_count": 11,
     "metadata": {},
     "output_type": "execute_result"
    }
   ],
   "source": [
    "test.isna().sum()"
   ]
  },
  {
   "cell_type": "code",
   "execution_count": 12,
   "metadata": {
    "ExecuteTime": {
     "end_time": "2019-06-19T09:03:39.377811Z",
     "start_time": "2019-06-19T09:03:39.361812Z"
    }
   },
   "outputs": [],
   "source": [
    "cat_col = []\n",
    "for col in train.columns:\n",
    "    if train[col].dtype == \"object\":\n",
    "        cat_col.append(col)\n",
    "\n",
    "#LabelEncoder\n",
    "lb = LabelEncoder()\n",
    "for column in cat_col:\n",
    "    train[column] = lb.fit_transform(train[column])\n",
    "    test[column] = lb.fit_transform(test[column])"
   ]
  },
  {
   "cell_type": "code",
   "execution_count": 13,
   "metadata": {
    "ExecuteTime": {
     "end_time": "2019-06-19T09:03:39.592817Z",
     "start_time": "2019-06-19T09:03:39.578813Z"
    }
   },
   "outputs": [
    {
     "data": {
      "text/html": [
       "<div>\n",
       "<style scoped>\n",
       "    .dataframe tbody tr th:only-of-type {\n",
       "        vertical-align: middle;\n",
       "    }\n",
       "\n",
       "    .dataframe tbody tr th {\n",
       "        vertical-align: top;\n",
       "    }\n",
       "\n",
       "    .dataframe thead th {\n",
       "        text-align: right;\n",
       "    }\n",
       "</style>\n",
       "<table border=\"1\" class=\"dataframe\">\n",
       "  <thead>\n",
       "    <tr style=\"text-align: right;\">\n",
       "      <th></th>\n",
       "      <th>PassengerId</th>\n",
       "      <th>Survived</th>\n",
       "      <th>Pclass</th>\n",
       "      <th>Name</th>\n",
       "      <th>Sex</th>\n",
       "      <th>Age</th>\n",
       "      <th>SibSp</th>\n",
       "      <th>Parch</th>\n",
       "      <th>Ticket</th>\n",
       "      <th>Fare</th>\n",
       "      <th>Cabin</th>\n",
       "      <th>Embarked</th>\n",
       "    </tr>\n",
       "  </thead>\n",
       "  <tbody>\n",
       "    <tr>\n",
       "      <th>0</th>\n",
       "      <td>1</td>\n",
       "      <td>0</td>\n",
       "      <td>3</td>\n",
       "      <td>108</td>\n",
       "      <td>1</td>\n",
       "      <td>22.0</td>\n",
       "      <td>1</td>\n",
       "      <td>0</td>\n",
       "      <td>523</td>\n",
       "      <td>7.2500</td>\n",
       "      <td>47</td>\n",
       "      <td>2</td>\n",
       "    </tr>\n",
       "    <tr>\n",
       "      <th>1</th>\n",
       "      <td>2</td>\n",
       "      <td>1</td>\n",
       "      <td>1</td>\n",
       "      <td>190</td>\n",
       "      <td>0</td>\n",
       "      <td>38.0</td>\n",
       "      <td>1</td>\n",
       "      <td>0</td>\n",
       "      <td>596</td>\n",
       "      <td>71.2833</td>\n",
       "      <td>81</td>\n",
       "      <td>0</td>\n",
       "    </tr>\n",
       "    <tr>\n",
       "      <th>2</th>\n",
       "      <td>3</td>\n",
       "      <td>1</td>\n",
       "      <td>3</td>\n",
       "      <td>353</td>\n",
       "      <td>0</td>\n",
       "      <td>26.0</td>\n",
       "      <td>0</td>\n",
       "      <td>0</td>\n",
       "      <td>669</td>\n",
       "      <td>7.9250</td>\n",
       "      <td>47</td>\n",
       "      <td>2</td>\n",
       "    </tr>\n",
       "    <tr>\n",
       "      <th>3</th>\n",
       "      <td>4</td>\n",
       "      <td>1</td>\n",
       "      <td>1</td>\n",
       "      <td>272</td>\n",
       "      <td>0</td>\n",
       "      <td>35.0</td>\n",
       "      <td>1</td>\n",
       "      <td>0</td>\n",
       "      <td>49</td>\n",
       "      <td>53.1000</td>\n",
       "      <td>55</td>\n",
       "      <td>2</td>\n",
       "    </tr>\n",
       "    <tr>\n",
       "      <th>4</th>\n",
       "      <td>5</td>\n",
       "      <td>0</td>\n",
       "      <td>3</td>\n",
       "      <td>15</td>\n",
       "      <td>1</td>\n",
       "      <td>35.0</td>\n",
       "      <td>0</td>\n",
       "      <td>0</td>\n",
       "      <td>472</td>\n",
       "      <td>8.0500</td>\n",
       "      <td>47</td>\n",
       "      <td>2</td>\n",
       "    </tr>\n",
       "  </tbody>\n",
       "</table>\n",
       "</div>"
      ],
      "text/plain": [
       "   PassengerId  Survived  Pclass  Name  Sex   Age  SibSp  Parch  Ticket  \\\n",
       "0            1         0       3   108    1  22.0      1      0     523   \n",
       "1            2         1       1   190    0  38.0      1      0     596   \n",
       "2            3         1       3   353    0  26.0      0      0     669   \n",
       "3            4         1       1   272    0  35.0      1      0      49   \n",
       "4            5         0       3    15    1  35.0      0      0     472   \n",
       "\n",
       "      Fare  Cabin  Embarked  \n",
       "0   7.2500     47         2  \n",
       "1  71.2833     81         0  \n",
       "2   7.9250     47         2  \n",
       "3  53.1000     55         2  \n",
       "4   8.0500     47         2  "
      ]
     },
     "execution_count": 13,
     "metadata": {},
     "output_type": "execute_result"
    }
   ],
   "source": [
    "train.head()"
   ]
  },
  {
   "cell_type": "code",
   "execution_count": 14,
   "metadata": {
    "ExecuteTime": {
     "end_time": "2019-06-19T09:03:39.794814Z",
     "start_time": "2019-06-19T09:03:39.788816Z"
    }
   },
   "outputs": [],
   "source": [
    "X = train.drop(['Survived', 'PassengerId'], axis=1)\n",
    "y = train['Survived']"
   ]
  },
  {
   "cell_type": "code",
   "execution_count": 15,
   "metadata": {
    "ExecuteTime": {
     "end_time": "2019-06-19T09:03:40.017815Z",
     "start_time": "2019-06-19T09:03:39.998815Z"
    }
   },
   "outputs": [],
   "source": [
    "from sklearn.model_selection import train_test_split\n",
    "X_train, X_test, y_train, y_test = train_test_split(X, y, test_size=0.3,random_state=0)"
   ]
  },
  {
   "cell_type": "code",
   "execution_count": 16,
   "metadata": {
    "ExecuteTime": {
     "end_time": "2019-06-19T09:03:40.228853Z",
     "start_time": "2019-06-19T09:03:40.206815Z"
    }
   },
   "outputs": [],
   "source": [
    "import lightgbm as lgb\n",
    "lgb_train = lgb.Dataset(X_train, y_train,free_raw_data=False)\n",
    "lgb_eval = lgb.Dataset(X_test, y_test, reference=lgb_train,free_raw_data=False)"
   ]
  },
  {
   "cell_type": "code",
   "execution_count": 17,
   "metadata": {
    "ExecuteTime": {
     "end_time": "2019-06-19T09:03:40.995823Z",
     "start_time": "2019-06-19T09:03:40.990822Z"
    }
   },
   "outputs": [],
   "source": [
    "params = {   'learning_rate': 0.1, 'n_estimators': 5000, 'boosting_type': 'gbdt', 'reg_sqrt': True,\n",
    "                  'objective': 'binary', 'metric': 'binary_error', 'sub_feature': 1.0, 'num_leaves': 8, 'min_data_in_leaf': 10,\n",
    "                  'subsample_freq': 1, 'subsample': .5, 'reg_lambda': 0.1, 'reg_alpha': 0.1, 'random_state': 1,\n",
    "                  'max_bin': 200, 'n_jobs': -1, 'verbose': -1\n",
    "              }"
   ]
  },
  {
   "cell_type": "code",
   "execution_count": 18,
   "metadata": {
    "ExecuteTime": {
     "end_time": "2019-06-19T09:03:41.436826Z",
     "start_time": "2019-06-19T09:03:41.348823Z"
    },
    "scrolled": true
   },
   "outputs": [
    {
     "name": "stdout",
     "output_type": "stream",
     "text": [
      "[1]\ttrain's binary_error: 0.388443\teval's binary_error: 0.373134\n",
      "Training until validation scores don't improve for 30 rounds.\n",
      "[2]\ttrain's binary_error: 0.388443\teval's binary_error: 0.373134\n",
      "[3]\ttrain's binary_error: 0.213483\teval's binary_error: 0.205224\n",
      "[4]\ttrain's binary_error: 0.189406\teval's binary_error: 0.190299\n",
      "[5]\ttrain's binary_error: 0.184591\teval's binary_error: 0.190299\n",
      "[6]\ttrain's binary_error: 0.176565\teval's binary_error: 0.190299\n",
      "[7]\ttrain's binary_error: 0.18138\teval's binary_error: 0.190299\n",
      "[8]\ttrain's binary_error: 0.17496\teval's binary_error: 0.186567\n",
      "[9]\ttrain's binary_error: 0.17175\teval's binary_error: 0.197761\n",
      "[10]\ttrain's binary_error: 0.166934\teval's binary_error: 0.197761\n",
      "[11]\ttrain's binary_error: 0.17175\teval's binary_error: 0.201493\n",
      "[12]\ttrain's binary_error: 0.168539\teval's binary_error: 0.190299\n",
      "[13]\ttrain's binary_error: 0.168539\teval's binary_error: 0.190299\n",
      "[14]\ttrain's binary_error: 0.168539\teval's binary_error: 0.190299\n",
      "[15]\ttrain's binary_error: 0.166934\teval's binary_error: 0.190299\n",
      "[16]\ttrain's binary_error: 0.157303\teval's binary_error: 0.179104\n",
      "[17]\ttrain's binary_error: 0.157303\teval's binary_error: 0.182836\n",
      "[18]\ttrain's binary_error: 0.149278\teval's binary_error: 0.179104\n",
      "[19]\ttrain's binary_error: 0.147673\teval's binary_error: 0.186567\n",
      "[20]\ttrain's binary_error: 0.150883\teval's binary_error: 0.186567\n",
      "[21]\ttrain's binary_error: 0.146067\teval's binary_error: 0.182836\n",
      "[22]\ttrain's binary_error: 0.144462\teval's binary_error: 0.182836\n",
      "[23]\ttrain's binary_error: 0.149278\teval's binary_error: 0.182836\n",
      "[24]\ttrain's binary_error: 0.147673\teval's binary_error: 0.182836\n",
      "[25]\ttrain's binary_error: 0.141252\teval's binary_error: 0.179104\n",
      "[26]\ttrain's binary_error: 0.138042\teval's binary_error: 0.179104\n",
      "[27]\ttrain's binary_error: 0.141252\teval's binary_error: 0.179104\n",
      "[28]\ttrain's binary_error: 0.141252\teval's binary_error: 0.182836\n",
      "[29]\ttrain's binary_error: 0.141252\teval's binary_error: 0.175373\n",
      "[30]\ttrain's binary_error: 0.136437\teval's binary_error: 0.171642\n",
      "[31]\ttrain's binary_error: 0.138042\teval's binary_error: 0.171642\n",
      "[32]\ttrain's binary_error: 0.138042\teval's binary_error: 0.171642\n",
      "[33]\ttrain's binary_error: 0.139647\teval's binary_error: 0.175373\n",
      "[34]\ttrain's binary_error: 0.131621\teval's binary_error: 0.160448\n",
      "[35]\ttrain's binary_error: 0.133226\teval's binary_error: 0.156716\n",
      "[36]\ttrain's binary_error: 0.128411\teval's binary_error: 0.156716\n",
      "[37]\ttrain's binary_error: 0.12199\teval's binary_error: 0.160448\n",
      "[38]\ttrain's binary_error: 0.125201\teval's binary_error: 0.156716\n",
      "[39]\ttrain's binary_error: 0.128411\teval's binary_error: 0.164179\n",
      "[40]\ttrain's binary_error: 0.125201\teval's binary_error: 0.156716\n",
      "[41]\ttrain's binary_error: 0.12199\teval's binary_error: 0.164179\n",
      "[42]\ttrain's binary_error: 0.11878\teval's binary_error: 0.160448\n",
      "[43]\ttrain's binary_error: 0.11557\teval's binary_error: 0.164179\n",
      "[44]\ttrain's binary_error: 0.110754\teval's binary_error: 0.160448\n",
      "[45]\ttrain's binary_error: 0.11236\teval's binary_error: 0.164179\n",
      "[46]\ttrain's binary_error: 0.109149\teval's binary_error: 0.160448\n",
      "[47]\ttrain's binary_error: 0.107544\teval's binary_error: 0.156716\n",
      "[48]\ttrain's binary_error: 0.11236\teval's binary_error: 0.160448\n",
      "[49]\ttrain's binary_error: 0.105939\teval's binary_error: 0.164179\n",
      "[50]\ttrain's binary_error: 0.105939\teval's binary_error: 0.160448\n",
      "[51]\ttrain's binary_error: 0.104334\teval's binary_error: 0.164179\n",
      "[52]\ttrain's binary_error: 0.104334\teval's binary_error: 0.16791\n",
      "[53]\ttrain's binary_error: 0.101124\teval's binary_error: 0.160448\n",
      "[54]\ttrain's binary_error: 0.101124\teval's binary_error: 0.164179\n",
      "[55]\ttrain's binary_error: 0.102729\teval's binary_error: 0.160448\n",
      "[56]\ttrain's binary_error: 0.102729\teval's binary_error: 0.160448\n",
      "[57]\ttrain's binary_error: 0.101124\teval's binary_error: 0.160448\n",
      "[58]\ttrain's binary_error: 0.102729\teval's binary_error: 0.164179\n",
      "[59]\ttrain's binary_error: 0.101124\teval's binary_error: 0.164179\n",
      "[60]\ttrain's binary_error: 0.102729\teval's binary_error: 0.160448\n",
      "[61]\ttrain's binary_error: 0.102729\teval's binary_error: 0.160448\n",
      "[62]\ttrain's binary_error: 0.101124\teval's binary_error: 0.156716\n",
      "[63]\ttrain's binary_error: 0.0995185\teval's binary_error: 0.156716\n",
      "[64]\ttrain's binary_error: 0.0995185\teval's binary_error: 0.164179\n",
      "[65]\ttrain's binary_error: 0.0963082\teval's binary_error: 0.160448\n",
      "Early stopping, best iteration is:\n",
      "[35]\ttrain's binary_error: 0.133226\teval's binary_error: 0.156716\n"
     ]
    },
    {
     "name": "stderr",
     "output_type": "stream",
     "text": [
      "C:\\Users\\cchi\\AppData\\Local\\Continuum\\anaconda3\\lib\\site-packages\\lightgbm\\engine.py:118: UserWarning: Found `n_estimators` in params. Will use it instead of argument\n",
      "  warnings.warn(\"Found `{}` in params. Will use it instead of argument\".format(alias))\n"
     ]
    }
   ],
   "source": [
    "gbm = lgb.train(params,\n",
    "            lgb_train,\n",
    "            num_boost_round=1000,\n",
    "            early_stopping_rounds=30,\n",
    "            valid_sets=[lgb_train,lgb_eval],\n",
    "            valid_names=['train', 'eval'])"
   ]
  },
  {
   "cell_type": "code",
   "execution_count": 19,
   "metadata": {
    "ExecuteTime": {
     "end_time": "2019-06-19T09:03:41.764826Z",
     "start_time": "2019-06-19T09:03:41.754868Z"
    }
   },
   "outputs": [],
   "source": [
    "prediction = gbm.predict(X_test)"
   ]
  },
  {
   "cell_type": "code",
   "execution_count": 20,
   "metadata": {
    "ExecuteTime": {
     "end_time": "2019-06-19T09:03:43.104837Z",
     "start_time": "2019-06-19T09:03:43.100869Z"
    }
   },
   "outputs": [],
   "source": [
    "encodedPrediction = [1 if x > 0.50 else 0 for x in prediction]    "
   ]
  },
  {
   "cell_type": "code",
   "execution_count": 21,
   "metadata": {
    "ExecuteTime": {
     "end_time": "2019-06-19T09:03:44.315862Z",
     "start_time": "2019-06-19T09:03:44.312836Z"
    }
   },
   "outputs": [],
   "source": [
    "features = list(X.columns)"
   ]
  },
  {
   "cell_type": "markdown",
   "metadata": {},
   "source": [
    "# Export via Extended Nyoka"
   ]
  },
  {
   "cell_type": "code",
   "execution_count": 22,
   "metadata": {
    "ExecuteTime": {
     "end_time": "2019-06-19T09:03:48.646869Z",
     "start_time": "2019-06-19T09:03:48.486865Z"
    }
   },
   "outputs": [],
   "source": [
    "from nyoka import model_to_pmml\n",
    "pmml_file_name=\"lgbmTrain.pmml\""
   ]
  },
  {
   "cell_type": "code",
   "execution_count": 23,
   "metadata": {
    "ExecuteTime": {
     "end_time": "2019-06-19T09:03:57.047901Z",
     "start_time": "2019-06-19T09:03:56.963944Z"
    }
   },
   "outputs": [
    {
     "data": {
      "text/plain": [
       "<PMML43Ext.PMML at 0x16d305146d8>"
      ]
     },
     "execution_count": 23,
     "metadata": {},
     "output_type": "execute_result"
    }
   ],
   "source": [
    "toExportDict={\n",
    "    'model1':{\n",
    "        'hyperparameters':params,\n",
    "        'preProcessingScript':None,\n",
    "        'pipelineObj':None,\n",
    "        'modelObj':gbm,\n",
    "        'featuresUsed':features,\n",
    "        'targetName':'Survived',\n",
    "        'postProcessingScript':None,\n",
    "        'taskType': 'trainAndscore'\n",
    "    }\n",
    "}\n",
    "\n",
    "model_to_pmml(toExportDict, pmml_f_name=pmml_file_name)"
   ]
  },
  {
   "cell_type": "markdown",
   "metadata": {},
   "source": [
    "# PMML RECONSTRUCT"
   ]
  },
  {
   "cell_type": "code",
   "execution_count": 24,
   "metadata": {},
   "outputs": [],
   "source": [
    "from nyoka.reconstruct import pmml_to_lgbmTrainAPI"
   ]
  },
  {
   "cell_type": "code",
   "execution_count": 25,
   "metadata": {},
   "outputs": [],
   "source": [
    "from PMML43Ext import *\n",
    "pmml_obj = parse(pmml_file_name, silence=True)"
   ]
  },
  {
   "cell_type": "code",
   "execution_count": 26,
   "metadata": {},
   "outputs": [],
   "source": [
    "reconstructed_model = pmml_to_lgbmTrainAPI.reconstruct(pmml_obj)"
   ]
  },
  {
   "cell_type": "code",
   "execution_count": 27,
   "metadata": {},
   "outputs": [],
   "source": [
    "rcprediction = reconstructed_model.predict(X_test)"
   ]
  },
  {
   "cell_type": "code",
   "execution_count": 28,
   "metadata": {},
   "outputs": [],
   "source": [
    "rcencodedPrediction = [1 if x > 0.50 else 0 for x in rcprediction]"
   ]
  },
  {
   "cell_type": "code",
   "execution_count": 29,
   "metadata": {},
   "outputs": [
    {
     "data": {
      "text/plain": [
       "True"
      ]
     },
     "execution_count": 29,
     "metadata": {},
     "output_type": "execute_result"
    }
   ],
   "source": [
    "encodedPrediction == rcencodedPrediction"
   ]
  }
 ],
 "metadata": {
  "kernelspec": {
   "display_name": "Python 3",
   "language": "python",
   "name": "python3"
  },
  "language_info": {
   "codemirror_mode": {
    "name": "ipython",
    "version": 3
   },
   "file_extension": ".py",
   "mimetype": "text/x-python",
   "name": "python",
   "nbconvert_exporter": "python",
   "pygments_lexer": "ipython3",
   "version": "3.6.8"
  }
 },
 "nbformat": 4,
 "nbformat_minor": 2
}
