{
 "cells": [
  {
   "cell_type": "code",
   "execution_count": 3,
   "metadata": {},
   "outputs": [],
   "source": [
    "import sys, os\n",
    "import pandas as pd\n",
    "import numpy as np\n",
    "from statsmodels.tsa.base import tsa_model as tsa\n",
    "from statsmodels.tsa import holtwinters as hw\n",
    "#sys.path.append('../../../')\n",
    "\n",
    "#from nyoka.PMML43Ext import *\n",
    "#from nyoka.statsmodels import exponential_smoothing as es\n",
    "from nyoka import ExponentialSmoothingToPMML \n",
    "import matplotlib.pyplot as plt"
   ]
  },
  {
   "cell_type": "code",
   "execution_count": 4,
   "metadata": {
    "collapsed": true
   },
   "outputs": [],
   "source": [
    "def import_data(trend=False, seasonality=False):\n",
    "    \"\"\"\n",
    "    Returns a dataframe with time series values.\n",
    "    :param trend: boolean\n",
    "        If True, returns data with trend\n",
    "    :param seasonality: boolean\n",
    "        If True, returns data with seasonality\n",
    "    :return: ts_data: DataFrame\n",
    "        Index of the data frame is either a time-index or an integer index. First column has time series values\n",
    "    \"\"\"\n",
    "    if trend and seasonality:\n",
    "        # no of international visitors in Australia\n",
    "        data = [41.7275, 24.0418, 32.3281, 37.3287, 46.2132, 29.3463, 36.4829, 42.9777, 48.9015, 31.1802, 37.7179,\n",
    "                40.4202, 51.2069, 31.8872, 40.9783, 43.7725, 55.5586, 33.8509, 42.0764, 45.6423, 59.7668, 35.1919,\n",
    "                44.3197, 47.9137]\n",
    "        index = pd.DatetimeIndex(start='2005', end='2010-Q4', freq='QS')\n",
    "        ts_data = pd.Series(data, index)\n",
    "        ts_data.index.name = 'datetime_index'\n",
    "        ts_data.name = 'n_visitors'\n",
    "        return ts_data\n",
    "    elif trend:\n",
    "        # no. of annual passengers of air carriers registered in Australia\n",
    "        data = [17.5534, 21.86, 23.8866, 26.9293, 26.8885, 28.8314, 30.0751, 30.9535, 30.1857, 31.5797, 32.5776,\n",
    "                33.4774, 39.0216, 41.3864, 41.5966]\n",
    "        index = pd.DatetimeIndex(start='1990', end='2005', freq='A')\n",
    "        ts_data = pd.Series(data, index)\n",
    "        ts_data.index.name = 'datetime_index'\n",
    "        ts_data.name = 'n_passengers'\n",
    "        return ts_data\n",
    "    elif seasonality:\n",
    "        pass\n",
    "    else:\n",
    "        # Oil production in Saudi Arabia\n",
    "        data = [446.6565, 454.4733, 455.663, 423.6322, 456.2713, 440.5881, 425.3325, 485.1494, 506.0482, 526.792,\n",
    "                514.2689, 494.211]\n",
    "        index = pd.DatetimeIndex(start='1996', end='2008', freq='A')\n",
    "        ts_data = pd.Series(data, index)\n",
    "        ts_data.index.name = 'datetime_index'\n",
    "        ts_data.name = 'oil_production'\n",
    "        return ts_data"
   ]
  },
  {
   "cell_type": "markdown",
   "metadata": {},
   "source": [
    "# Simple Exponential Smoothing\n",
    "# No Trend No Seasonality"
   ]
  },
  {
   "cell_type": "code",
   "execution_count": 5,
   "metadata": {
    "collapsed": true
   },
   "outputs": [],
   "source": [
    "ts_data = import_data(trend=False, seasonality=False)"
   ]
  },
  {
   "cell_type": "markdown",
   "metadata": {},
   "source": [
    "Yearly oil prodcution in Saudi Arabia"
   ]
  },
  {
   "cell_type": "code",
   "execution_count": 6,
   "metadata": {},
   "outputs": [
    {
     "data": {
      "text/plain": [
       "[<matplotlib.lines.Line2D at 0xcf9f128>]"
      ]
     },
     "execution_count": 6,
     "metadata": {},
     "output_type": "execute_result"
    }
   ],
   "source": [
    "plt.plot(ts_data)"
   ]
  },
  {
   "cell_type": "markdown",
   "metadata": {},
   "source": [
    "Create a model object using statsmodels, for simple exponential smoothing."
   ]
  },
  {
   "cell_type": "code",
   "execution_count": 7,
   "metadata": {
    "collapsed": true
   },
   "outputs": [],
   "source": [
    "# trend: {add, mul, None}\n",
    "# seasonal: {add, mul, None}\n",
    "# damped: {True, False}\n",
    "# seasonal_periods: {int, None}\n",
    "model_obj = hw.ExponentialSmoothing(ts_data, \n",
    "                                    trend=None, \n",
    "                                    damped=False, \n",
    "                                    seasonal=None, \n",
    "                                    seasonal_periods=None)\n",
    "results_obj = model_obj.fit(optimized=True)"
   ]
  },
  {
   "cell_type": "markdown",
   "metadata": {},
   "source": [
    "Create a pmml file from the model object using Nyoka and the exporter"
   ]
  },
  {
   "cell_type": "code",
   "execution_count": 8,
   "metadata": {},
   "outputs": [],
   "source": [
    "pmml_file_name = 'exponential_smoothing.pmml'\n",
    "ExponentialSmoothingToPMML(ts_data, model_obj, results_obj, pmml_file_name);"
   ]
  },
  {
   "cell_type": "markdown",
   "metadata": {},
   "source": [
    "# Holt's Exponential Smoothing (only trend, no seasonality)"
   ]
  },
  {
   "cell_type": "code",
   "execution_count": 10,
   "metadata": {
    "collapsed": true
   },
   "outputs": [],
   "source": [
    "ts_data = import_data(trend=True, seasonality=False)"
   ]
  },
  {
   "cell_type": "code",
   "execution_count": 11,
   "metadata": {},
   "outputs": [
    {
     "data": {
      "text/plain": [
       "[<matplotlib.lines.Line2D at 0xd0f95f8>]"
      ]
     },
     "execution_count": 11,
     "metadata": {},
     "output_type": "execute_result"
    }
   ],
   "source": [
    "plt.plot(ts_data)"
   ]
  },
  {
   "cell_type": "markdown",
   "metadata": {},
   "source": [
    "** Additive trend. No damping **"
   ]
  },
  {
   "cell_type": "code",
   "execution_count": 12,
   "metadata": {
    "collapsed": true
   },
   "outputs": [],
   "source": [
    "model_obj = hw.ExponentialSmoothing(ts_data, \n",
    "                                    trend='add', \n",
    "                                    damped=False, \n",
    "                                    seasonal=None, \n",
    "                                    seasonal_periods=None)\n",
    "results_obj = model_obj.fit(optimized=True)"
   ]
  },
  {
   "cell_type": "markdown",
   "metadata": {},
   "source": [
    "initial_level, inital_slope, smoothing_level and smoothing_slope are the relavant parameters"
   ]
  },
  {
   "cell_type": "code",
   "execution_count": 14,
   "metadata": {},
   "outputs": [],
   "source": [
    "pmml_file_name = 'exponential_smoothing.pmml'\n",
    "ExponentialSmoothingToPMML(ts_data, model_obj, results_obj, pmml_file_name);"
   ]
  },
  {
   "cell_type": "markdown",
   "metadata": {},
   "source": [
    "** Addditve trend with damping**"
   ]
  },
  {
   "cell_type": "code",
   "execution_count": 15,
   "metadata": {
    "collapsed": true
   },
   "outputs": [],
   "source": [
    "model_obj = hw.ExponentialSmoothing(ts_data, \n",
    "                                    trend='add', \n",
    "                                    damped=True, \n",
    "                                    seasonal=None, \n",
    "                                    seasonal_periods=None)\n",
    "results_obj = model_obj.fit(optimized=True)"
   ]
  },
  {
   "cell_type": "code",
   "execution_count": 17,
   "metadata": {},
   "outputs": [],
   "source": [
    "pmml_file_name = 'exponential_smoothing.pmml'\n",
    "ExponentialSmoothingToPMML(ts_data, model_obj, results_obj, pmml_file_name);"
   ]
  },
  {
   "cell_type": "markdown",
   "metadata": {},
   "source": [
    "** Multiplicative trend. No damping**"
   ]
  },
  {
   "cell_type": "code",
   "execution_count": 18,
   "metadata": {
    "collapsed": true
   },
   "outputs": [],
   "source": [
    "model_obj = hw.ExponentialSmoothing(ts_data, \n",
    "                                    trend='mul', \n",
    "                                    damped=False, \n",
    "                                    seasonal=None, \n",
    "                                    seasonal_periods=None)\n",
    "results_obj = model_obj.fit(optimized=True)"
   ]
  },
  {
   "cell_type": "code",
   "execution_count": 20,
   "metadata": {},
   "outputs": [],
   "source": [
    "pmml_file_name = 'exponential_smoothing.pmml'\n",
    "ExponentialSmoothingToPMML(ts_data, model_obj, results_obj, pmml_file_name);"
   ]
  },
  {
   "cell_type": "markdown",
   "metadata": {},
   "source": [
    "** Multiplicative trend with damping**"
   ]
  },
  {
   "cell_type": "code",
   "execution_count": 21,
   "metadata": {
    "collapsed": true
   },
   "outputs": [],
   "source": [
    "model_obj = hw.ExponentialSmoothing(ts_data, \n",
    "                                    trend='mul', \n",
    "                                    damped=True, \n",
    "                                    seasonal=None, \n",
    "                                    seasonal_periods=None)\n",
    "results_obj = model_obj.fit(optimized=True)"
   ]
  },
  {
   "cell_type": "code",
   "execution_count": 22,
   "metadata": {
    "collapsed": true
   },
   "outputs": [],
   "source": [
    "pmml_file_name = 'exponential_smoothing.pmml'\n",
    "ExponentialSmoothingToPMML(ts_data, model_obj, results_obj, pmml_file_name);"
   ]
  },
  {
   "cell_type": "markdown",
   "metadata": {},
   "source": [
    "# Holt - Winter Exponential Smoothing (trend and seasonality present)"
   ]
  },
  {
   "cell_type": "markdown",
   "metadata": {},
   "source": [
    "** Additive trend, additive seasonality, no damping **"
   ]
  },
  {
   "cell_type": "code",
   "execution_count": 23,
   "metadata": {
    "collapsed": true
   },
   "outputs": [],
   "source": [
    "ts_data = import_data(trend=True, seasonality=True)"
   ]
  },
  {
   "cell_type": "code",
   "execution_count": 24,
   "metadata": {},
   "outputs": [
    {
     "data": {
      "text/plain": [
       "[<matplotlib.lines.Line2D at 0xd487ba8>]"
      ]
     },
     "execution_count": 24,
     "metadata": {},
     "output_type": "execute_result"
    }
   ],
   "source": [
    "plt.plot(ts_data)"
   ]
  },
  {
   "cell_type": "code",
   "execution_count": 25,
   "metadata": {
    "collapsed": true
   },
   "outputs": [],
   "source": [
    "model_obj = hw.ExponentialSmoothing(ts_data, \n",
    "                                    trend='add', \n",
    "                                    damped=False, \n",
    "                                    seasonal='add', \n",
    "                                    seasonal_periods=4)\n",
    "results_obj = model_obj.fit(optimized=True)"
   ]
  },
  {
   "cell_type": "code",
   "execution_count": 27,
   "metadata": {},
   "outputs": [],
   "source": [
    "pmml_file_name = 'exponential_smoothing.pmml'\n",
    "ExponentialSmoothingToPMML(ts_data, model_obj, results_obj, pmml_file_name);"
   ]
  },
  {
   "cell_type": "markdown",
   "metadata": {},
   "source": [
    "** Additive trend, additive seasonality, with damping **"
   ]
  },
  {
   "cell_type": "code",
   "execution_count": 28,
   "metadata": {
    "collapsed": true
   },
   "outputs": [],
   "source": [
    "model_obj = hw.ExponentialSmoothing(ts_data, \n",
    "                                    trend='add', \n",
    "                                    damped=True, \n",
    "                                    seasonal='add', \n",
    "                                    seasonal_periods=4)\n",
    "results_obj = model_obj.fit(optimized=True)"
   ]
  },
  {
   "cell_type": "code",
   "execution_count": 29,
   "metadata": {
    "collapsed": true
   },
   "outputs": [],
   "source": [
    "pmml_file_name = 'exponential_smoothing.pmml'\n",
    "ExponentialSmoothingToPMML(ts_data, model_obj, results_obj, pmml_file_name);"
   ]
  },
  {
   "cell_type": "markdown",
   "metadata": {},
   "source": [
    "** Additive trend, multiplicative seasonality, no damping **"
   ]
  },
  {
   "cell_type": "code",
   "execution_count": 30,
   "metadata": {
    "collapsed": true
   },
   "outputs": [],
   "source": [
    "model_obj = hw.ExponentialSmoothing(ts_data, \n",
    "                                    trend='add', \n",
    "                                    damped=False, \n",
    "                                    seasonal='mul', \n",
    "                                    seasonal_periods=4)\n",
    "results_obj = model_obj.fit(optimized=True)"
   ]
  },
  {
   "cell_type": "code",
   "execution_count": 31,
   "metadata": {
    "collapsed": true
   },
   "outputs": [],
   "source": [
    "pmml_file_name = 'exponential_smoothing.pmml'\n",
    "ExponentialSmoothingToPMML(ts_data, model_obj, results_obj, pmml_file_name);"
   ]
  },
  {
   "cell_type": "markdown",
   "metadata": {},
   "source": [
    "** Additive trend, multiplicative seasonality with damping **"
   ]
  },
  {
   "cell_type": "code",
   "execution_count": 33,
   "metadata": {
    "collapsed": true
   },
   "outputs": [],
   "source": [
    "model_obj = hw.ExponentialSmoothing(ts_data, \n",
    "                                    trend='add', \n",
    "                                    damped=False, \n",
    "                                    seasonal='mul', \n",
    "                                    seasonal_periods=4)\n",
    "results_obj = model_obj.fit(optimized=True)"
   ]
  },
  {
   "cell_type": "code",
   "execution_count": 32,
   "metadata": {
    "collapsed": true
   },
   "outputs": [],
   "source": [
    "pmml_file_name = 'exponential_smoothing.pmml'\n",
    "ExponentialSmoothingToPMML(ts_data, model_obj, results_obj, pmml_file_name);"
   ]
  }
 ],
 "metadata": {
  "kernelspec": {
   "display_name": "Python 3",
   "language": "python",
   "name": "python3"
  },
  "language_info": {
   "codemirror_mode": {
    "name": "ipython",
    "version": 3
   },
   "file_extension": ".py",
   "mimetype": "text/x-python",
   "name": "python",
   "nbconvert_exporter": "python",
   "pygments_lexer": "ipython3",
   "version": "3.6.3"
  }
 },
 "nbformat": 4,
 "nbformat_minor": 2
}
