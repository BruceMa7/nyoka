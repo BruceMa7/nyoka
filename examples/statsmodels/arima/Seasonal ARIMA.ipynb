{
 "cells": [
  {
   "cell_type": "markdown",
   "metadata": {},
   "source": [
    "## Export SARIMAX model to PMML"
   ]
  },
  {
   "cell_type": "code",
   "execution_count": null,
   "metadata": {},
   "outputs": [],
   "source": [
    "import pandas as pd\n",
    "import numpy as np\n",
    "from statsmodels.tsa.statespace import sarimax\n",
    "from nyoka import StatsmodelsToPmml\n",
    "import warnings\n",
    "warnings.filterwarnings('ignore')"
   ]
  },
  {
   "cell_type": "markdown",
   "metadata": {},
   "source": [
    "### Train the model"
   ]
  },
  {
   "cell_type": "code",
   "execution_count": null,
   "metadata": {},
   "outputs": [],
   "source": [
    "# Load the data\n",
    "data = pd.read_csv('international-airline-passengers.csv', engine = 'python', skipfooter = 3)\n",
    "# A bit of pre-processing to make it nicer\n",
    "data['Month'] = pd.to_datetime(data['Month'], format='%Y-%m-%d')\n",
    "data.set_index(['Month'], inplace = True)"
   ]
  },
  {
   "cell_type": "code",
   "execution_count": null,
   "metadata": {},
   "outputs": [],
   "source": [
    "# Seasonal ARIMA model\n",
    "model = sarimax.SARIMAX(data,\n",
    "                        order = (3, 1, 1),\n",
    "                        seasonal_order = (3, 1, 1, 12))\n",
    "results = model.fit()"
   ]
  },
  {
   "cell_type": "markdown",
   "metadata": {},
   "source": [
    "### Export"
   ]
  },
  {
   "cell_type": "code",
   "execution_count": null,
   "metadata": {},
   "outputs": [],
   "source": [
    "# Use exporter to create pmml file\n",
    "pmml_f_name = 'seasonal_international_airline_passengers.pmml'\n",
    "StatsmodelsToPmml(\n",
    "            results_obj = results,\n",
    "            pmml_file_name = pmml_f_name,\n",
    "            conf_int=[80,95]\n",
    "           )"
   ]
  }
 ],
 "metadata": {
  "kernelspec": {
   "display_name": "Python 3",
   "language": "python",
   "name": "python3"
  },
  "language_info": {
   "codemirror_mode": {
    "name": "ipython",
    "version": 3
   },
   "file_extension": ".py",
   "mimetype": "text/x-python",
   "name": "python",
   "nbconvert_exporter": "python",
   "pygments_lexer": "ipython3",
   "version": "3.6.8"
  }
 },
 "nbformat": 4,
 "nbformat_minor": 2
}
