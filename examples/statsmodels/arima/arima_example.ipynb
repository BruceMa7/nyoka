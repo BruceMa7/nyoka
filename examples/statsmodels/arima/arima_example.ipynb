{
 "cells": [
  {
   "cell_type": "code",
   "execution_count": 1,
   "metadata": {},
   "outputs": [],
   "source": [
    "import pandas as pd\n",
    "import numpy as np\n",
    "from statsmodels.tsa.arima_model import ARIMA\n",
    "from nyoka import ArimaToPMML\n",
    "import warnings\n",
    "warnings.filterwarnings('ignore')"
   ]
  },
  {
   "cell_type": "code",
   "execution_count": 2,
   "metadata": {},
   "outputs": [],
   "source": [
    "def parser(x):\n",
    "    return pd.datetime.strptime(x,'%Y-%m')\n",
    "\n",
    "# Load the data\n",
    "sales_data = pd.read_csv('sales-cars.csv', index_col=0, parse_dates = [0], date_parser = parser)"
   ]
  },
  {
   "cell_type": "code",
   "execution_count": 3,
   "metadata": {},
   "outputs": [],
   "source": [
    "data = [266,146,183,119,180,169,232,225,193,123,337,186,194,150,210,273,191,287,\n",
    "                226,304,290,422,265,342,340,440,316,439,401,390,490,408,490,420,520,480]\n",
    "index = pd.DatetimeIndex(start='2016-01-01', end='2018-12-01', freq='MS')\n",
    "ts_data = pd.Series(data, index)\n",
    "ts_data.index.name = 'date_index'\n",
    "ts_data.name = 'cars_sold'"
   ]
  },
  {
   "cell_type": "code",
   "execution_count": 4,
   "metadata": {
    "scrolled": true
   },
   "outputs": [
    {
     "data": {
      "text/plain": [
       "'cars_sold'"
      ]
     },
     "execution_count": 4,
     "metadata": {},
     "output_type": "execute_result"
    }
   ],
   "source": [
    "ts_data.name"
   ]
  },
  {
   "cell_type": "code",
   "execution_count": 5,
   "metadata": {},
   "outputs": [
    {
     "data": {
      "text/plain": [
       "pandas.core.frame.DataFrame"
      ]
     },
     "execution_count": 5,
     "metadata": {},
     "output_type": "execute_result"
    }
   ],
   "source": [
    "sales_data.__class__"
   ]
  },
  {
   "cell_type": "code",
   "execution_count": 6,
   "metadata": {},
   "outputs": [],
   "source": [
    "model = ARIMA(sales_data, order = (9, 2, 0))\n",
    "result = model.fit()"
   ]
  },
  {
   "cell_type": "code",
   "execution_count": 17,
   "metadata": {},
   "outputs": [
    {
     "data": {
      "text/plain": [
       "array([-2.10052624, -2.61905315, -2.65302308, -1.92004326, -0.83597635,\n",
       "        0.07468338,  0.63780908,  0.55797312,  0.16503955])"
      ]
     },
     "execution_count": 17,
     "metadata": {},
     "output_type": "execute_result"
    }
   ],
   "source": [
    "result._results.arparams"
   ]
  },
  {
   "cell_type": "code",
   "execution_count": 14,
   "metadata": {},
   "outputs": [
    {
     "data": {
      "text/plain": [
       "Month\n",
       "2016-03-01    156.666059\n",
       "2016-04-01     28.608373\n",
       "2016-05-01     70.720300\n",
       "2016-06-01     76.289782\n",
       "2016-07-01    102.469024\n",
       "2016-08-01     86.218844\n",
       "2016-09-01     34.471985\n",
       "2016-10-01    -82.659769\n",
       "2016-11-01     52.170508\n",
       "2016-12-01    -53.982712\n",
       "2017-01-01    -87.134180\n",
       "2017-02-01    -40.036072\n",
       "2017-03-01    -29.756528\n",
       "2017-04-01     86.087583\n",
       "2017-05-01     21.173245\n",
       "2017-06-01     58.486935\n",
       "2017-07-01     66.799625\n",
       "2017-08-01     39.446082\n",
       "2017-09-01    -21.194656\n",
       "2017-10-01     53.806667\n",
       "2017-11-01    -50.917270\n",
       "2017-12-01    -41.997009\n",
       "2018-01-01    -42.115793\n",
       "2018-02-01     -3.260691\n",
       "2018-03-01    -55.480861\n",
       "2018-04-01     34.620354\n",
       "2018-05-01     39.324947\n",
       "2018-06-01    -31.419940\n",
       "2018-07-01     47.097436\n",
       "2018-08-01    -61.608886\n",
       "2018-09-01     -4.693818\n",
       "2018-10-01      4.863541\n",
       "2018-11-01     -7.509115\n",
       "2018-12-01     -5.981954\n",
       "dtype: float64"
      ]
     },
     "execution_count": 14,
     "metadata": {},
     "output_type": "execute_result"
    }
   ],
   "source": [
    "result.resid"
   ]
  },
  {
   "cell_type": "code",
   "execution_count": 10,
   "metadata": {},
   "outputs": [
    {
     "data": {
      "text/plain": [
       "57.37330374361651"
      ]
     },
     "execution_count": 10,
     "metadata": {},
     "output_type": "execute_result"
    }
   ],
   "source": [
    "import numpy\n",
    "\n",
    "numpy.std(result.resid)"
   ]
  },
  {
   "cell_type": "code",
   "execution_count": 22,
   "metadata": {},
   "outputs": [
    {
     "data": {
      "text/plain": [
       "Index(['Sales'], dtype='object')"
      ]
     },
     "execution_count": 22,
     "metadata": {},
     "output_type": "execute_result"
    }
   ],
   "source": [
    "result.data.orig_endog.columns"
   ]
  },
  {
   "cell_type": "markdown",
   "metadata": {},
   "source": [
    "# Export"
   ]
  },
  {
   "cell_type": "code",
   "execution_count": 18,
   "metadata": {},
   "outputs": [
    {
     "data": {
      "text/plain": [
       "<nyoka.statsmodels.arima.ArimaToPMML at 0x233e8849400>"
      ]
     },
     "execution_count": 18,
     "metadata": {},
     "output_type": "execute_result"
    }
   ],
   "source": [
    "# Use exporter to create pmml file\n",
    "pmml_f_name = 'non_seasonal_car_sales.pmml'\n",
    "ArimaToPMML( results_obj = result,\n",
    "             pmml_file_name = pmml_f_name\n",
    "           )"
   ]
  },
  {
   "cell_type": "code",
   "execution_count": null,
   "metadata": {
    "collapsed": true
   },
   "outputs": [],
   "source": []
  }
 ],
 "metadata": {
  "kernelspec": {
   "display_name": "Python 3",
   "language": "python",
   "name": "python3"
  },
  "language_info": {
   "codemirror_mode": {
    "name": "ipython",
    "version": 3
   },
   "file_extension": ".py",
   "mimetype": "text/x-python",
   "name": "python",
   "nbconvert_exporter": "python",
   "pygments_lexer": "ipython3",
   "version": "3.6.8"
  }
 },
 "nbformat": 4,
 "nbformat_minor": 2
}
