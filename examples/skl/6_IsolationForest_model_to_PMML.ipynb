{
 "cells": [
  {
   "cell_type": "markdown",
   "metadata": {},
   "source": [
    "<div class=\"alert alert-block alert-info\">\n",
    "# <font size = 30>anomaly → PMML (using Nyoka) </font>\n",
    "\n",
    "<div class=\"alert alert-block alert-success\">\n",
    "### <font color=purple> Exporter: Anomaly Detection models (OneClassSVM) </font>\n",
    "### <font color=purple> Data Set used: iris </font>\n",
    "\n",
    "\n",
    "### <font color=purple>**STEPS**: </font>\n",
    "<font color=brown>\n",
    "- Build the model using sklearn OneClassSVM\n",
    "- Build PMML (Data Dictionary, Mining schema, Ouput, PMML) using Nyoka classes\n"
   ]
  },
  {
   "cell_type": "code",
   "execution_count": 1,
   "metadata": {
    "ExecuteTime": {
     "end_time": "2018-07-10T06:27:56.864880Z",
     "start_time": "2018-07-10T06:27:56.839880Z"
    }
   },
   "outputs": [
    {
     "data": {
      "text/html": [
       "<style>.container { width:100% !important; }</style>"
      ],
      "text/plain": [
       "<IPython.core.display.HTML object>"
      ]
     },
     "metadata": {},
     "output_type": "display_data"
    }
   ],
   "source": [
    "# Jupyter cells: 100% width \n",
    "from IPython.core.display import display, HTML\n",
    "display(HTML(\"<style>.container { width:100% !important; }</style>\"))\n",
    "%config NotebookApp.iopub_data_rate_limit = 7000000000000.0 \n",
    "%config NotebookApp.rate_limit_window=60.0"
   ]
  },
  {
   "cell_type": "markdown",
   "metadata": {},
   "source": [
    "<div class=\"alert alert-block alert-warning\">\n",
    "# Pre-processing, Model building (using pipeline) for iris data set"
   ]
  },
  {
   "cell_type": "code",
   "execution_count": 2,
   "metadata": {
    "collapsed": true
   },
   "outputs": [],
   "source": [
    "from sklearn.ensemble import IsolationForest"
   ]
  },
  {
   "cell_type": "code",
   "execution_count": 5,
   "metadata": {
    "ExecuteTime": {
     "end_time": "2018-07-10T06:27:59.647880Z",
     "start_time": "2018-07-10T06:27:58.294880Z"
    }
   },
   "outputs": [
    {
     "name": "stdout",
     "output_type": "stream",
     "text": [
      "\n",
      " Anomaly detection model is built successfully.\n"
     ]
    },
    {
     "name": "stderr",
     "output_type": "stream",
     "text": [
      "C:\\Users\\swsh\\AppData\\Local\\Continuum\\anaconda3\\lib\\site-packages\\sklearn\\utils\\deprecation.py:58: DeprecationWarning: Class Imputer is deprecated; Imputer was deprecated in version 0.20 and will be removed in 0.22. Import impute.SimpleImputer from sklearn instead.\n",
      "  warnings.warn(msg, category=DeprecationWarning)\n",
      "C:\\Users\\swsh\\AppData\\Local\\Continuum\\anaconda3\\lib\\site-packages\\sklearn\\ensemble\\iforest.py:214: FutureWarning: default contamination parameter 0.1 will change in version 0.22 to \"auto\". This will change the predict method behavior.\n",
      "  FutureWarning)\n",
      "C:\\Users\\swsh\\AppData\\Local\\Continuum\\anaconda3\\lib\\site-packages\\sklearn\\ensemble\\iforest.py:224: FutureWarning: behaviour=\"old\" is deprecated and will be removed in version 0.22. Please use behaviour=\"new\", which makes the decision_function change to match other anomaly detection algorithm API.\n",
      "  FutureWarning)\n"
     ]
    }
   ],
   "source": [
    "import pandas as pd\n",
    "import numpy as np\n",
    "from sklearn.model_selection import train_test_split\n",
    "from requests.auth import HTTPBasicAuth\n",
    "import requests\n",
    "import json\n",
    "from sklearn import datasets\n",
    "from sklearn.pipeline import Pipeline\n",
    "from sklearn.preprocessing import StandardScaler, Imputer\n",
    "\n",
    "irisdata = datasets.load_iris()\n",
    "iris = pd.DataFrame(irisdata.data,columns=irisdata.feature_names)\n",
    "iris['Species'] = irisdata.target\n",
    "\n",
    "feature_names = iris.columns.drop('Species')\n",
    "\n",
    "X_train, X_test, y_train, y_test = train_test_split(iris[iris.columns.drop(['Species'])], \n",
    "                                                    iris['Species'], test_size=0.33, random_state=101)\n",
    "\n",
    "X_test.to_csv(\"iris_test.csv\")\n",
    "\n",
    "\n",
    "pipe = Pipeline([('standard_scaler',StandardScaler()), ('Imputer',Imputer()), ('model',IsolationForest())])\n",
    "\n",
    "pipe.fit(X_train,y_train)\n",
    "\n",
    "print(\"\\n\",\"Anomaly detection model is built successfully.\")"
   ]
  },
  {
   "cell_type": "markdown",
   "metadata": {},
   "source": [
    "<div class=\"alert alert-block alert-warning\">\n",
    "# Export the Pipeline object into PMML using the Nyoka package"
   ]
  },
  {
   "cell_type": "code",
   "execution_count": 6,
   "metadata": {
    "ExecuteTime": {
     "end_time": "2018-07-10T06:28:05.359880Z",
     "start_time": "2018-07-10T06:28:04.605880Z"
    }
   },
   "outputs": [],
   "source": [
    "from nyoka import skl_to_pmml\n",
    "skl_to_pmml(pipeline=pipe, col_names=feature_names,target_name='Species', pmml_f_name=\"IsolationForest_model.pmml\")"
   ]
  },
  {
   "cell_type": "code",
   "execution_count": null,
   "metadata": {
    "collapsed": true
   },
   "outputs": [],
   "source": []
  }
 ],
 "metadata": {
  "kernelspec": {
   "display_name": "Python 3",
   "language": "python",
   "name": "python3"
  },
  "language_info": {
   "codemirror_mode": {
    "name": "ipython",
    "version": 3
   },
   "file_extension": ".py",
   "mimetype": "text/x-python",
   "name": "python",
   "nbconvert_exporter": "python",
   "pygments_lexer": "ipython3",
   "version": "3.6.3"
  },
  "latex_envs": {
   "LaTeX_envs_menu_present": true,
   "autoclose": false,
   "autocomplete": true,
   "bibliofile": "biblio.bib",
   "cite_by": "apalike",
   "current_citInitial": 1,
   "eqLabelWithNumbers": true,
   "eqNumInitial": 1,
   "hotkeys": {
    "equation": "Ctrl-E",
    "itemize": "Ctrl-I"
   },
   "labels_anchors": false,
   "latex_user_defs": false,
   "report_style_numbering": false,
   "user_envs_cfg": false
  }
 },
 "nbformat": 4,
 "nbformat_minor": 2
}
