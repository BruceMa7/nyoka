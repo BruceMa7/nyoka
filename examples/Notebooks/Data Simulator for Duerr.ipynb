{
 "cells": [
  {
   "cell_type": "code",
   "execution_count": 3,
   "metadata": {
    "ExecuteTime": {
     "end_time": "2019-06-17T10:01:44.357023Z",
     "start_time": "2019-06-17T10:01:44.197019Z"
    }
   },
   "outputs": [
    {
     "name": "stdout",
     "output_type": "stream",
     "text": [
      "----\n",
      "0\n",
      "xxx\n",
      "Device registered successfully!\n"
     ]
    },
    {
     "data": {
      "text/plain": [
       "(0, 4)"
      ]
     },
     "execution_count": 3,
     "metadata": {},
     "output_type": "execute_result"
    }
   ],
   "source": [
    "import paho.mqtt.client as mqtt\n",
    "import time, threading, ssl, random\n",
    "import time\n",
    "\n",
    "\n",
    "serverUrl   = \"ai.cumulocity.com\"\n",
    "port        = 1883\n",
    "clientId    = \"174311123\"\n",
    "device_name = \"Robot2\"\n",
    "tenant      = \"ai\"\n",
    "username    = \"vins\"\n",
    "password    = \"Welcome123\"\n",
    "\n",
    "# send temperature measurement\n",
    "def sendMeasurements():\n",
    "    try:\n",
    "\n",
    "#         publish(\"s/us\", \"211,\" + str(random.randint(10, 20)))\n",
    "#         publish(\"s/us\", \"212,\" + str(random.randint(10, 20)))     \n",
    "#       publish(\"s/us\",\"200,myCustomTemperatureMeasurement,fahrenheit,75.2,F\")\n",
    "        publish(\"s/us\",\"200,myCustomTemperatureMeasurement01,fahrenheit,\"+str(random.randint(10, 20))+\",F\")\n",
    "        publish(\"s/us\",\"200,myCustomTemperatureMeasurement02,fahrenheit,\"+str(random.randint(0, 10))+\",F\")\n",
    "        publish(\"s/us\",\"200,myCustomTemperatureMeasurement03,fahrenheit,\"+str(random.randint(0, 5))+\",F\")\n",
    "        publish(\"s/us\",\"200,myCustomTemperatureMeasurement04,fahrenheit,\"+str(random.randint(0, 1))+\",F\")\n",
    "        publish(\"s/us\",\"200,myCustomTemperatureMeasurement05,fahrenheit,\"+str(random.randint(10, 20))+\",F\")\n",
    "        publish(\"s/us\",\"200,myCustomTemperatureMeasurement06,fahrenheit,\"+str(random.randint(10, 20))+\",F\")\n",
    "        publish(\"s/us\",\"200,myCustomTemperatureMeasurement07,fahrenheit,\"+str(random.randint(1, 2))+\",F\")\n",
    "        publish(\"s/us\",\"200,myCustomTemperatureMeasurement08,fahrenheit,\"+str(random.randint(0, 10))+\",F\")\n",
    "        publish(\"s/us\",\"200,myCustomTemperatureMeasurement09,fahrenheit,\"+str(random.randint(10, 20))+\",F\")\n",
    "        publish(\"s/us\",\"200,myCustomTemperatureMeasurement010,fahrenheit,\"+str(random.randint(0, 10))+\",F\")\n",
    "        publish(\"s/us\",\"200,myCustomTemperatureMeasurement011,fahrenheit,\"+str(random.randint(10, 20))+\",F\")\n",
    "        publish(\"s/us\",\"200,myCustomTemperatureMeasurement012,fahrenheit,\"+str(random.randint(10, 20))+\",F\")\n",
    "        publish(\"s/us\",\"200,myCustomTemperatureMeasurement013,fahrenheit,\"+str(random.randint(10, 20))+\",F\")\n",
    "        publish(\"s/us\",\"200,myCustomTemperatureMeasurement014,fahrenheit,\"+str(random.randint(10, 20))+\",F\")\n",
    "#         end_time_generation = time.time()\n",
    "\n",
    "\n",
    "        thread = threading.Timer(0.016, sendMeasurements)  # 0.016\n",
    "        thread.daemon=True\n",
    "        thread.start()\n",
    "        while True: time.sleep(1)\n",
    "    except (KeyboardInterrupt, SystemExit):\n",
    "        print ('Received keyboard interrupt, quitting ...')\n",
    "        \n",
    "# publish a message\n",
    "def publish(topic, message, waitForAck = False):\n",
    "    mid = client.publish(topic, message, 2)[1]\n",
    "\n",
    "            \n",
    "\n",
    "def on_publish(client, userdata, mid):\n",
    "    receivedMessages.append(mid)\n",
    "\n",
    "\n",
    "# connect the client to Cumulocity and register a device\n",
    "client = mqtt.Client(clientId)\n",
    "client.username_pw_set(username, password)\n",
    "client.on_publish = on_publish\n",
    "print('----')\n",
    "print(client.connect(serverUrl, port))\n",
    "print('xxx')\n",
    "client.loop_start()\n",
    "publish(\"s/us\", \"100,\" + device_name + \",c8y_MQTTDevice\", True)\n",
    "publish(\"s/us\", \"110,S123456789,MQTT test model, Rev0.1\")\n",
    "publish(\"s/us\", \"114,c8y_Restart\")\n",
    "print( \"Device registered successfully!\")\n",
    "\n",
    "client.subscribe(\"s/ds\")\n",
    "# sendMeasurements()\n",
    "    "
   ]
  },
  {
   "cell_type": "code",
   "execution_count": null,
   "metadata": {},
   "outputs": [],
   "source": []
  }
 ],
 "metadata": {
  "kernelspec": {
   "display_name": "Python 3",
   "language": "python",
   "name": "python3"
  },
  "language_info": {
   "codemirror_mode": {
    "name": "ipython",
    "version": 3
   },
   "file_extension": ".py",
   "mimetype": "text/x-python",
   "name": "python",
   "nbconvert_exporter": "python",
   "pygments_lexer": "ipython3",
   "version": "3.6.5"
  }
 },
 "nbformat": 4,
 "nbformat_minor": 2
}
