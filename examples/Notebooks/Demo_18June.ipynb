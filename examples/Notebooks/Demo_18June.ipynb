{
 "cells": [
  {
   "cell_type": "markdown",
   "metadata": {},
   "source": [
    "### Import Nyoka"
   ]
  },
  {
   "cell_type": "code",
   "execution_count": 1,
   "metadata": {
    "ExecuteTime": {
     "end_time": "2019-06-20T11:40:54.255421Z",
     "start_time": "2019-06-20T11:40:53.079384Z"
    }
   },
   "outputs": [],
   "source": [
    "from nyoka import model_to_pmml"
   ]
  },
  {
   "cell_type": "markdown",
   "metadata": {},
   "source": [
    "### Scripts"
   ]
  },
  {
   "cell_type": "code",
   "execution_count": 2,
   "metadata": {
    "ExecuteTime": {
     "end_time": "2019-06-20T11:40:54.956445Z",
     "start_time": "2019-06-20T11:40:54.952442Z"
    }
   },
   "outputs": [],
   "source": [
    "def script1():\n",
    "    r3 = r1+r2\n",
    "    \n",
    "def script2():\n",
    "    r6 = r1+r2+r3-r4"
   ]
  },
  {
   "cell_type": "markdown",
   "metadata": {},
   "source": [
    "### Create a pipeline for preprocessing"
   ]
  },
  {
   "cell_type": "code",
   "execution_count": 3,
   "metadata": {
    "ExecuteTime": {
     "end_time": "2019-06-20T11:41:14.205011Z",
     "start_time": "2019-06-20T11:41:08.248843Z"
    }
   },
   "outputs": [],
   "source": [
    "import pandas as pd\n",
    "from sklearn import datasets\n",
    "from sklearn.pipeline import Pipeline\n",
    "from sklearn.preprocessing import StandardScaler, Imputer\n",
    "from sklearn_pandas import DataFrameMapper\n",
    "from sklearn.ensemble import RandomForestClassifier\n",
    "from sklearn.linear_model import LogisticRegression\n",
    "from sklearn.svm import SVC\n",
    "\n",
    "iris = datasets.load_iris()\n",
    "irisd = pd.DataFrame(iris.data, columns=iris.feature_names)\n",
    "irisd['Species'] = iris.target\n",
    "\n",
    "features = irisd.columns.drop('Species')\n",
    "target = 'Species'\n",
    "\n",
    "pipelineOnly = Pipeline([\n",
    "    ('Scaling', StandardScaler()), \n",
    "    ('Imputing', Imputer())\n",
    "])\n",
    "\n",
    "pipelineOnly.fit(irisd[features])\n",
    "Xdata = pipelineOnly.transform(irisd[features])"
   ]
  },
  {
   "cell_type": "markdown",
   "metadata": {},
   "source": [
    "### sklearn model"
   ]
  },
  {
   "cell_type": "code",
   "execution_count": 5,
   "metadata": {
    "ExecuteTime": {
     "end_time": "2019-06-19T08:59:15.399241Z",
     "start_time": "2019-06-19T08:59:15.366246Z"
    }
   },
   "outputs": [
    {
     "data": {
      "text/plain": [
       "RandomForestClassifier(bootstrap=True, class_weight=None, criterion='gini',\n",
       "            max_depth=None, max_features='auto', max_leaf_nodes=None,\n",
       "            min_impurity_decrease=0.0, min_impurity_split=None,\n",
       "            min_samples_leaf=1, min_samples_split=2,\n",
       "            min_weight_fraction_leaf=0.0, n_estimators=10, n_jobs=1,\n",
       "            oob_score=False, random_state=None, verbose=0,\n",
       "            warm_start=False)"
      ]
     },
     "execution_count": 5,
     "metadata": {},
     "output_type": "execute_result"
    }
   ],
   "source": [
    "rfObj = RandomForestClassifier()\n",
    "rfObj.fit(Xdata,irisd['Species'])"
   ]
  },
  {
   "cell_type": "markdown",
   "metadata": {},
   "source": [
    "### Exporting pipeline and model object seperately - sklearn"
   ]
  },
  {
   "cell_type": "code",
   "execution_count": 5,
   "metadata": {
    "ExecuteTime": {
     "end_time": "2019-06-18T07:04:05.843207Z",
     "start_time": "2019-06-18T07:04:05.792201Z"
    }
   },
   "outputs": [],
   "source": [
    "toExportDict={\n",
    "    'model1':{\n",
    "        'preProcessingScript':{'scripts':[script1,script2], 'scriptpurpose':['train','score']},\n",
    "        'pipelineObj':pipelineOnly,\n",
    "        'modelObj':rfObj,\n",
    "        'featuresUsed':features,\n",
    "        'targetName':'Species',\n",
    "        'postProcessingScript':{'scripts':[script1], 'scriptpurpose':['postprocess']},\n",
    "        'taskType': 'trainAndscore'\n",
    "    }\n",
    "}\n",
    "\n",
    "pmml = model_to_pmml(toExportDict, pmml_f_name=\"sklearnppOnly.pmml\")"
   ]
  },
  {
   "cell_type": "markdown",
   "metadata": {},
   "source": [
    "### Keras model"
   ]
  },
  {
   "cell_type": "code",
   "execution_count": 4,
   "metadata": {
    "ExecuteTime": {
     "end_time": "2019-06-20T11:41:41.826838Z",
     "start_time": "2019-06-20T11:41:23.315287Z"
    }
   },
   "outputs": [
    {
     "name": "stderr",
     "output_type": "stream",
     "text": [
      "C:\\Users\\vran\\AppData\\Local\\Continuum\\anaconda3\\lib\\site-packages\\h5py\\__init__.py:36: FutureWarning: Conversion of the second argument of issubdtype from `float` to `np.floating` is deprecated. In future, it will be treated as `np.float64 == np.dtype(float).type`.\n",
      "  from ._conv import register_converters as _register_converters\n",
      "Using TensorFlow backend.\n"
     ]
    },
    {
     "data": {
      "text/plain": [
       "<keras.callbacks.History at 0x1f37ac976d8>"
      ]
     },
     "execution_count": 4,
     "metadata": {},
     "output_type": "execute_result"
    }
   ],
   "source": [
    "import keras\n",
    "from keras.models import Sequential\n",
    "from keras.layers import Dense, Dropout, Activation\n",
    "from keras.optimizers import SGD\n",
    "\n",
    "# Generate dummy data\n",
    "import numpy as np\n",
    "x_train = np.random.random((1000, 20))\n",
    "y_train = keras.utils.to_categorical(np.random.randint(10, size=(1000, 1)), num_classes=10)\n",
    "x_test = np.random.random((100, 20))\n",
    "y_test = keras.utils.to_categorical(np.random.randint(10, size=(100, 1)), num_classes=10)\n",
    "\n",
    "model = Sequential()\n",
    "# Dense(64) is a fully-connected layer with 64 hidden units.\n",
    "# in the first layer, you must specify the expected input data shape:\n",
    "# here, 20-dimensional vectors.\n",
    "model.add(Dense(64, activation='relu', input_dim=20))\n",
    "model.add(Dropout(0.5))\n",
    "model.add(Dense(64, activation='relu'))\n",
    "model.add(Dropout(0.5))\n",
    "model.add(Dense(10, activation='softmax'))\n",
    "\n",
    "sgd = SGD(lr=0.01, decay=1e-6, momentum=0.9, nesterov=True)\n",
    "model.compile(loss='categorical_crossentropy',\n",
    "              optimizer=sgd,\n",
    "              metrics=['accuracy'])\n",
    "\n",
    "model.fit(x_train, y_train,\n",
    "          epochs=20,\n",
    "          batch_size=128, verbose=0)"
   ]
  },
  {
   "cell_type": "markdown",
   "metadata": {
    "ExecuteTime": {
     "end_time": "2019-06-15T16:54:51.221754Z",
     "start_time": "2019-06-15T16:54:51.189748Z"
    }
   },
   "source": [
    "### Exporting pipeline and model object seperately - Keras"
   ]
  },
  {
   "cell_type": "code",
   "execution_count": 6,
   "metadata": {
    "ExecuteTime": {
     "end_time": "2019-06-20T11:42:43.489388Z",
     "start_time": "2019-06-20T11:42:43.469386Z"
    }
   },
   "outputs": [],
   "source": [
    "toExportDict={\n",
    "    'model1':{\n",
    "        'hyperparameters':None,\n",
    "        'preProcessingScript':{'scripts':[script1,script2], 'scriptpurpose':['train','score']},\n",
    "        'pipelineObj':pipelineOnly,\n",
    "        'modelObj':model,\n",
    "        'featuresUsed':features,\n",
    "        'targetName':None,\n",
    "        'postProcessingScript':{'scripts':[script1], 'scriptpurpose':['postprocess']},\n",
    "        'taskType': 'trainAndscore'\n",
    "    }\n",
    "}\n",
    "\n",
    "pmml = model_to_pmml(toExportDict, pmml_f_name=\"KerasppOnly.pmml\")"
   ]
  },
  {
   "cell_type": "markdown",
   "metadata": {},
   "source": [
    "### Exporting pipeline and model object seperately - Multiple models"
   ]
  },
  {
   "cell_type": "code",
   "execution_count": 8,
   "metadata": {
    "ExecuteTime": {
     "end_time": "2019-06-18T07:06:03.193917Z",
     "start_time": "2019-06-18T07:06:03.144959Z"
    }
   },
   "outputs": [],
   "source": [
    "toExportDict={\n",
    "    'model1':{\n",
    "        'preProcessingScript':{'scripts':[script1,script2], 'scriptpurpose':['train','score']},\n",
    "        'pipelineObj':pipelineOnly,\n",
    "        'modelObj':rfObj,\n",
    "        'featuresUsed':features,\n",
    "        'targetName':'Species',\n",
    "        'postProcessingScript':{'scripts':[script1], 'scriptpurpose':['postprocess']},\n",
    "        'taskType': 'trainAndscore'\n",
    "    },\n",
    "    'model2':{\n",
    "        'preProcessingScript':{'scripts':[script1,script2], 'scriptpurpose':['train','score']},\n",
    "        'pipelineObj':pipelineOnly,\n",
    "        'modelObj':model,\n",
    "        'featuresUsed':features,\n",
    "        'targetName':None,\n",
    "        'postProcessingScript':{'scripts':[script1], 'scriptpurpose':['postprocess']},\n",
    "        'taskType': 'trainAndscore'\n",
    "    },\n",
    "}\n",
    "\n",
    "pmml = model_to_pmml(toExportDict, pmml_f_name=\"MultipleModels.pmml\")"
   ]
  }
 ],
 "metadata": {
  "kernelspec": {
   "display_name": "Python 3",
   "language": "python",
   "name": "python3"
  },
  "language_info": {
   "codemirror_mode": {
    "name": "ipython",
    "version": 3
   },
   "file_extension": ".py",
   "mimetype": "text/x-python",
   "name": "python",
   "nbconvert_exporter": "python",
   "pygments_lexer": "ipython3",
   "version": "3.6.5"
  }
 },
 "nbformat": 4,
 "nbformat_minor": 2
}
