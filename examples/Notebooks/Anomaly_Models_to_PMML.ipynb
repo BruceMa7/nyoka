{
 "cells": [
  {
   "cell_type": "markdown",
   "metadata": {},
   "source": [
    "<div class=\"alert alert-block alert-info\">\n",
    "# <font size = 30>anomaly → PMML (using Nyoka) </font>\n",
    "\n",
    "<div class=\"alert alert-block alert-success\">\n",
    "### <font color=purple> Exporter: Anomaly Detection models (OneClassSVM) </font>\n",
    "### <font color=purple> Data Set used: iris </font>\n",
    "\n",
    "\n",
    "### <font color=purple>**STEPS**: </font>\n",
    "<font color=brown>\n",
    "- Build the model using sklearn OneClassSVM\n",
    "- Build PMML (Data Dictionary, Mining schema, Ouput, PMML) using Nyoka classes\n",
    "- Upload PMML into Zementis using REST API and perform predictions using test data set\n",
    "- Predict using original sklearn model using test data set\n",
    "- Compare both the predictions"
   ]
  },
  {
   "cell_type": "code",
   "execution_count": 1,
   "metadata": {
    "ExecuteTime": {
     "end_time": "2018-07-10T06:27:56.864880Z",
     "start_time": "2018-07-10T06:27:56.839880Z"
    }
   },
   "outputs": [
    {
     "data": {
      "text/html": [
       "<style>.container { width:100% !important; }</style>"
      ],
      "text/plain": [
       "<IPython.core.display.HTML object>"
      ]
     },
     "metadata": {},
     "output_type": "display_data"
    }
   ],
   "source": [
    "# Jupyter cells: 100% width \n",
    "from IPython.core.display import display, HTML\n",
    "display(HTML(\"<style>.container { width:100% !important; }</style>\"))\n",
    "%config NotebookApp.iopub_data_rate_limit = 7000000000000.0 \n",
    "%config NotebookApp.rate_limit_window=60.0"
   ]
  },
  {
   "cell_type": "markdown",
   "metadata": {},
   "source": [
    "<div class=\"alert alert-block alert-warning\">\n",
    "# Pre-processing, Model building (using pipeline) for iris data set"
   ]
  },
  {
   "cell_type": "code",
   "execution_count": 2,
   "metadata": {
    "ExecuteTime": {
     "end_time": "2018-07-10T06:27:59.647880Z",
     "start_time": "2018-07-10T06:27:58.294880Z"
    }
   },
   "outputs": [
    {
     "name": "stdout",
     "output_type": "stream",
     "text": [
      "\n",
      " Anomaly detection model is built successfully.\n"
     ]
    }
   ],
   "source": [
    "import pandas as pd\n",
    "import numpy as np\n",
    "from sklearn.model_selection import train_test_split\n",
    "from requests.auth import HTTPBasicAuth\n",
    "import requests\n",
    "import json\n",
    "from sklearn import datasets\n",
    "from sklearn.pipeline import Pipeline\n",
    "from sklearn.preprocessing import StandardScaler, Imputer\n",
    "from sklearn.svm import OneClassSVM\n",
    "\n",
    "irisdata = datasets.load_iris()\n",
    "iris = pd.DataFrame(irisdata.data,columns=irisdata.feature_names)\n",
    "iris['Species'] = irisdata.target\n",
    "\n",
    "feature_names = iris.columns.drop('Species')\n",
    "\n",
    "X_train, X_test, y_train, y_test = train_test_split(iris[iris.columns.drop(['Species'])], \n",
    "                                                    iris['Species'], test_size=0.33, random_state=101)\n",
    "\n",
    "X_test.to_csv(\"iris_test.csv\")\n",
    "\n",
    "\n",
    "pipe = Pipeline([('standard_scaler',StandardScaler()), ('Imputer',Imputer()), ('model',OneClassSVM())])\n",
    "\n",
    "pipe.fit(X_train)\n",
    "\n",
    "print(\"\\n\",\"Anomaly detection model is built successfully.\")"
   ]
  },
  {
   "cell_type": "markdown",
   "metadata": {},
   "source": [
    "<div class=\"alert alert-block alert-warning\">\n",
    "# Export the Pipeline object into PMML using the Nyoka package"
   ]
  },
  {
   "cell_type": "code",
   "execution_count": 3,
   "metadata": {
    "ExecuteTime": {
     "end_time": "2018-07-10T06:28:05.359880Z",
     "start_time": "2018-07-10T06:28:04.605880Z"
    }
   },
   "outputs": [],
   "source": [
    "from nyoka import skl_to_pmml\n",
    "skl_to_pmml(pipeline=pipe, col_names=feature_names, pmml_f_name=\"anomaly_model.pmml\")"
   ]
  },
  {
   "cell_type": "markdown",
   "metadata": {},
   "source": [
    "<div class=\"alert alert-block alert-warning\">\n",
    "# PMML Upload using REST APIs"
   ]
  },
  {
   "cell_type": "markdown",
   "metadata": {},
   "source": [
    "<div class=\"alert alert-block alert-warning\">\n",
    "### Adapa engine URL and authentication"
   ]
  },
  {
   "cell_type": "code",
   "execution_count": 3,
   "metadata": {
    "ExecuteTime": {
     "end_time": "2018-07-10T06:28:41.567880Z",
     "start_time": "2018-07-10T06:28:41.564880Z"
    }
   },
   "outputs": [],
   "source": [
    "# Set the URL and auth\n",
    "url = \"http://dcindgo01:8083/adapars/\"\n",
    "auth = HTTPBasicAuth('Administrator', 'manage')"
   ]
  },
  {
   "cell_type": "markdown",
   "metadata": {},
   "source": [
    "<div class=\"alert alert-block alert-warning\">\n",
    "### Check for the model existence"
   ]
  },
  {
   "cell_type": "code",
   "execution_count": 5,
   "metadata": {
    "ExecuteTime": {
     "end_time": "2018-07-10T06:28:42.737880Z",
     "start_time": "2018-07-10T06:28:42.624880Z"
    }
   },
   "outputs": [
    {
     "name": "stdout",
     "output_type": "stream",
     "text": [
      "Model with the same name was deleted from Zementis! You can go ahead and upload your pmml file...\n"
     ]
    }
   ],
   "source": [
    "# Check if the model is already uploaded into Zementis, if yes delete it\n",
    "response = requests.get(url + \"models/\", auth=auth)\n",
    "if 'OneClassSVM' in json.loads(response.text)['models']:\n",
    "    requests.delete(url + \"model/OneClassSVM\",auth=auth)\n",
    "    print(\"Model with the same name was deleted from Zementis! You can go ahead and upload your pmml file...\")\n",
    "else:\n",
    "    print(\"OneClassSVM model does not exist in Zementis! You can go ahead and upload your pmml file...\")"
   ]
  },
  {
   "cell_type": "markdown",
   "metadata": {},
   "source": [
    "<div class=\"alert alert-block alert-warning\">\n",
    "### Upload the new PMML file"
   ]
  },
  {
   "cell_type": "code",
   "execution_count": 6,
   "metadata": {
    "ExecuteTime": {
     "end_time": "2018-07-06T09:34:21.545828Z",
     "start_time": "2018-07-06T09:34:19.558039Z"
    }
   },
   "outputs": [
    {
     "name": "stdout",
     "output_type": "stream",
     "text": [
      "201\n",
      "{\n",
      "  \"modelName\" : \"OneClassSVM\",\n",
      "  \"description\" : \"Default description\",\n",
      "  \"isActive\" : true,\n",
      "  \"inputFields\" : [ {\n",
      "    \"usage\" : \"SUPPLEMENTARY\",\n",
      "    \"name\" : \"sepal length (cm)\",\n",
      "    \"type\" : \"DOUBLE\"\n",
      "  }, {\n",
      "    \"usage\" : \"SUPPLEMENTARY\",\n",
      "    \"name\" : \"sepal width (cm)\",\n",
      "    \"type\" : \"DOUBLE\"\n",
      "  }, {\n",
      "    \"usage\" : \"SUPPLEMENTARY\",\n",
      "    \"name\" : \"petal length (cm)\",\n",
      "    \"type\" : \"DOUBLE\"\n",
      "  }, {\n",
      "    \"usage\" : \"SUPPLEMENTARY\",\n",
      "    \"name\" : \"petal width (cm)\",\n",
      "    \"type\" : \"DOUBLE\"\n",
      "  } ],\n",
      "  \"outputFields\" : [ {\n",
      "    \"usage\" : \"OUTPUT\",\n",
      "    \"name\" : \"anomalyScore\",\n",
      "    \"type\" : \"FLOAT\"\n",
      "  }, {\n",
      "    \"usage\" : \"OUTPUT\",\n",
      "    \"name\" : \"anomaly\",\n",
      "    \"type\" : \"BOOLEAN\"\n",
      "  } ]\n",
      "}\n"
     ]
    }
   ],
   "source": [
    "# Upload the PMML into Zementis \n",
    "pmml_file = open(\"anomaly_model.pmml\",\"r\")\n",
    "pmml = {'file': pmml_file}\n",
    "\n",
    "pmml_upload = requests.post(url + \"models/\", files=pmml, auth=auth)\n",
    "\n",
    "print(pmml_upload.status_code)\n",
    "print(pmml_upload.text)"
   ]
  },
  {
   "cell_type": "markdown",
   "metadata": {},
   "source": [
    "<div class=\"alert alert-block alert-warning\">\n",
    "### Extract the model name from model properties"
   ]
  },
  {
   "cell_type": "code",
   "execution_count": 7,
   "metadata": {
    "ExecuteTime": {
     "end_time": "2018-06-27T08:59:18.915692Z",
     "start_time": "2018-06-27T08:59:18.910692Z"
    }
   },
   "outputs": [
    {
     "name": "stdout",
     "output_type": "stream",
     "text": [
      "OneClassSVM\n"
     ]
    }
   ],
   "source": [
    "# Extract the model name from model properties\n",
    "model_properties = json.loads(pmml_upload.text)\n",
    "model_name = model_properties['modelName']\n",
    "print(model_name)"
   ]
  },
  {
   "cell_type": "markdown",
   "metadata": {},
   "source": [
    "<div class=\"alert alert-block alert-warning\">\n",
    "# Predictions using REST APIs"
   ]
  },
  {
   "cell_type": "markdown",
   "metadata": {},
   "source": [
    "<div class=\"alert alert-block alert-warning\">\n",
    "## Single record prediction"
   ]
  },
  {
   "cell_type": "code",
   "execution_count": 8,
   "metadata": {
    "ExecuteTime": {
     "end_time": "2018-06-27T09:00:26.133848Z",
     "start_time": "2018-06-27T09:00:25.626955Z"
    }
   },
   "outputs": [
    {
     "name": "stdout",
     "output_type": "stream",
     "text": [
      "{'sepal length (cm)': 5.3, 'sepal width (cm)': 3.7, 'petal length (cm)': 1.5, 'petal width (cm)': 0.2} \n",
      "\n",
      "Status code: 200\n"
     ]
    },
    {
     "data": {
      "text/plain": [
       "{'model': 'OneClassSVM',\n",
       " 'outputs': [{'anomalyScore': -1.5678122, 'anomaly': True}]}"
      ]
     },
     "execution_count": 8,
     "metadata": {},
     "output_type": "execute_result"
    }
   ],
   "source": [
    "# Create a single record for scoring\n",
    "single_rec = X_test.iloc[21].to_dict()\n",
    "print(single_rec,\"\\n\")\n",
    "\n",
    "for i in single_rec.keys():\n",
    "    single_rec[i] = int(single_rec[i])\n",
    "\n",
    "record = json.dumps(single_rec)\n",
    "\n",
    "predictions_data = requests.put(url + \"apply/\" + model_name, data=record, auth=auth)\n",
    "print(\"Status code:\",predictions_data.status_code)\n",
    "json.loads(predictions_data.text)"
   ]
  },
  {
   "cell_type": "markdown",
   "metadata": {},
   "source": [
    "<div class=\"alert alert-block alert-warning\">\n",
    "# Multiple records prediction"
   ]
  },
  {
   "cell_type": "code",
   "execution_count": 9,
   "metadata": {
    "ExecuteTime": {
     "end_time": "2018-06-27T09:00:40.364977Z",
     "start_time": "2018-06-27T09:00:40.354977Z"
    }
   },
   "outputs": [
    {
     "data": {
      "text/html": [
       "<div>\n",
       "<style scoped>\n",
       "    .dataframe tbody tr th:only-of-type {\n",
       "        vertical-align: middle;\n",
       "    }\n",
       "\n",
       "    .dataframe tbody tr th {\n",
       "        vertical-align: top;\n",
       "    }\n",
       "\n",
       "    .dataframe thead th {\n",
       "        text-align: right;\n",
       "    }\n",
       "</style>\n",
       "<table border=\"1\" class=\"dataframe\">\n",
       "  <thead>\n",
       "    <tr style=\"text-align: right;\">\n",
       "      <th></th>\n",
       "      <th>Unnamed: 0</th>\n",
       "      <th>sepal length (cm)</th>\n",
       "      <th>sepal width (cm)</th>\n",
       "      <th>petal length (cm)</th>\n",
       "      <th>petal width (cm)</th>\n",
       "    </tr>\n",
       "  </thead>\n",
       "  <tbody>\n",
       "    <tr>\n",
       "      <th>0</th>\n",
       "      <td>33</td>\n",
       "      <td>5.5</td>\n",
       "      <td>4.2</td>\n",
       "      <td>1.4</td>\n",
       "      <td>0.2</td>\n",
       "    </tr>\n",
       "    <tr>\n",
       "      <th>1</th>\n",
       "      <td>16</td>\n",
       "      <td>5.4</td>\n",
       "      <td>3.9</td>\n",
       "      <td>1.3</td>\n",
       "      <td>0.4</td>\n",
       "    </tr>\n",
       "    <tr>\n",
       "      <th>2</th>\n",
       "      <td>43</td>\n",
       "      <td>5.0</td>\n",
       "      <td>3.5</td>\n",
       "      <td>1.6</td>\n",
       "      <td>0.6</td>\n",
       "    </tr>\n",
       "    <tr>\n",
       "      <th>3</th>\n",
       "      <td>129</td>\n",
       "      <td>7.2</td>\n",
       "      <td>3.0</td>\n",
       "      <td>5.8</td>\n",
       "      <td>1.6</td>\n",
       "    </tr>\n",
       "    <tr>\n",
       "      <th>4</th>\n",
       "      <td>50</td>\n",
       "      <td>7.0</td>\n",
       "      <td>3.2</td>\n",
       "      <td>4.7</td>\n",
       "      <td>1.4</td>\n",
       "    </tr>\n",
       "  </tbody>\n",
       "</table>\n",
       "</div>"
      ],
      "text/plain": [
       "   Unnamed: 0  sepal length (cm)  sepal width (cm)  petal length (cm)  \\\n",
       "0          33                5.5               4.2                1.4   \n",
       "1          16                5.4               3.9                1.3   \n",
       "2          43                5.0               3.5                1.6   \n",
       "3         129                7.2               3.0                5.8   \n",
       "4          50                7.0               3.2                4.7   \n",
       "\n",
       "   petal width (cm)  \n",
       "0               0.2  \n",
       "1               0.4  \n",
       "2               0.6  \n",
       "3               1.6  \n",
       "4               1.4  "
      ]
     },
     "execution_count": 9,
     "metadata": {},
     "output_type": "execute_result"
    }
   ],
   "source": [
    "# Read the test data into Pandas data frame and display first 5 rows\n",
    "df = pd.read_csv(\"iris_test.csv\")\n",
    "df.head()"
   ]
  },
  {
   "cell_type": "code",
   "execution_count": 10,
   "metadata": {
    "ExecuteTime": {
     "end_time": "2018-06-27T09:00:50.495153Z",
     "start_time": "2018-06-27T09:00:47.842395Z"
    }
   },
   "outputs": [],
   "source": [
    "# Perform the predictions using test data\n",
    "test_file = open(\"iris_test.csv\",\"r\")\n",
    "test_csv = {'file':test_file}\n",
    "\n",
    "predictions_data = requests.post(url + \"apply/\" + model_name, files=test_csv, auth=auth)\n",
    "\n",
    "# Compare the predictions of Zementis against original sklearn model\n",
    "predictions = predictions_data.text.split()\n",
    "predictions.pop(0)\n",
    "\n",
    "anomaly_scores = [predictions[i].split(\",\")[0] for i in range(len(predictions))]\n",
    "predictions = [predictions[i].split(\",\")[1] for i in range(len(predictions))]\n",
    "original = list(pipe.predict(X_test))\n",
    "\n",
    "def convert_anomaly(val):\n",
    "    if val == 'false':\n",
    "        return 1\n",
    "    else:\n",
    "        return -1\n",
    "    \n",
    "results = list(map(convert_anomaly, predictions))\n",
    "\n",
    "anomaly_df = pd.DataFrame(pd.Series(anomaly_scores), columns=['Anomaly_Score'])\n",
    "anomaly_df['Anomaly'] = results\n",
    "\n",
    "#anomaly_df.head()"
   ]
  },
  {
   "cell_type": "code",
   "execution_count": 11,
   "metadata": {},
   "outputs": [
    {
     "name": "stdout",
     "output_type": "stream",
     "text": [
      "Do Zementis and sklearn predictions match? : True \n",
      "\n",
      "Number of unmatched predictions: 0\n"
     ]
    }
   ],
   "source": [
    "print(\"Do Zementis and sklearn predictions match? :\", np.array_equal(results,original), \"\\n\")\n",
    "print(\"Number of unmatched predictions:\", len([(a,b) for (a,b) in zip(results,original) if a!=b]))"
   ]
  }
 ],
 "metadata": {
  "kernelspec": {
   "display_name": "Python 3",
   "language": "python",
   "name": "python3"
  },
  "language_info": {
   "codemirror_mode": {
    "name": "ipython",
    "version": 3
   },
   "file_extension": ".py",
   "mimetype": "text/x-python",
   "name": "python",
   "nbconvert_exporter": "python",
   "pygments_lexer": "ipython3",
   "version": "3.6.5"
  },
  "latex_envs": {
   "LaTeX_envs_menu_present": true,
   "autoclose": false,
   "autocomplete": true,
   "bibliofile": "biblio.bib",
   "cite_by": "apalike",
   "current_citInitial": 1,
   "eqLabelWithNumbers": true,
   "eqNumInitial": 1,
   "hotkeys": {
    "equation": "Ctrl-E",
    "itemize": "Ctrl-I"
   },
   "labels_anchors": false,
   "latex_user_defs": false,
   "report_style_numbering": false,
   "user_envs_cfg": false
  }
 },
 "nbformat": 4,
 "nbformat_minor": 2
}
