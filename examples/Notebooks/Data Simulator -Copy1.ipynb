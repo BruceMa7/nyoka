{
 "cells": [
  {
   "cell_type": "code",
   "execution_count": 2,
   "metadata": {
    "ExecuteTime": {
     "end_time": "2019-06-19T04:07:11.449131Z",
     "start_time": "2019-06-19T04:07:11.269133Z"
    }
   },
   "outputs": [
    {
     "name": "stdout",
     "output_type": "stream",
     "text": [
      "----\n",
      "0\n",
      "xxx\n",
      "Device registered successfully!\n"
     ]
    },
    {
     "data": {
      "text/plain": [
       "(0, 4)"
      ]
     },
     "execution_count": 2,
     "metadata": {},
     "output_type": "execute_result"
    }
   ],
   "source": [
    "import paho.mqtt.client as mqtt\n",
    "import time, threading, ssl, random\n",
    "import time\n",
    "\n",
    "\n",
    "serverUrl   = \"ai.cumulocity.com\"\n",
    "port        = 1883\n",
    "clientId    = \"my_mqtt_python_client\"\n",
    "device_name = \"Robot42\"\n",
    "tenant      = \"ai.cumulocity.com\"\n",
    "username    = \"ai/vins\"\n",
    "password    = \"Welcome123\"\n",
    "\n",
    "# send temperature measurement\n",
    "def sendMeasurements():\n",
    "    i=0\n",
    "    try:\n",
    "        publish(\"s/us\",\"200,sensor1,fahrenheit,\"+str(random.randint(10, 20))+\",F\")\n",
    "        publish(\"s/us\",\"200,sensor2,fahrenheit,\"+str(random.randint(0, 10))+\",F\")\n",
    "        publish(\"s/us\",\"200,sensor3,fahrenheit,\"+str(random.randint(0, 5))+\",F\")\n",
    "        publish(\"s/us\",\"200,sensor4,fahrenheit,\"+str(random.randint(0, 1))+\",F\")\n",
    "        publish(\"s/us\",\"200,sensor5,fahrenheit,\"+str(random.randint(10, 20))+\",F\")\n",
    "        publish(\"s/us\",\"200,sensor6,fahrenheit,\"+str(random.randint(10, 20))+\",F\")\n",
    "        publish(\"s/us\",\"200,sensor7,fahrenheit,\"+str(random.randint(1, 2))+\",F\")\n",
    "        publish(\"s/us\",\"200,sensor8,fahrenheit,\"+str(random.randint(0, 10))+\",F\")\n",
    "        publish(\"s/us\",\"200,sensor9,fahrenheit,\"+str(random.randint(10, 20))+\",F\")\n",
    "        publish(\"s/us\",\"200,sensor10,fahrenheit,\"+str(random.randint(0, 10))+\",F\")\n",
    "        publish(\"s/us\",\"200,sensor11,fahrenheit,\"+str(random.randint(10, 20))+\",F\")\n",
    "        publish(\"s/us\",\"200,sensor12,fahrenheit,\"+str(random.randint(10, 20))+\",F\")\n",
    "        publish(\"s/us\",\"200,sensor13,fahrenheit,\"+str(random.randint(10, 20))+\",F\")\n",
    "        publish(\"s/us\",\"200,sensor14,fahrenheit,\"+str(random.randint(10, 20))+\",F\")\n",
    "        publish(\"s/us\",\"200,sensor15,fahrenheit,\"+str(random.randint(10, 20))+\",F\")\n",
    "        publish(\"s/us\",\"200,sensor16,fahrenheit,\"+str(random.randint(10, 20))+\",F\")\n",
    "        publish(\"s/us\",\"200,sensor17,fahrenheit,\"+str(random.randint(10, 20))+\",F\")\n",
    "        publish(\"s/us\",\"200,sensor18,fahrenheit,\"+str(random.randint(10, 20))+\",F\")\n",
    "        publish(\"s/us\",\"200,sensor19,fahrenheit,\"+str(random.randint(10, 20))+\",F\")\n",
    "        publish(\"s/us\",\"200,sensor20,fahrenheit,\"+str(random.randint(10, 20))+\",F\")\n",
    "        i+=1\n",
    "        if(i%10000)==0:\n",
    "            print(i)\n",
    "\n",
    "\n",
    "        thread = threading.Timer(1, sendMeasurements)  # 0.016\n",
    "        thread.daemon=True\n",
    "        thread.start()\n",
    "        while True: time.sleep(1)\n",
    "    except (KeyboardInterrupt, SystemExit):\n",
    "        print ('Received keyboard interrupt, quitting ...')\n",
    "        \n",
    "# publish a message\n",
    "def publish(topic, message, waitForAck = False):\n",
    "    mid = client.publish(topic, message, 2)[1]\n",
    "\n",
    "            \n",
    "\n",
    "def on_publish(client, userdata, mid):\n",
    "    receivedMessages.append(mid)\n",
    "\n",
    "\n",
    "# connect the client to Cumulocity and register a device\n",
    "client = mqtt.Client(clientId)\n",
    "client.username_pw_set(username, password)\n",
    "client.on_publish = on_publish\n",
    "print('----')\n",
    "print(client.connect(serverUrl, port))\n",
    "print('xxx')\n",
    "client.loop_start()\n",
    "publish(\"s/us\", \"100,\" + device_name + \",c8y_MQTTDevice\", True)\n",
    "publish(\"s/us\", \"110,S123456789,MQTT test model, Rev0.1\")\n",
    "publish(\"s/us\", \"114,c8y_Restart\")\n",
    "print( \"Device registered successfully!\")\n",
    "\n",
    "client.subscribe(\"s/ds\")    "
   ]
  },
  {
   "cell_type": "code",
   "execution_count": null,
   "metadata": {
    "ExecuteTime": {
     "end_time": "2019-06-18T06:21:08.824420Z",
     "start_time": "2019-06-18T06:17:36.626635Z"
    }
   },
   "outputs": [],
   "source": [
    "sendMeasurements()"
   ]
  }
 ],
 "metadata": {
  "kernelspec": {
   "display_name": "Python 3",
   "language": "python",
   "name": "python3"
  },
  "language_info": {
   "codemirror_mode": {
    "name": "ipython",
    "version": 3
   },
   "file_extension": ".py",
   "mimetype": "text/x-python",
   "name": "python",
   "nbconvert_exporter": "python",
   "pygments_lexer": "ipython3",
   "version": "3.6.5"
  }
 },
 "nbformat": 4,
 "nbformat_minor": 2
}
