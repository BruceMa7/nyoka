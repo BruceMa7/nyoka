{
 "cells": [
  {
   "cell_type": "code",
   "execution_count": 1,
   "metadata": {
    "ExecuteTime": {
     "end_time": "2019-06-26T06:31:52.642120Z",
     "start_time": "2019-06-26T06:31:45.846869Z"
    }
   },
   "outputs": [],
   "source": [
    "import pandas as pd\n",
    "import numpy as np\n",
    "from sklearn import ensemble,metrics\n",
    "from sklearn import datasets\n",
    "import lightgbm as lgb"
   ]
  },
  {
   "cell_type": "markdown",
   "metadata": {},
   "source": [
    "## Data Preparation"
   ]
  },
  {
   "cell_type": "code",
   "execution_count": 2,
   "metadata": {
    "ExecuteTime": {
     "end_time": "2019-06-26T06:31:54.271157Z",
     "start_time": "2019-06-26T06:31:54.012155Z"
    }
   },
   "outputs": [],
   "source": [
    "data=pd.read_csv('NIFTY.txt',header=None)\n",
    "data.columns=['StockName','Date','Time','Open','Close','Low','High','Volume','Ext']\n",
    "toData=data[['Open','Close','Low','Volume']]\n",
    "\n",
    "def preProcessDataScore(toData):\n",
    "    toData['RollingOpen']=toData.rolling(window=5)[['Open']].mean()\n",
    "    toData['RollingClose']=toData.rolling(window=5)[['Close']].mean()\n",
    "    toData['RollingLow']=toData.rolling(window=5)[['Low']].mean()\n",
    "    toData['StdDevOpen']=toData.rolling(window=5)[['Open']].std()\n",
    "    toData['StdDevClose']=toData.rolling(window=5)[['Close']].std()\n",
    "    toData['StdDevLow']=toData.rolling(window=5)[['Low']].std()\n",
    "    toData=toData.fillna(method='bfill')\n",
    "    return toData\n",
    "\n",
    "def preProcessDataTrain(toData):\n",
    "    import pandas as pd\n",
    "    data=pd.read_csv('../ZMOD/Data/NIFTY.txt',header=None)\n",
    "    data.columns=['StockName','Date','Time','Open','Close','Low','High','Volume','Ext']\n",
    "    toData=data[['Open','Close','Low','Volume']]\n",
    "    toData['RollingOpen']=toData.rolling(window=5)[['Open']].mean()\n",
    "    toData['RollingClose']=toData.rolling(window=5)[['Close']].mean()\n",
    "    toData['RollingLow']=toData.rolling(window=5)[['Low']].mean()\n",
    "    toData['StdDevOpen']=toData.rolling(window=5)[['Open']].std()\n",
    "    toData['StdDevClose']=toData.rolling(window=5)[['Close']].std()\n",
    "    toData['StdDevLow']=toData.rolling(window=5)[['Low']].std()\n",
    "    toData=toData.fillna(method='bfill')\n",
    "    return toData"
   ]
  },
  {
   "cell_type": "code",
   "execution_count": 3,
   "metadata": {
    "ExecuteTime": {
     "end_time": "2019-06-26T06:31:57.018259Z",
     "start_time": "2019-06-26T06:31:55.491204Z"
    }
   },
   "outputs": [
    {
     "name": "stderr",
     "output_type": "stream",
     "text": [
      "C:\\Users\\swsh\\AppData\\Local\\Continuum\\anaconda3\\envs\\py36\\lib\\site-packages\\ipykernel_launcher.py:6: SettingWithCopyWarning: \n",
      "A value is trying to be set on a copy of a slice from a DataFrame.\n",
      "Try using .loc[row_indexer,col_indexer] = value instead\n",
      "\n",
      "See the caveats in the documentation: http://pandas.pydata.org/pandas-docs/stable/indexing.html#indexing-view-versus-copy\n",
      "  \n",
      "C:\\Users\\swsh\\AppData\\Local\\Continuum\\anaconda3\\envs\\py36\\lib\\site-packages\\ipykernel_launcher.py:7: SettingWithCopyWarning: \n",
      "A value is trying to be set on a copy of a slice from a DataFrame.\n",
      "Try using .loc[row_indexer,col_indexer] = value instead\n",
      "\n",
      "See the caveats in the documentation: http://pandas.pydata.org/pandas-docs/stable/indexing.html#indexing-view-versus-copy\n",
      "  import sys\n",
      "C:\\Users\\swsh\\AppData\\Local\\Continuum\\anaconda3\\envs\\py36\\lib\\site-packages\\ipykernel_launcher.py:8: SettingWithCopyWarning: \n",
      "A value is trying to be set on a copy of a slice from a DataFrame.\n",
      "Try using .loc[row_indexer,col_indexer] = value instead\n",
      "\n",
      "See the caveats in the documentation: http://pandas.pydata.org/pandas-docs/stable/indexing.html#indexing-view-versus-copy\n",
      "  \n",
      "C:\\Users\\swsh\\AppData\\Local\\Continuum\\anaconda3\\envs\\py36\\lib\\site-packages\\ipykernel_launcher.py:9: SettingWithCopyWarning: \n",
      "A value is trying to be set on a copy of a slice from a DataFrame.\n",
      "Try using .loc[row_indexer,col_indexer] = value instead\n",
      "\n",
      "See the caveats in the documentation: http://pandas.pydata.org/pandas-docs/stable/indexing.html#indexing-view-versus-copy\n",
      "  if __name__ == '__main__':\n"
     ]
    }
   ],
   "source": [
    "toData=preProcessDataScore(toData)"
   ]
  },
  {
   "cell_type": "code",
   "execution_count": 4,
   "metadata": {
    "ExecuteTime": {
     "end_time": "2019-06-26T06:31:57.073257Z",
     "start_time": "2019-06-26T06:31:57.021254Z"
    }
   },
   "outputs": [
    {
     "data": {
      "text/plain": [
       "Index(['Open', 'Close', 'Low', 'Volume', 'RollingOpen', 'RollingClose',\n",
       "       'RollingLow', 'StdDevOpen', 'StdDevClose', 'StdDevLow'],\n",
       "      dtype='object')"
      ]
     },
     "execution_count": 4,
     "metadata": {},
     "output_type": "execute_result"
    }
   ],
   "source": [
    "toData.head()\n",
    "toData.columns"
   ]
  },
  {
   "cell_type": "markdown",
   "metadata": {},
   "source": [
    "## Model LGB"
   ]
  },
  {
   "cell_type": "code",
   "execution_count": 5,
   "metadata": {
    "ExecuteTime": {
     "end_time": "2019-06-26T06:31:59.071328Z",
     "start_time": "2019-06-26T06:31:59.068335Z"
    }
   },
   "outputs": [
    {
     "name": "stderr",
     "output_type": "stream",
     "text": [
      "C:\\Users\\swsh\\AppData\\Local\\Continuum\\anaconda3\\envs\\py36\\lib\\site-packages\\lightgbm\\engine.py:118: UserWarning: Found `num_round` in params. Will use it instead of argument\n",
      "  warnings.warn(\"Found `{}` in params. Will use it instead of argument\".format(alias))\n"
     ]
    }
   ],
   "source": [
    "XVar=['Open', 'Close', 'Low',  'RollingOpen', 'RollingClose','RollingLow', 'StdDevOpen', 'StdDevClose', 'StdDevLow']\n",
    "YVar=['Volume']\n",
    "\n",
    "train_data=lgb.Dataset(toData[XVar],toData[YVar])\n",
    "param = {'num_leaves': 31, 'objective': 'regression','metric':'mean_absolute_error','num_round':50}\n",
    "model1_ = lgb.train(param, train_data)"
   ]
  },
  {
   "cell_type": "code",
   "execution_count": 6,
   "metadata": {
    "ExecuteTime": {
     "end_time": "2019-06-26T06:31:59.491344Z",
     "start_time": "2019-06-26T06:31:59.488339Z"
    }
   },
   "outputs": [],
   "source": [
    "# model1=lgb.sklearn.LGBMRegressor()"
   ]
  },
  {
   "cell_type": "code",
   "execution_count": 7,
   "metadata": {
    "ExecuteTime": {
     "end_time": "2019-06-26T06:32:00.336367Z",
     "start_time": "2019-06-26T06:31:59.810350Z"
    }
   },
   "outputs": [],
   "source": [
    "# model1.fit(toData[XVar],toData[YVar])"
   ]
  },
  {
   "cell_type": "code",
   "execution_count": 8,
   "metadata": {
    "ExecuteTime": {
     "end_time": "2019-06-26T06:32:00.348370Z",
     "start_time": "2019-06-26T06:32:00.338368Z"
    }
   },
   "outputs": [
    {
     "data": {
      "text/plain": [
       "array([33.15615078, 33.15615078, 33.15615078, ..., 21.30851679,\n",
       "       21.30851679, 21.30851679])"
      ]
     },
     "execution_count": 8,
     "metadata": {},
     "output_type": "execute_result"
    }
   ],
   "source": [
    "model1_.predict(toData[XVar])"
   ]
  },
  {
   "cell_type": "code",
   "execution_count": 9,
   "metadata": {
    "ExecuteTime": {
     "end_time": "2019-06-26T06:32:00.714378Z",
     "start_time": "2019-06-26T06:32:00.511374Z"
    }
   },
   "outputs": [
    {
     "data": {
      "text/plain": [
       "0"
      ]
     },
     "execution_count": 9,
     "metadata": {},
     "output_type": "execute_result"
    }
   ],
   "source": [
    "model1_.best_iteration"
   ]
  },
  {
   "cell_type": "markdown",
   "metadata": {},
   "source": [
    "## PostProcess for 2nd Model"
   ]
  },
  {
   "cell_type": "code",
   "execution_count": 10,
   "metadata": {
    "ExecuteTime": {
     "end_time": "2019-06-26T06:32:10.495716Z",
     "start_time": "2019-06-26T06:32:10.403718Z"
    }
   },
   "outputs": [],
   "source": [
    "scored=model1_.predict(toData[XVar])"
   ]
  },
  {
   "cell_type": "code",
   "execution_count": 11,
   "metadata": {
    "ExecuteTime": {
     "end_time": "2019-06-26T06:32:12.298780Z",
     "start_time": "2019-06-26T06:32:12.293818Z"
    }
   },
   "outputs": [],
   "source": [
    "def preProcessData2nd(toData,scored):\n",
    "    toData['resi']=toData['Volume']-scored\n",
    "    toData['Rollingresi']=toData.rolling(window=5)[['resi']].mean()\n",
    "    toData['StdDevresi']=toData.rolling(window=5)[['resi']].std()\n",
    "    toData=toData.fillna(method='bfill')\n",
    "    toData['Volume2']=toData['Volume'].apply(lambda x: 1 if x>90 else 0)\n",
    "    return toData"
   ]
  },
  {
   "cell_type": "code",
   "execution_count": 12,
   "metadata": {
    "ExecuteTime": {
     "end_time": "2019-06-26T06:32:15.334893Z",
     "start_time": "2019-06-26T06:32:15.099895Z"
    }
   },
   "outputs": [],
   "source": [
    "toData2=preProcessData2nd(toData,scored)"
   ]
  },
  {
   "cell_type": "code",
   "execution_count": 13,
   "metadata": {
    "ExecuteTime": {
     "end_time": "2019-06-26T06:32:15.456894Z",
     "start_time": "2019-06-26T06:32:15.451891Z"
    }
   },
   "outputs": [
    {
     "data": {
      "text/plain": [
       "(92630, 14)"
      ]
     },
     "execution_count": 13,
     "metadata": {},
     "output_type": "execute_result"
    }
   ],
   "source": [
    "toData2.shape"
   ]
  },
  {
   "cell_type": "code",
   "execution_count": 14,
   "metadata": {
    "ExecuteTime": {
     "end_time": "2019-06-26T06:32:15.790909Z",
     "start_time": "2019-06-26T06:32:15.784944Z"
    }
   },
   "outputs": [
    {
     "data": {
      "text/plain": [
       "Index(['Open', 'Close', 'Low', 'Volume', 'RollingOpen', 'RollingClose',\n",
       "       'RollingLow', 'StdDevOpen', 'StdDevClose', 'StdDevLow', 'resi',\n",
       "       'Rollingresi', 'StdDevresi', 'Volume2'],\n",
       "      dtype='object')"
      ]
     },
     "execution_count": 14,
     "metadata": {},
     "output_type": "execute_result"
    }
   ],
   "source": [
    "toData2.columns"
   ]
  },
  {
   "cell_type": "code",
   "execution_count": 15,
   "metadata": {
    "ExecuteTime": {
     "end_time": "2019-06-26T06:32:16.131913Z",
     "start_time": "2019-06-26T06:32:16.126915Z"
    }
   },
   "outputs": [
    {
     "data": {
      "text/plain": [
       "(92630, 14)"
      ]
     },
     "execution_count": 15,
     "metadata": {},
     "output_type": "execute_result"
    }
   ],
   "source": [
    "toData2.shape"
   ]
  },
  {
   "cell_type": "code",
   "execution_count": 16,
   "metadata": {
    "ExecuteTime": {
     "end_time": "2019-06-26T06:32:16.753936Z",
     "start_time": "2019-06-26T06:32:16.749959Z"
    }
   },
   "outputs": [],
   "source": [
    "XVar2=['Open', 'Close', 'Low',  'RollingOpen', 'RollingClose','RollingLow', 'StdDevOpen', 'StdDevClose', 'StdDevLow', 'resi',\n",
    "       'Rollingresi', 'StdDevresi']\n",
    "YVar2=['Volume2']"
   ]
  },
  {
   "cell_type": "code",
   "execution_count": 17,
   "metadata": {},
   "outputs": [
    {
     "data": {
      "text/html": [
       "<div>\n",
       "<style scoped>\n",
       "    .dataframe tbody tr th:only-of-type {\n",
       "        vertical-align: middle;\n",
       "    }\n",
       "\n",
       "    .dataframe tbody tr th {\n",
       "        vertical-align: top;\n",
       "    }\n",
       "\n",
       "    .dataframe thead th {\n",
       "        text-align: right;\n",
       "    }\n",
       "</style>\n",
       "<table border=\"1\" class=\"dataframe\">\n",
       "  <thead>\n",
       "    <tr style=\"text-align: right;\">\n",
       "      <th></th>\n",
       "      <th>Open</th>\n",
       "      <th>Close</th>\n",
       "      <th>Low</th>\n",
       "      <th>Volume</th>\n",
       "      <th>RollingOpen</th>\n",
       "      <th>RollingClose</th>\n",
       "      <th>RollingLow</th>\n",
       "      <th>StdDevOpen</th>\n",
       "      <th>StdDevClose</th>\n",
       "      <th>StdDevLow</th>\n",
       "      <th>resi</th>\n",
       "      <th>Rollingresi</th>\n",
       "      <th>StdDevresi</th>\n",
       "      <th>Volume2</th>\n",
       "    </tr>\n",
       "  </thead>\n",
       "  <tbody>\n",
       "    <tr>\n",
       "      <th>0</th>\n",
       "      <td>10531.70</td>\n",
       "      <td>10531.70</td>\n",
       "      <td>10531.70</td>\n",
       "      <td>100</td>\n",
       "      <td>10527.31</td>\n",
       "      <td>10528.76</td>\n",
       "      <td>10522.84</td>\n",
       "      <td>5.164833</td>\n",
       "      <td>4.904768</td>\n",
       "      <td>5.303466</td>\n",
       "      <td>66.843849</td>\n",
       "      <td>33.043849</td>\n",
       "      <td>18.992104</td>\n",
       "      <td>1</td>\n",
       "    </tr>\n",
       "    <tr>\n",
       "      <th>1</th>\n",
       "      <td>10533.75</td>\n",
       "      <td>10535.50</td>\n",
       "      <td>10518.00</td>\n",
       "      <td>57</td>\n",
       "      <td>10527.31</td>\n",
       "      <td>10528.76</td>\n",
       "      <td>10522.84</td>\n",
       "      <td>5.164833</td>\n",
       "      <td>4.904768</td>\n",
       "      <td>5.303466</td>\n",
       "      <td>23.843849</td>\n",
       "      <td>33.043849</td>\n",
       "      <td>18.992104</td>\n",
       "      <td>0</td>\n",
       "    </tr>\n",
       "    <tr>\n",
       "      <th>2</th>\n",
       "      <td>10523.00</td>\n",
       "      <td>10527.50</td>\n",
       "      <td>10522.25</td>\n",
       "      <td>59</td>\n",
       "      <td>10527.31</td>\n",
       "      <td>10528.76</td>\n",
       "      <td>10522.84</td>\n",
       "      <td>5.164833</td>\n",
       "      <td>4.904768</td>\n",
       "      <td>5.303466</td>\n",
       "      <td>25.843849</td>\n",
       "      <td>33.043849</td>\n",
       "      <td>18.992104</td>\n",
       "      <td>0</td>\n",
       "    </tr>\n",
       "    <tr>\n",
       "      <th>3</th>\n",
       "      <td>10525.80</td>\n",
       "      <td>10526.15</td>\n",
       "      <td>10522.60</td>\n",
       "      <td>60</td>\n",
       "      <td>10527.31</td>\n",
       "      <td>10528.76</td>\n",
       "      <td>10522.84</td>\n",
       "      <td>5.164833</td>\n",
       "      <td>4.904768</td>\n",
       "      <td>5.303466</td>\n",
       "      <td>26.843849</td>\n",
       "      <td>33.043849</td>\n",
       "      <td>18.992104</td>\n",
       "      <td>0</td>\n",
       "    </tr>\n",
       "    <tr>\n",
       "      <th>4</th>\n",
       "      <td>10522.30</td>\n",
       "      <td>10522.95</td>\n",
       "      <td>10519.65</td>\n",
       "      <td>55</td>\n",
       "      <td>10527.31</td>\n",
       "      <td>10528.76</td>\n",
       "      <td>10522.84</td>\n",
       "      <td>5.164833</td>\n",
       "      <td>4.904768</td>\n",
       "      <td>5.303466</td>\n",
       "      <td>21.843849</td>\n",
       "      <td>33.043849</td>\n",
       "      <td>18.992104</td>\n",
       "      <td>0</td>\n",
       "    </tr>\n",
       "  </tbody>\n",
       "</table>\n",
       "</div>"
      ],
      "text/plain": [
       "       Open     Close       Low  Volume  RollingOpen  RollingClose  \\\n",
       "0  10531.70  10531.70  10531.70     100     10527.31      10528.76   \n",
       "1  10533.75  10535.50  10518.00      57     10527.31      10528.76   \n",
       "2  10523.00  10527.50  10522.25      59     10527.31      10528.76   \n",
       "3  10525.80  10526.15  10522.60      60     10527.31      10528.76   \n",
       "4  10522.30  10522.95  10519.65      55     10527.31      10528.76   \n",
       "\n",
       "   RollingLow  StdDevOpen  StdDevClose  StdDevLow       resi  Rollingresi  \\\n",
       "0    10522.84    5.164833     4.904768   5.303466  66.843849    33.043849   \n",
       "1    10522.84    5.164833     4.904768   5.303466  23.843849    33.043849   \n",
       "2    10522.84    5.164833     4.904768   5.303466  25.843849    33.043849   \n",
       "3    10522.84    5.164833     4.904768   5.303466  26.843849    33.043849   \n",
       "4    10522.84    5.164833     4.904768   5.303466  21.843849    33.043849   \n",
       "\n",
       "   StdDevresi  Volume2  \n",
       "0   18.992104        1  \n",
       "1   18.992104        0  \n",
       "2   18.992104        0  \n",
       "3   18.992104        0  \n",
       "4   18.992104        0  "
      ]
     },
     "execution_count": 17,
     "metadata": {},
     "output_type": "execute_result"
    }
   ],
   "source": [
    "toData2.head()"
   ]
  },
  {
   "cell_type": "markdown",
   "metadata": {},
   "source": [
    "## 2nd Model LSTM"
   ]
  },
  {
   "cell_type": "code",
   "execution_count": 18,
   "metadata": {
    "ExecuteTime": {
     "end_time": "2019-06-26T06:32:31.347437Z",
     "start_time": "2019-06-26T06:32:17.408994Z"
    }
   },
   "outputs": [
    {
     "name": "stderr",
     "output_type": "stream",
     "text": [
      "Using TensorFlow backend.\n"
     ]
    }
   ],
   "source": [
    "from keras.models import Sequential\n",
    "from keras.layers import Dense\n",
    "from keras.layers import LSTM\n",
    "from sklearn.preprocessing import MinMaxScaler\n",
    "from sklearn.metrics import mean_squared_error"
   ]
  },
  {
   "cell_type": "code",
   "execution_count": 19,
   "metadata": {
    "ExecuteTime": {
     "end_time": "2019-06-26T06:32:31.390445Z",
     "start_time": "2019-06-26T06:32:31.351437Z"
    }
   },
   "outputs": [],
   "source": [
    "kk=toData2[XVar2].shape[0]\n",
    "hh=toData2[XVar2].shape[1]\n",
    "XInde=toData2[XVar2].values.reshape(kk,1,hh)\n",
    "YDepe=toData2[YVar2].values#.reshape(1,kk)"
   ]
  },
  {
   "cell_type": "code",
   "execution_count": 20,
   "metadata": {
    "ExecuteTime": {
     "end_time": "2019-06-26T06:32:31.403441Z",
     "start_time": "2019-06-26T06:32:31.393438Z"
    }
   },
   "outputs": [
    {
     "data": {
      "text/plain": [
       "(1, 12)"
      ]
     },
     "execution_count": 20,
     "metadata": {},
     "output_type": "execute_result"
    }
   ],
   "source": [
    "XInde[0].shape"
   ]
  },
  {
   "cell_type": "code",
   "execution_count": 21,
   "metadata": {
    "ExecuteTime": {
     "end_time": "2019-06-26T06:32:58.244361Z",
     "start_time": "2019-06-26T06:32:34.294538Z"
    },
    "scrolled": true
   },
   "outputs": [],
   "source": [
    "# model = Sequential()\n",
    "# model.add(LSTM(4, input_shape=(None, 12)))\n",
    "# model.add(Dense(1))\n",
    "# model.compile(loss='mean_squared_error', optimizer='adam')\n",
    "# model.fit(XInde,YDepe ,epochs=100, batch_size=1000, verbose=2)"
   ]
  },
  {
   "cell_type": "code",
   "execution_count": 22,
   "metadata": {},
   "outputs": [
    {
     "name": "stdout",
     "output_type": "stream",
     "text": [
      "WARNING:tensorflow:From C:\\Users\\swsh\\AppData\\Local\\Continuum\\anaconda3\\envs\\py36\\lib\\site-packages\\tensorflow\\python\\framework\\op_def_library.py:263: colocate_with (from tensorflow.python.framework.ops) is deprecated and will be removed in a future version.\n",
      "Instructions for updating:\n",
      "Colocations handled automatically by placer.\n",
      "WARNING:tensorflow:From C:\\Users\\swsh\\AppData\\Local\\Continuum\\anaconda3\\envs\\py36\\lib\\site-packages\\tensorflow\\python\\ops\\math_ops.py:3066: to_int32 (from tensorflow.python.ops.math_ops) is deprecated and will be removed in a future version.\n",
      "Instructions for updating:\n",
      "Use tf.cast instead.\n",
      "Epoch 1/2\n",
      "92630/92630 [==============================] - 6s 62us/step - loss: 0.0158 - acc: 0.9986\n",
      "Epoch 2/2\n",
      "92630/92630 [==============================] - 5s 55us/step - loss: 0.0082 - acc: 0.9989\n"
     ]
    },
    {
     "data": {
      "text/plain": [
       "<keras.callbacks.History at 0x28c07d88d30>"
      ]
     },
     "execution_count": 22,
     "metadata": {},
     "output_type": "execute_result"
    }
   ],
   "source": [
    "verbose, epochs, batch_size = 1, 2, 32\n",
    "#n_timesteps, n_features, n_outputs = trainX.shape[1], trainX.shape[2], trainy.shape[1]\n",
    "model = Sequential()\n",
    "model.add(LSTM(32, input_shape=(None,12)))\n",
    "# model.add(Dropout(0.5))\n",
    "model.add(Dense(100, activation='relu'))\n",
    "model.add(Dense(1, activation='sigmoid'))\n",
    "model.compile(loss='binary_crossentropy', optimizer='adam', metrics=['accuracy'])\n",
    "\n",
    "model.fit(XInde,YDepe, epochs=epochs, batch_size=32, verbose=verbose)"
   ]
  },
  {
   "cell_type": "code",
   "execution_count": 23,
   "metadata": {},
   "outputs": [],
   "source": [
    "from nyoka.keras.keras_model_to_pmml import KerasToPmml"
   ]
  },
  {
   "cell_type": "code",
   "execution_count": 24,
   "metadata": {},
   "outputs": [
    {
     "name": "stdout",
     "output_type": "stream",
     "text": [
      "Came here\n"
     ]
    }
   ],
   "source": [
    "pp=KerasToPmml(model,targetVarName=YVar2[0]).DeepNetwork[0].MiningSchema"
   ]
  },
  {
   "cell_type": "code",
   "execution_count": 25,
   "metadata": {},
   "outputs": [
    {
     "name": "stdout",
     "output_type": "stream",
     "text": [
      "<MiningSchema>\n",
      "    <MiningField name=\"dataSet\" usageType=\"active\" invalidValueTreatment=\"asIs\"/>\n",
      "    <MiningField name=\"predictions\" usageType=\"target\" invalidValueTreatment=\"asIs\"/>\n",
      "</MiningSchema>\n"
     ]
    }
   ],
   "source": [
    "import sys\n",
    "pp.export(sys.stdout,0)"
   ]
  },
  {
   "cell_type": "markdown",
   "metadata": {},
   "source": [
    "## Score a sample data"
   ]
  },
  {
   "cell_type": "code",
   "execution_count": null,
   "metadata": {
    "ExecuteTime": {
     "end_time": "2019-06-26T06:32:58.424365Z",
     "start_time": "2019-06-26T06:32:58.246361Z"
    }
   },
   "outputs": [],
   "source": [
    "dataTest=pd.read_csv('NIFTY.txt',header=None)\n",
    "dataTest.columns=['StockName','Date','Time','Open','Close','Low','High','Volume','Ext']\n",
    "dataTest=data[['Open','Close','Low','Volume']].head(10)"
   ]
  },
  {
   "cell_type": "code",
   "execution_count": null,
   "metadata": {
    "ExecuteTime": {
     "end_time": "2019-06-26T06:32:59.370408Z",
     "start_time": "2019-06-26T06:32:59.284395Z"
    }
   },
   "outputs": [],
   "source": [
    "dataTest=preProcessDataScore(dataTest)"
   ]
  },
  {
   "cell_type": "code",
   "execution_count": null,
   "metadata": {
    "ExecuteTime": {
     "end_time": "2019-06-26T06:32:59.833425Z",
     "start_time": "2019-06-26T06:32:59.823427Z"
    }
   },
   "outputs": [],
   "source": [
    "scoredTest=model1_.predict(dataTest[XVar])\n",
    "dataTest2=preProcessData2nd(dataTest,scoredTest)"
   ]
  },
  {
   "cell_type": "code",
   "execution_count": null,
   "metadata": {
    "ExecuteTime": {
     "end_time": "2019-06-26T06:33:01.449473Z",
     "start_time": "2019-06-26T06:33:01.445472Z"
    }
   },
   "outputs": [],
   "source": [
    "dataTest2.shape"
   ]
  },
  {
   "cell_type": "code",
   "execution_count": null,
   "metadata": {
    "ExecuteTime": {
     "end_time": "2019-06-26T06:33:01.739483Z",
     "start_time": "2019-06-26T06:33:01.732489Z"
    }
   },
   "outputs": [],
   "source": [
    "kk2=dataTest2[XVar2].shape[0]\n",
    "hh2=dataTest2[XVar2].shape[1]\n",
    "XInde2=dataTest2[XVar2].values.reshape(kk2,1,hh2)\n",
    "YDepe2=dataTest2[YVar2].values#.reshape(1,kk)"
   ]
  },
  {
   "cell_type": "code",
   "execution_count": null,
   "metadata": {
    "ExecuteTime": {
     "end_time": "2019-06-26T06:33:02.381519Z",
     "start_time": "2019-06-26T06:33:02.285520Z"
    }
   },
   "outputs": [],
   "source": [
    "model.predict(XInde2).tolist()"
   ]
  },
  {
   "cell_type": "markdown",
   "metadata": {},
   "source": [
    "# PostProcess for 2nd Model"
   ]
  },
  {
   "cell_type": "code",
   "execution_count": null,
   "metadata": {
    "ExecuteTime": {
     "end_time": "2019-06-26T08:07:12.548208Z",
     "start_time": "2019-06-26T08:07:12.516207Z"
    }
   },
   "outputs": [],
   "source": [
    "def postProcessing2(data,scored):\n",
    "        import requests\n",
    "        from requests.auth import HTTPBasicAuth\n",
    "        import json\n",
    "        import operator\n",
    "\n",
    "        url = \"https://ai.cumulocity.com/alarm/alarms\"\n",
    "        \n",
    "        for i in range(scored):\n",
    "            if lst[i] >= .6:\n",
    "                defect_timestamp = data['timestamp'].values[i]\n",
    "\n",
    "        headers = {\n",
    "        'Content-Type': \"application/vnd.com.nsn.cumulocity.alarm+json\",\n",
    "        'Accept': \"application/vnd.com.nsn.cumulocity.alarm+json\",\n",
    "        }\n",
    "\n",
    "        payload_Critical_Drink = {\n",
    "            \"source\": {\n",
    "                \"id\": \"117701\" },\n",
    "            \"type\": \"Anamoly\",\n",
    "            \"text\": \"There has been an Anamoly and it occured in this timestamp:\"+ str(defect_timestamp),\n",
    "            \"severity\": \"CRITICAL\",\n",
    "            \"status\": \"ACTIVE\",\n",
    "            \"time\": \"2014-03-03T12:03:27.845Z\"\n",
    "        }\n",
    "\n",
    "\n",
    "        print ('File read')\n",
    "\n",
    "        auth = HTTPBasicAuth('Rainer.Burkhardt@softwareag.com', 'cum 2418 Point Loma')\n",
    "\n",
    "        if pred == 1:\n",
    "            response = requests.request(\"POST\", url, data=json.dumps(payload_Critical_Drink),headers=headers,auth=auth)\n",
    "\n",
    "        print ('Done')"
   ]
  },
  {
   "cell_type": "markdown",
   "metadata": {},
   "source": [
    "# PMML Conversion"
   ]
  },
  {
   "cell_type": "code",
   "execution_count": null,
   "metadata": {
    "ExecuteTime": {
     "end_time": "2019-06-26T06:40:07.250409Z",
     "start_time": "2019-06-26T06:40:07.247399Z"
    }
   },
   "outputs": [],
   "source": [
    "from nyoka import model_to_pmml"
   ]
  },
  {
   "cell_type": "code",
   "execution_count": null,
   "metadata": {
    "ExecuteTime": {
     "end_time": "2019-06-26T06:40:08.261448Z",
     "start_time": "2019-06-26T06:40:08.135411Z"
    }
   },
   "outputs": [],
   "source": [
    "toExportDict={\n",
    "    'model1':{\n",
    "        'hyperparameters':param,\n",
    "        'preProcessingScript':{'scripts':[preProcessDataTrain,preProcessDataScore], 'scriptpurpose':['train','score']},\n",
    "        'pipelineObj':None,\n",
    "        'modelObj':model1_,\n",
    "        'featuresUsed':XVar,\n",
    "        'targetName':'Volume',\n",
    "        'postProcessingScript':None,\n",
    "        'taskType': 'trainAndscore'\n",
    "    },\n",
    "    'model2':{\n",
    "    'hyperparameters':None,\n",
    "    'preProcessingScript':{'scripts':[preProcessData2nd], 'scriptpurpose':['score']},\n",
    "    'pipelineObj':None,\n",
    "    'modelObj':model,\n",
    "    'featuresUsed':XVar2,\n",
    "    'targetName':'Volume2',\n",
    "    'postProcessingScript':{'scripts':[postProcessing2], 'scriptpurpose':['score']},\n",
    "    'taskType': 'score'\n",
    "    }\n",
    "}\n",
    "\n",
    "pmml = model_to_pmml(toExportDict, pmml_f_name=\"UseCase22Sample.pmml\")"
   ]
  },
  {
   "cell_type": "code",
   "execution_count": null,
   "metadata": {},
   "outputs": [],
   "source": []
  }
 ],
 "metadata": {
  "kernelspec": {
   "display_name": "Python 3",
   "language": "python",
   "name": "python3"
  },
  "language_info": {
   "codemirror_mode": {
    "name": "ipython",
    "version": 3
   },
   "file_extension": ".py",
   "mimetype": "text/x-python",
   "name": "python",
   "nbconvert_exporter": "python",
   "pygments_lexer": "ipython3",
   "version": "3.6.8"
  }
 },
 "nbformat": 4,
 "nbformat_minor": 2
}
