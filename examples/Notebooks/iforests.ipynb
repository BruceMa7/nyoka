{
 "cells": [
  {
   "cell_type": "code",
   "execution_count": 1,
   "metadata": {},
   "outputs": [],
   "source": [
    "from sklearn import datasets\n",
    "import pandas as pd\n",
    "from sklearn.pipeline import Pipeline\n",
    "from sklearn.model_selection import train_test_split\n",
    "from nyoka import skl_to_pmml"
   ]
  },
  {
   "cell_type": "code",
   "execution_count": 2,
   "metadata": {},
   "outputs": [],
   "source": [
    "irisdata = datasets.load_iris()\n",
    "iris = pd.DataFrame(irisdata.data,columns=irisdata.feature_names)\n",
    "iris['Species'] = irisdata.target\n",
    "\n",
    "feature_names = iris.columns.drop('Species')\n",
    "\n",
    "X_train, X_test, y_train, y_test = train_test_split(iris[iris.columns.drop('Species')], \n",
    "                                                    iris['Species'], test_size=0.33, random_state=101)\n",
    "\n",
    "X_test.to_csv(\"iris_test.csv\")"
   ]
  },
  {
   "cell_type": "code",
   "execution_count": 3,
   "metadata": {},
   "outputs": [
    {
     "data": {
      "text/plain": [
       "Pipeline(memory=None,\n",
       "     steps=[('model', IsolationForest(bootstrap=False, contamination=0.1, max_features=1.0,\n",
       "        max_samples='auto', n_estimators=2, n_jobs=1, random_state=101,\n",
       "        verbose=0))])"
      ]
     },
     "execution_count": 3,
     "metadata": {},
     "output_type": "execute_result"
    }
   ],
   "source": [
    "from sklearn.ensemble import IsolationForest\n",
    "iso = Pipeline([('model', IsolationForest(n_estimators=2, random_state=101))])\n",
    "iso.fit(X_train)"
   ]
  },
  {
   "cell_type": "code",
   "execution_count": 4,
   "metadata": {},
   "outputs": [
    {
     "data": {
      "text/plain": [
       "array([ 1,  1,  1,  1,  1,  1,  1,  1,  1,  1,  1, -1,  1,  1,  1,  1,  1,\n",
       "        1,  1,  1,  1,  1,  1,  1,  1, -1, -1,  1,  1,  1,  1,  1,  1,  1,\n",
       "        1,  1,  1,  1,  1,  1,  1,  1,  1,  1, -1,  1,  1,  1,  1, -1])"
      ]
     },
     "execution_count": 4,
     "metadata": {},
     "output_type": "execute_result"
    }
   ],
   "source": [
    "iso.predict(X_test)"
   ]
  },
  {
   "cell_type": "code",
   "execution_count": 5,
   "metadata": {},
   "outputs": [
    {
     "data": {
      "text/plain": [
       "array([-0.05986349,  0.01909448,  0.01909448,  0.01160753,  0.01472256,\n",
       "        0.11127388, -0.03714064, -0.03254482,  0.01472256,  0.12403357,\n",
       "        0.03553708, -0.10435421,  0.09002954, -0.04045226,  0.11127388,\n",
       "        0.05649732, -0.07855471, -0.03254482,  0.00437426, -0.01534003,\n",
       "       -0.05986349,  0.09002954, -0.03254482,  0.03142963,  0.0455294 ,\n",
       "       -0.16078272, -0.10823361,  0.11127388,  0.12403357, -0.05507325,\n",
       "        0.05723013, -0.03254482,  0.05438796, -0.02991178,  0.05723013,\n",
       "       -0.07855471,  0.05649732,  0.01984178, -0.07855471, -0.04045226,\n",
       "        0.09802523,  0.12403357,  0.12403357,  0.05723013, -0.08354759,\n",
       "       -0.05507325,  0.05438796, -0.02991178, -0.02914819, -0.16078272])"
      ]
     },
     "execution_count": 5,
     "metadata": {},
     "output_type": "execute_result"
    }
   ],
   "source": [
    "iso.decision_function(X_test)"
   ]
  },
  {
   "cell_type": "code",
   "execution_count": 6,
   "metadata": {},
   "outputs": [],
   "source": [
    "skl_to_pmml(pipeline=iso, col_names=feature_names, pmml_f_name='ianomaly.pmml')"
   ]
  }
 ],
 "metadata": {
  "kernelspec": {
   "display_name": "Python 3",
   "language": "python",
   "name": "python3"
  },
  "language_info": {
   "codemirror_mode": {
    "name": "ipython",
    "version": 3
   },
   "file_extension": ".py",
   "mimetype": "text/x-python",
   "name": "python",
   "nbconvert_exporter": "python",
   "pygments_lexer": "ipython3",
   "version": "3.6.5"
  }
 },
 "nbformat": 4,
 "nbformat_minor": 2
}
