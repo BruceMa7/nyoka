{
 "cells": [
  {
   "cell_type": "code",
   "execution_count": 1,
   "metadata": {},
   "outputs": [],
   "source": [
    "import requests\n",
    "import json\n",
    "from requests.auth import HTTPBasicAuth\n",
    "import datetime\n",
    "\n",
    "url = \"https://ai.cumulocity.com/inventory/managedObjects\""
   ]
  },
  {
   "cell_type": "code",
   "execution_count": 2,
   "metadata": {},
   "outputs": [],
   "source": [
    "payload={'name': 'Jetson1',\n",
    " 'c8y_IsDevice': {},\n",
    " 'c8y_SupportedMeasurements': ['Sensor1'],\n",
    " 'c8y_SupportedOperations': ['c8y_Restart',\n",
    "  'c8y_Configuration',\n",
    "  'c8y_Software',\n",
    "  'c8y_Firmware',\n",
    "  'c8y_Command']}"
   ]
  },
  {
   "cell_type": "code",
   "execution_count": 3,
   "metadata": {},
   "outputs": [
    {
     "data": {
      "text/plain": [
       "'{\"name\": \"Jetson1\", \"c8y_IsDevice\": {}, \"c8y_SupportedMeasurements\": [\"Sensor1\"], \"c8y_SupportedOperations\": [\"c8y_Restart\", \"c8y_Configuration\", \"c8y_Software\", \"c8y_Firmware\", \"c8y_Command\"]}'"
      ]
     },
     "execution_count": 3,
     "metadata": {},
     "output_type": "execute_result"
    }
   ],
   "source": [
    "json.dumps(payload)"
   ]
  },
  {
   "cell_type": "code",
   "execution_count": 4,
   "metadata": {},
   "outputs": [],
   "source": [
    "headers = {\n",
    "    'Content-Type': \"application/json\",\n",
    "    'Accept': \"application/json\",\n",
    "    'cache-control': \"no-cache\",\n",
    "    'Postman-Token': \"2dc79351-5a48-4b8b-b4f2-30b880732d01\"\n",
    "    }\n",
    "\n",
    "response = requests.request(\"POST\", url, data=json.dumps(payload), headers=headers,auth=HTTPBasicAuth('Rainer.Burkhardt@softwareag.com', 'cum 2418 Point Loma'))"
   ]
  },
  {
   "cell_type": "code",
   "execution_count": 5,
   "metadata": {},
   "outputs": [
    {
     "data": {
      "text/plain": [
       "{'additionParents': {'self': 'https://ai.cumulocity.com/inventory/managedObjects/133005/additionParents',\n",
       "  'references': []},\n",
       " 'owner': 'Rainer.Burkhardt@softwareag.com',\n",
       " 'childDevices': {'self': 'https://ai.cumulocity.com/inventory/managedObjects/133005/childDevices',\n",
       "  'references': []},\n",
       " 'childAssets': {'self': 'https://ai.cumulocity.com/inventory/managedObjects/133005/childAssets',\n",
       "  'references': []},\n",
       " 'creationTime': '2019-05-22T04:21:11.309Z',\n",
       " 'lastUpdated': '2019-05-22T04:21:11.309Z',\n",
       " 'childAdditions': {'self': 'https://ai.cumulocity.com/inventory/managedObjects/133005/childAdditions',\n",
       "  'references': []},\n",
       " 'name': 'Jetson1',\n",
       " 'assetParents': {'self': 'https://ai.cumulocity.com/inventory/managedObjects/133005/assetParents',\n",
       "  'references': []},\n",
       " 'deviceParents': {'self': 'https://ai.cumulocity.com/inventory/managedObjects/133005/deviceParents',\n",
       "  'references': []},\n",
       " 'self': 'https://ai.cumulocity.com/inventory/managedObjects/133005',\n",
       " 'id': '133005',\n",
       " 'c8y_IsDevice': {},\n",
       " 'c8y_SupportedMeasurements': ['Sensor1'],\n",
       " 'c8y_SupportedOperations': ['c8y_Restart',\n",
       "  'c8y_Configuration',\n",
       "  'c8y_Software',\n",
       "  'c8y_Firmware',\n",
       "  'c8y_Command']}"
      ]
     },
     "execution_count": 5,
     "metadata": {},
     "output_type": "execute_result"
    }
   ],
   "source": [
    "json.loads(response.text)"
   ]
  },
  {
   "cell_type": "code",
   "execution_count": 6,
   "metadata": {},
   "outputs": [
    {
     "data": {
      "text/plain": [
       "{'additionParents': {'self': 'https://iotservice.cumulocity.com/inventory/managedObjects/500/additionParents',\n",
       "  'references': []},\n",
       " 'owner': 'swapnil.shappo@gmail.com',\n",
       " 'childDevices': {'self': 'https://iotservice.cumulocity.com/inventory/managedObjects/500/childDevices',\n",
       "  'references': []},\n",
       " 'childAssets': {'self': 'https://iotservice.cumulocity.com/inventory/managedObjects/500/childAssets',\n",
       "  'references': []},\n",
       " 'creationTime': '2019-01-28T09:08:34.827Z',\n",
       " 'lastUpdated': '2019-01-28T09:08:34.827Z',\n",
       " 'childAdditions': {'self': 'https://iotservice.cumulocity.com/inventory/managedObjects/500/childAdditions',\n",
       "  'references': []},\n",
       " 'name': 'cameraBigBoss',\n",
       " 'assetParents': {'self': 'https://iotservice.cumulocity.com/inventory/managedObjects/500/assetParents',\n",
       "  'references': []},\n",
       " 'deviceParents': {'self': 'https://iotservice.cumulocity.com/inventory/managedObjects/500/deviceParents',\n",
       "  'references': []},\n",
       " 'self': 'https://iotservice.cumulocity.com/inventory/managedObjects/500',\n",
       " 'id': '500',\n",
       " 'c8y_IsDevice': {},\n",
       " 'c8y_SupportedMeasurements': ['LightMeasure'],\n",
       " 'c8y_SupportedOperations': ['c8y_Restart',\n",
       "  'c8y_Configuration',\n",
       "  'c8y_Software',\n",
       "  'c8y_Firmware',\n",
       "  'c8y_Command']}"
      ]
     },
     "execution_count": 6,
     "metadata": {},
     "output_type": "execute_result"
    }
   ],
   "source": [
    "{'additionParents': {'self': 'https://iotservice.cumulocity.com/inventory/managedObjects/500/additionParents',\n",
    "  'references': []},\n",
    " 'owner': 'swapnil.shappo@gmail.com',\n",
    " 'childDevices': {'self': 'https://iotservice.cumulocity.com/inventory/managedObjects/500/childDevices',\n",
    "  'references': []},\n",
    " 'childAssets': {'self': 'https://iotservice.cumulocity.com/inventory/managedObjects/500/childAssets',\n",
    "  'references': []},\n",
    " 'creationTime': '2019-01-28T09:08:34.827Z',\n",
    " 'lastUpdated': '2019-01-28T09:08:34.827Z',\n",
    " 'childAdditions': {'self': 'https://iotservice.cumulocity.com/inventory/managedObjects/500/childAdditions',\n",
    "  'references': []},\n",
    " 'name': 'cameraBigBoss',\n",
    " 'assetParents': {'self': 'https://iotservice.cumulocity.com/inventory/managedObjects/500/assetParents',\n",
    "  'references': []},\n",
    " 'deviceParents': {'self': 'https://iotservice.cumulocity.com/inventory/managedObjects/500/deviceParents',\n",
    "  'references': []},\n",
    " 'self': 'https://iotservice.cumulocity.com/inventory/managedObjects/500',\n",
    " 'id': '500',\n",
    " 'c8y_IsDevice': {},\n",
    " 'c8y_SupportedMeasurements': ['LightMeasure'],\n",
    " 'c8y_SupportedOperations': ['c8y_Restart',\n",
    "  'c8y_Configuration',\n",
    "  'c8y_Software',\n",
    "  'c8y_Firmware',\n",
    "  'c8y_Command']}"
   ]
  },
  {
   "cell_type": "code",
   "execution_count": 7,
   "metadata": {},
   "outputs": [],
   "source": [
    "url2 = \"https://ai.cumulocity.com/measurement/measurements\""
   ]
  },
  {
   "cell_type": "code",
   "execution_count": 8,
   "metadata": {},
   "outputs": [],
   "source": [
    "import time\n",
    "import random"
   ]
  },
  {
   "cell_type": "code",
   "execution_count": 9,
   "metadata": {
    "scrolled": true
   },
   "outputs": [],
   "source": [
    "# for i in range(0,100):\n",
    "    \n",
    "#     time.sleep(10)\n",
    "#     tt=datetime.datetime.now()\n",
    "#     payload2={'type': 'Sensor1',\n",
    "#      'time': str(tt.date())+'T'+str(tt.hour)+':'+str(tt.minute)+':'+str(tt.second)+'+05:30',\n",
    "#      'source': {'id': \"500\"},\n",
    "#      'LightMeasure': {'value': random.randint(1,5)}}\n",
    "#     print (i,' >>>>>> ',payload2['time'],payload2['LightMeasure'])\n",
    "#     headers = {\n",
    "#     'Content-Type': \"application/json\",\n",
    "#     'Accept': \"application/vnd.com.nsn.cumulocity.measurement+json\",\n",
    "#     'cache-control': \"no-cache\",\n",
    "#     'Postman-Token': \"2d5fa27d-c8c8-428c-b2f9-0efe9490b716\"\n",
    "#     }\n",
    "#     response = requests.request(\"POST\", url2, data=json.dumps(payload2), \n",
    "#                             headers=headers,auth=HTTPBasicAuth('swapnil.shappo@gmail.com', 'hanuman07'))"
   ]
  },
  {
   "cell_type": "code",
   "execution_count": 38,
   "metadata": {},
   "outputs": [
    {
     "name": "stdout",
     "output_type": "stream",
     "text": [
      "0  >>>>>>  2019-05-23T13:52:4+05:30 {'Sensor1': {'value': 5}}\n"
     ]
    }
   ],
   "source": [
    "i=0\n",
    "tt=datetime.datetime.now()\n",
    "payload2={'type': 'Sensor1',\n",
    " 'time': str(tt.date())+'T'+str(tt.hour)+':'+str(tt.minute)+':'+str(tt.second)+'+05:30',\n",
    " 'source': {'id': \"132828\"},\n",
    " 'Sensor1': { 'Sensor1': {'value': random.randint(1,5)}}}\n",
    "print (i,' >>>>>> ',payload2['time'],payload2['Sensor1'])\n",
    "headers = {\n",
    "'Content-Type': \"application/json\",\n",
    "'Accept': \"application/vnd.com.nsn.cumulocity.measurement+json\",\n",
    "'cache-control': \"no-cache\",\n",
    "'Postman-Token': \"2d5fa27d-c8c8-428c-b2f9-0efe9490b716\"\n",
    "}\n",
    "response = requests.request(\"POST\", url2, data=json.dumps(payload2), \n",
    "                        headers=headers,auth=HTTPBasicAuth('Rainer.Burkhardt@softwareag.com', 'cum 2418 Point Loma'))"
   ]
  },
  {
   "cell_type": "code",
   "execution_count": 31,
   "metadata": {},
   "outputs": [
    {
     "data": {
      "text/plain": [
       "b'{\"self\":\"https://ai.cumulocity.com/measurement/measurements/132904\",\"time\":\"2019-05-23T13:51:46.000+05:30\",\"id\":\"132904\",\"source\":{\"self\":\"https://ai.cumulocity.com/inventory/managedObjects/132828\",\"id\":\"132828\"},\"type\":\"Sensor1\",\"Sensor1\":{\"Sensor1\":{\"value\":5}}}'"
      ]
     },
     "execution_count": 31,
     "metadata": {},
     "output_type": "execute_result"
    }
   ],
   "source": [
    "response.content"
   ]
  },
  {
   "cell_type": "code",
   "execution_count": null,
   "metadata": {},
   "outputs": [],
   "source": []
  }
 ],
 "metadata": {
  "kernelspec": {
   "display_name": "Python 3",
   "language": "python",
   "name": "python3"
  },
  "language_info": {
   "codemirror_mode": {
    "name": "ipython",
    "version": 3
   },
   "file_extension": ".py",
   "mimetype": "text/x-python",
   "name": "python",
   "nbconvert_exporter": "python",
   "pygments_lexer": "ipython3",
   "version": "3.6.5"
  }
 },
 "nbformat": 4,
 "nbformat_minor": 2
}
