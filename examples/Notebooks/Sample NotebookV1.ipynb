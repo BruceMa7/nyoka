{
 "cells": [
  {
   "cell_type": "markdown",
   "metadata": {},
   "source": [
    "# Generate Sample data"
   ]
  },
  {
   "cell_type": "code",
   "execution_count": null,
   "metadata": {},
   "outputs": [],
   "source": [
    "import pandas as pd\n",
    "import numpy as np\n",
    "from sklearn.model_selection import train_test_split\n",
    "from requests.auth import HTTPBasicAuth\n",
    "import requests\n",
    "import random\n",
    "import json\n",
    "from sklearn import datasets\n",
    "from sklearn.pipeline import Pipeline\n",
    "from sklearn.preprocessing import StandardScaler, Imputer\n",
    "from sklearn.ensemble import IsolationForest,RandomForestClassifier\n",
    "\n",
    "irisdata = datasets.load_iris()\n",
    "iris = pd.DataFrame(irisdata.data,columns=irisdata.feature_names)\n",
    "iris['Species'] = irisdata.target\n",
    "\n",
    "# feature_names = iris.columns.drop('Species')"
   ]
  },
  {
   "cell_type": "code",
   "execution_count": null,
   "metadata": {},
   "outputs": [],
   "source": [
    "iris.columns=['temperature','pressure', 'petal length (cm)',\n",
    "       'petal width (cm)', 'Species']"
   ]
  },
  {
   "cell_type": "code",
   "execution_count": null,
   "metadata": {},
   "outputs": [],
   "source": [
    "iris.shape"
   ]
  },
  {
   "cell_type": "code",
   "execution_count": null,
   "metadata": {},
   "outputs": [],
   "source": [
    "iris['target']=[random.randint(0,1) for i in range(150)]"
   ]
  },
  {
   "cell_type": "code",
   "execution_count": null,
   "metadata": {
    "scrolled": true
   },
   "outputs": [],
   "source": [
    "for i in ['petal length (cm)','petal width (cm)', 'Species']:\n",
    "    del iris[i]"
   ]
  },
  {
   "cell_type": "code",
   "execution_count": null,
   "metadata": {},
   "outputs": [],
   "source": [
    "features=list(iris.columns)"
   ]
  },
  {
   "cell_type": "code",
   "execution_count": null,
   "metadata": {},
   "outputs": [],
   "source": [
    "features"
   ]
  },
  {
   "cell_type": "code",
   "execution_count": null,
   "metadata": {},
   "outputs": [],
   "source": [
    "pipe = Pipeline([('standard_scaler',StandardScaler()), ('model',RandomForestClassifier(n_estimators=100))])\n",
    "\n",
    "pipe.fit(iris[features[:2]],iris['target'])\n",
    "\n",
    "print(\"\\n\",\"Anomaly detection model is built successfully.\")"
   ]
  },
  {
   "cell_type": "code",
   "execution_count": null,
   "metadata": {},
   "outputs": [],
   "source": [
    "pipe.predict_proba(iris[features[:2]].ix[[0,1]])"
   ]
  },
  {
   "cell_type": "code",
   "execution_count": null,
   "metadata": {},
   "outputs": [],
   "source": [
    "scores=pipe.predict_proba(iris[features[:2]])"
   ]
  },
  {
   "cell_type": "code",
   "execution_count": null,
   "metadata": {},
   "outputs": [],
   "source": [
    "seraSera=[]\n",
    "for i in scores:\n",
    "    seraSera.append({k:j for k,j in zip(['1','2'],i)})\n",
    "resaRes={'predictions':seraSera}"
   ]
  },
  {
   "cell_type": "code",
   "execution_count": null,
   "metadata": {},
   "outputs": [],
   "source": [
    "from nyoka.skl.skl_to_pmml import skl_to_pmml\n",
    "skl_to_pmml(pipeline=pipe, col_names=features[:2],target_name='target', pmml_f_name=\"RandomForest_model2.pmml\")"
   ]
  },
  {
   "cell_type": "markdown",
   "metadata": {},
   "source": [
    "## API calls"
   ]
  },
  {
   "cell_type": "markdown",
   "metadata": {},
   "source": [
    "## To score a single json record from ZMK"
   ]
  },
  {
   "cell_type": "code",
   "execution_count": null,
   "metadata": {},
   "outputs": [],
   "source": [
    "import requests\n",
    "import json\n",
    "modelFilePath='../ZMOD/Models/rf_pmml2.pmml'\n",
    "urlto1='http://localhost:8000/api/v1/models'\n",
    "para={'filePath':modelFilePath}\n",
    "resp01=requests.post(urlto1,data=para)\n",
    "modelKey=json.loads(resp01.text)['keytoModel']\n",
    "modelKey"
   ]
  },
  {
   "cell_type": "code",
   "execution_count": null,
   "metadata": {},
   "outputs": [],
   "source": [
    "import requests\n",
    "# url='http://localhost:8000/api/v1/'\n",
    "\n",
    "modelKey='rf_pmml2'\n",
    "dataRow1={\"mpg\":18.0,\"cylinders\":8,\"displacement\":307.0,\"horsepower\":130.0,\"weight\":3504,\"acceleration\":12.0,\"model year\":70,\"origin\":1,\"car name\":\"chevrolet chevelle malibu\"}\n",
    "urlto2_1='http://localhost:8000/api/v1/models/'+modelKey+'/scoreJson'\n",
    "para2_1={'jsonRecord':json.dumps(dataRow1)}\n",
    "resp02_1=requests.get(urlto2_1,params=para2_1)"
   ]
  },
  {
   "cell_type": "code",
   "execution_count": null,
   "metadata": {},
   "outputs": [],
   "source": [
    "resp02_1.text"
   ]
  },
  {
   "cell_type": "code",
   "execution_count": 2,
   "metadata": {},
   "outputs": [],
   "source": [
    "import requests\n",
    "import json\n",
    "# url='http://localhost:8000/api/v1/'\n",
    "\n",
    "modelKey='RandomForest_model2'\n",
    "dataRow1={\"temperature\":130,'pressure':34}\n",
    "urlto2_1='http://localhost:8000/api/v1/models/'+modelKey+'/scoreJson'\n",
    "para2_1={'jsonRecord':json.dumps(dataRow1)}\n",
    "resp02_1=requests.get(urlto2_1,params=para2_1)"
   ]
  },
  {
   "cell_type": "code",
   "execution_count": null,
   "metadata": {},
   "outputs": [],
   "source": [
    "resp02_1.text"
   ]
  },
  {
   "cell_type": "code",
   "execution_count": null,
   "metadata": {},
   "outputs": [],
   "source": []
  }
 ],
 "metadata": {
  "kernelspec": {
   "display_name": "Python 3",
   "language": "python",
   "name": "python3"
  },
  "language_info": {
   "codemirror_mode": {
    "name": "ipython",
    "version": 3
   },
   "file_extension": ".py",
   "mimetype": "text/x-python",
   "name": "python",
   "nbconvert_exporter": "python",
   "pygments_lexer": "ipython3",
   "version": "3.6.8"
  }
 },
 "nbformat": 4,
 "nbformat_minor": 2
}
