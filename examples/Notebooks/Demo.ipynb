{
 "cells": [
  {
   "cell_type": "markdown",
   "metadata": {},
   "source": [
    "### Import nyoka"
   ]
  },
  {
   "cell_type": "code",
   "execution_count": 1,
   "metadata": {
    "ExecuteTime": {
     "end_time": "2019-06-14T15:39:58.874774Z",
     "start_time": "2019-06-14T15:39:58.608729Z"
    }
   },
   "outputs": [],
   "source": [
    "from nyoka import model_to_pmml"
   ]
  },
  {
   "cell_type": "markdown",
   "metadata": {},
   "source": [
    "### Scripts"
   ]
  },
  {
   "cell_type": "code",
   "execution_count": 2,
   "metadata": {
    "ExecuteTime": {
     "end_time": "2019-06-14T15:40:06.963732Z",
     "start_time": "2019-06-14T15:40:06.958737Z"
    }
   },
   "outputs": [],
   "source": [
    "def script1():\n",
    "    r3 = r1+r2\n",
    "    \n",
    "def script2():\n",
    "    r6 = r1+r2+r3-r4"
   ]
  },
  {
   "cell_type": "markdown",
   "metadata": {},
   "source": [
    "### Pipeline object 1 with pre-processing"
   ]
  },
  {
   "cell_type": "code",
   "execution_count": 3,
   "metadata": {
    "ExecuteTime": {
     "end_time": "2019-06-14T15:40:31.623776Z",
     "start_time": "2019-06-14T15:40:28.515741Z"
    }
   },
   "outputs": [
    {
     "data": {
      "text/plain": [
       "Pipeline(memory=None,\n",
       "     steps=[('mapping', DataFrameMapper(default=False, df_out=False,\n",
       "        features=[(['sepal length (cm)', 'sepal width (cm)'], StandardScaler(copy=True, with_mean=True, with_std=True)), (['petal length (cm)', 'petal width (cm)'], Imputer(axis=0, copy=True, missing_values='NaN', strategy='mean', verbo...ty='l2', random_state=None, solver='liblinear', tol=0.0001,\n",
       "          verbose=0, warm_start=False))])"
      ]
     },
     "execution_count": 3,
     "metadata": {},
     "output_type": "execute_result"
    }
   ],
   "source": [
    "import pandas as pd\n",
    "from sklearn import datasets\n",
    "from sklearn.pipeline import Pipeline\n",
    "from sklearn.preprocessing import StandardScaler, Imputer\n",
    "from sklearn_pandas import DataFrameMapper\n",
    "from sklearn.ensemble import RandomForestClassifier\n",
    "from sklearn.linear_model import LogisticRegression\n",
    "from sklearn.svm import SVC\n",
    "\n",
    "iris = datasets.load_iris()\n",
    "irisd = pd.DataFrame(iris.data, columns=iris.feature_names)\n",
    "irisd['Species'] = iris.target\n",
    "\n",
    "features = irisd.columns.drop('Species')\n",
    "target = 'Species'\n",
    "\n",
    "pipeline_obj1 = Pipeline([\n",
    "    (\"mapping\", DataFrameMapper([\n",
    "    (['sepal length (cm)', 'sepal width (cm)'], StandardScaler()) , \n",
    "    (['petal length (cm)', 'petal width (cm)'], Imputer())\n",
    "    ])),\n",
    "    (\"rfc\", LogisticRegression())\n",
    "])\n",
    "\n",
    "pipeline_obj1.fit(irisd[features], irisd[target])"
   ]
  },
  {
   "cell_type": "markdown",
   "metadata": {},
   "source": [
    "### Pipeline object 2 with preprocessing"
   ]
  },
  {
   "cell_type": "code",
   "execution_count": 4,
   "metadata": {
    "ExecuteTime": {
     "end_time": "2019-06-14T15:41:48.153780Z",
     "start_time": "2019-06-14T15:41:48.023732Z"
    }
   },
   "outputs": [
    {
     "data": {
      "text/plain": [
       "Pipeline(memory=None,\n",
       "     steps=[('mapping', DataFrameMapper(default=False, df_out=False,\n",
       "        features=[(['sepal length (cm)', 'sepal width (cm)'], StandardScaler(copy=True, with_mean=True, with_std=True)), (['petal length (cm)', 'petal width (cm)'], Imputer(axis=0, copy=True, missing_values='NaN', strategy='mean', verbo...n_jobs=1,\n",
       "            oob_score=False, random_state=None, verbose=0,\n",
       "            warm_start=False))])"
      ]
     },
     "execution_count": 4,
     "metadata": {},
     "output_type": "execute_result"
    }
   ],
   "source": [
    "import pandas as pd\n",
    "from sklearn import datasets\n",
    "from sklearn.pipeline import Pipeline\n",
    "from sklearn.preprocessing import StandardScaler, Imputer\n",
    "from sklearn_pandas import DataFrameMapper\n",
    "from sklearn.ensemble import RandomForestClassifier\n",
    "from sklearn.linear_model import LogisticRegression\n",
    "\n",
    "iris = datasets.load_iris()\n",
    "irisd = pd.DataFrame(iris.data, columns=iris.feature_names)\n",
    "irisd['Species'] = iris.target\n",
    "\n",
    "features = irisd.columns.drop('Species')\n",
    "target = 'Species'\n",
    "\n",
    "pipeline_obj2 = Pipeline([\n",
    "    (\"mapping\", DataFrameMapper([\n",
    "    (['sepal length (cm)', 'sepal width (cm)'], StandardScaler()) , \n",
    "    (['petal length (cm)', 'petal width (cm)'], Imputer())\n",
    "    ])),\n",
    "    (\"rfc\", RandomForestClassifier(n_estimators = 100))\n",
    "])\n",
    "\n",
    "pipeline_obj2.fit(irisd[features], irisd[target])"
   ]
  },
  {
   "cell_type": "markdown",
   "metadata": {},
   "source": [
    "### Keras model"
   ]
  },
  {
   "cell_type": "code",
   "execution_count": 7,
   "metadata": {
    "ExecuteTime": {
     "end_time": "2019-06-14T15:44:27.003729Z",
     "start_time": "2019-06-14T15:44:21.625771Z"
    }
   },
   "outputs": [
    {
     "name": "stderr",
     "output_type": "stream",
     "text": [
      "C:\\Users\\vran\\AppData\\Local\\Continuum\\anaconda3\\lib\\site-packages\\h5py\\__init__.py:36: FutureWarning: Conversion of the second argument of issubdtype from `float` to `np.floating` is deprecated. In future, it will be treated as `np.float64 == np.dtype(float).type`.\n",
      "  from ._conv import register_converters as _register_converters\n",
      "Using TensorFlow backend.\n"
     ]
    },
    {
     "data": {
      "text/plain": [
       "<keras.callbacks.History at 0x1d72c9134a8>"
      ]
     },
     "execution_count": 7,
     "metadata": {},
     "output_type": "execute_result"
    }
   ],
   "source": [
    "import keras\n",
    "from keras.models import Sequential\n",
    "from keras.layers import Dense, Dropout, Activation\n",
    "from keras.optimizers import SGD\n",
    "\n",
    "# Generate dummy data\n",
    "import numpy as np\n",
    "x_train = np.random.random((1000, 20))\n",
    "y_train = keras.utils.to_categorical(np.random.randint(10, size=(1000, 1)), num_classes=10)\n",
    "x_test = np.random.random((100, 20))\n",
    "y_test = keras.utils.to_categorical(np.random.randint(10, size=(100, 1)), num_classes=10)\n",
    "\n",
    "model = Sequential()\n",
    "# Dense(64) is a fully-connected layer with 64 hidden units.\n",
    "# in the first layer, you must specify the expected input data shape:\n",
    "# here, 20-dimensional vectors.\n",
    "model.add(Dense(64, activation='relu', input_dim=20))\n",
    "model.add(Dropout(0.5))\n",
    "model.add(Dense(64, activation='relu'))\n",
    "model.add(Dropout(0.5))\n",
    "model.add(Dense(10, activation='softmax'))\n",
    "\n",
    "sgd = SGD(lr=0.01, decay=1e-6, momentum=0.9, nesterov=True)\n",
    "model.compile(loss='categorical_crossentropy',\n",
    "              optimizer=sgd,\n",
    "              metrics=['accuracy'])\n",
    "\n",
    "model.fit(x_train, y_train,\n",
    "          epochs=20,\n",
    "          batch_size=128, verbose=0)"
   ]
  },
  {
   "cell_type": "markdown",
   "metadata": {},
   "source": [
    "### Export to PMML - Case 1"
   ]
  },
  {
   "cell_type": "code",
   "execution_count": 6,
   "metadata": {
    "ExecuteTime": {
     "end_time": "2019-06-14T15:41:59.071730Z",
     "start_time": "2019-06-14T15:41:58.823757Z"
    }
   },
   "outputs": [
    {
     "data": {
      "text/plain": [
       "<PMML43Ext.PMML at 0x1d727de2278>"
      ]
     },
     "execution_count": 6,
     "metadata": {},
     "output_type": "execute_result"
    }
   ],
   "source": [
    "toExportDict={\n",
    "    'model1':{\n",
    "        'preProcessingScript':{'scripts':[script1,script2], 'scriptpurpose':['train','score']},\n",
    "        'pipelineObj':pipeline_obj1,\n",
    "        'featuresUsed':['sepal length (cm)', 'sepal width (cm)'],\n",
    "        'targetName':'Species',\n",
    "        'postProcessingScript':{'scripts':[script1], 'scriptpurpose':['postprocess']},\n",
    "        'taskType': 'trainAndscore'\n",
    "    },\n",
    "    'model2':{\n",
    "        'preProcessingScript':{'scripts':[script1,script2], 'scriptpurpose':['train','score']},\n",
    "        'pipelineObj':pipeline_obj2,\n",
    "        'featuresUsed':['petal length (cm)', 'petal width (cm)'],\n",
    "        'targetName':'mpg',\n",
    "        'postProcessingScript':{'scripts':[script1], 'scriptpurpose':['postprocess']},\n",
    "        'taskType': 'score'\n",
    "    }   \n",
    "}\n",
    "\n",
    "model_to_pmml(toExportDict, pmml_f_name=\"test1.pmml\")"
   ]
  },
  {
   "cell_type": "markdown",
   "metadata": {},
   "source": [
    "### Export to PMML - Case 2"
   ]
  },
  {
   "cell_type": "code",
   "execution_count": 9,
   "metadata": {
    "ExecuteTime": {
     "end_time": "2019-06-14T15:45:25.022730Z",
     "start_time": "2019-06-14T15:45:24.964733Z"
    }
   },
   "outputs": [
    {
     "data": {
      "text/plain": [
       "<PMML43Ext.PMML at 0x1d72dd60358>"
      ]
     },
     "execution_count": 9,
     "metadata": {},
     "output_type": "execute_result"
    }
   ],
   "source": [
    "toExportDict={\n",
    "    'model1':{\n",
    "        'hyperParameters':'',\n",
    "        'preProcessingScript':{'scripts':[script1,script2], 'scriptpurpose':['train','score']},\n",
    "        'pipelineObj':pipeline_obj1,\n",
    "        'featuresUsed':['sepal length (cm)', 'sepal width (cm)'],\n",
    "        'targetName':'Species',\n",
    "        'postProcessingScript':{'scripts':[script1], 'scriptpurpose':['postprocess']},\n",
    "        'taskType': 'trainAndscore'\n",
    "    },\n",
    "    'model2':{\n",
    "        'hyperParameters':'',\n",
    "        'preProcessingScript':{'scripts':[script1,script2], 'scriptpurpose':['train','score']},\n",
    "        'pipelineObj':model,\n",
    "        'featuresUsed':None,\n",
    "        'targetName':None,\n",
    "        'postProcessingScript':{'scripts':[script1], 'scriptpurpose':['postprocess']},\n",
    "        'taskType': 'score'\n",
    "    }   \n",
    "}\n",
    "\n",
    "model_to_pmml(toExportDict, pmml_f_name=\"test3.pmml\")"
   ]
  }
 ],
 "metadata": {
  "kernelspec": {
   "display_name": "Python 3",
   "language": "python",
   "name": "python3"
  },
  "language_info": {
   "codemirror_mode": {
    "name": "ipython",
    "version": 3
   },
   "file_extension": ".py",
   "mimetype": "text/x-python",
   "name": "python",
   "nbconvert_exporter": "python",
   "pygments_lexer": "ipython3",
   "version": "3.6.5"
  }
 },
 "nbformat": 4,
 "nbformat_minor": 2
}
