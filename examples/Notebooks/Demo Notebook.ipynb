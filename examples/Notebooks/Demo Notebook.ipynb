{
 "cells": [
  {
   "cell_type": "markdown",
   "metadata": {},
   "source": [
    "## Load DeepNet Models 2 models"
   ]
  },
  {
   "cell_type": "code",
   "execution_count": 1,
   "metadata": {},
   "outputs": [
    {
     "data": {
      "text/plain": [
       "'{\"message\": \"Model loaded successfully\", \"keytoModel\": \"useCase2\"}'"
      ]
     },
     "execution_count": 1,
     "metadata": {},
     "output_type": "execute_result"
    }
   ],
   "source": [
    "fPath='C:/Users/swsh/Desktop/newAPI/Notebooks/New ZMK parser/'\n",
    "import requests\n",
    "import json\n",
    "url='http://localhost:8000/api/v1/newloadmodels'\n",
    "para={'filePath':fPath+'useCase2.pmml'}\n",
    "reas=requests.post(url,data=para)\n",
    "reas.text"
   ]
  },
  {
   "cell_type": "markdown",
   "metadata": {},
   "source": [
    "## Load a RF Model"
   ]
  },
  {
   "cell_type": "code",
   "execution_count": 2,
   "metadata": {},
   "outputs": [
    {
     "data": {
      "text/plain": [
       "'{\"message\": \"Model loaded successfully\", \"keytoModel\": \"rf_housing_model\"}'"
      ]
     },
     "execution_count": 2,
     "metadata": {},
     "output_type": "execute_result"
    }
   ],
   "source": [
    "url='http://localhost:8000/api/v1/newloadmodels'\n",
    "para={'filePath':fPath+'rf_housing_model.pmml'}\n",
    "reas=requests.post(url,data=para)\n",
    "reas.text"
   ]
  },
  {
   "cell_type": "markdown",
   "metadata": {},
   "source": [
    "## Score a test Data"
   ]
  },
  {
   "cell_type": "code",
   "execution_count": 3,
   "metadata": {},
   "outputs": [
    {
     "data": {
      "text/plain": [
       "'{\"result\": [0.975]}'"
      ]
     },
     "execution_count": 3,
     "metadata": {},
     "output_type": "execute_result"
    }
   ],
   "source": [
    "modelName='rf_housing_model'\n",
    "url2='http://localhost:8000/api/v1/newloadmodels/'+modelName+'/scoreJson'\n",
    "# dataRow1={\"mpg\":18.0,\"cylinders\":8,\"displacement\":307.0,\"horsepower\":130.0,\"weight\":3504,\"acceleration\":12.0,\"model year\":70,\"origin\":1,\"car name\":\"chevrolet chevelle malibu\"}\n",
    "dataRow1={'MedInc': 8.3252, 'HouseAge': 41.0, 'AveRooms': 6.984126984126984, 'AveBedrms': 1.0238095238095237,\n",
    " 'Population': 322.0, 'AveOccup': 2.5555555555555554, 'Latitude': 37.88, 'Longitude': -122.23}\n",
    "para2_1={'jsonRecord':json.dumps(dataRow1)}\n",
    "resp02_1=requests.get(url2,params=para2_1)\n",
    "resp02_1.text"
   ]
  },
  {
   "cell_type": "code",
   "execution_count": 4,
   "metadata": {},
   "outputs": [
    {
     "data": {
      "text/plain": [
       "('/api/v1/newloadmodels/rf_housing_model/scoreJson?jsonRecord=%7B%22MedInc%22%3A+8.3252%2C+%22HouseAge%22%3A+41.0%2C+%22AveRooms%22%3A+6.984126984126984%2C+%22AveBedrms%22%3A+1.0238095238095237%2C+%22Population%22%3A+322.0%2C+%22AveOccup%22%3A+2.5555555555555554%2C+%22Latitude%22%3A+37.88%2C+%22Longitude%22%3A+-122.23%7D',\n",
       " <PreparedRequest [GET]>)"
      ]
     },
     "execution_count": 4,
     "metadata": {},
     "output_type": "execute_result"
    }
   ],
   "source": [
    "resp02_1.request.path_url,resp02_1.request"
   ]
  },
  {
   "cell_type": "markdown",
   "metadata": {},
   "source": [
    "## Score with out loading Model"
   ]
  },
  {
   "cell_type": "code",
   "execution_count": 5,
   "metadata": {},
   "outputs": [
    {
     "data": {
      "text/plain": [
       "'{\"result\": [0.975]}'"
      ]
     },
     "execution_count": 5,
     "metadata": {},
     "output_type": "execute_result"
    }
   ],
   "source": [
    "modelName='rf_housing_model2'\n",
    "url2='http://localhost:8000/api/v1/newloadmodels/'+modelName+'/scoreJson'\n",
    "# dataRow1={\"mpg\":18.0,\"cylinders\":8,\"displacement\":307.0,\"horsepower\":130.0,\"weight\":3504,\"acceleration\":12.0,\"model year\":70,\"origin\":1,\"car name\":\"chevrolet chevelle malibu\"}\n",
    "dataRow1={'MedInc': 8.3252, 'HouseAge': 41.0, 'AveRooms': 6.984126984126984, 'AveBedrms': 1.0238095238095237,\n",
    " 'Population': 322.0, 'AveOccup': 2.5555555555555554, 'Latitude': 37.88, 'Longitude': -122.23}\n",
    "para2_1={'jsonRecord':json.dumps(dataRow1)}\n",
    "resp02_1=requests.get(url2,params=para2_1)\n",
    "resp02_1.text"
   ]
  },
  {
   "cell_type": "markdown",
   "metadata": {},
   "source": [
    "## Load a Script"
   ]
  },
  {
   "cell_type": "code",
   "execution_count": 6,
   "metadata": {},
   "outputs": [
    {
     "data": {
      "text/plain": [
       "'{\"result\": \"Code Load Success\", \"codeKey\": \"codeToTest\"}'"
      ]
     },
     "execution_count": 6,
     "metadata": {},
     "output_type": "execute_result"
    }
   ],
   "source": [
    "url3='http://localhost:8000/api/v1/codeLaod'\n",
    "para={'filePath':fPath+'codeToTest.py'}\n",
    "reas=requests.get(url3,params=para)\n",
    "reas.text"
   ]
  },
  {
   "cell_type": "markdown",
   "metadata": {},
   "source": [
    "## Calculate Feature"
   ]
  },
  {
   "cell_type": "code",
   "execution_count": 7,
   "metadata": {
    "scrolled": true
   },
   "outputs": [
    {
     "data": {
      "text/plain": [
       "'{\"result\": 7}'"
      ]
     },
     "execution_count": 7,
     "metadata": {},
     "output_type": "execute_result"
    }
   ],
   "source": [
    "scriptName='codeToTest'\n",
    "url4='http://localhost:8000/api/v1/codeLoad/'+scriptName+'/Execute'\n",
    "para2_12={'jsonRecord':json.dumps([5,6,7])}\n",
    "resp02_12=requests.get(url4,params=para2_12)\n",
    "resp02_12.text"
   ]
  },
  {
   "cell_type": "markdown",
   "metadata": {},
   "source": [
    "## Calculate if script not loaded"
   ]
  },
  {
   "cell_type": "code",
   "execution_count": 8,
   "metadata": {},
   "outputs": [
    {
     "data": {
      "text/plain": [
       "'{\"result\": 7}'"
      ]
     },
     "execution_count": 8,
     "metadata": {},
     "output_type": "execute_result"
    }
   ],
   "source": [
    "scriptName='codeToTest2'\n",
    "url4='http://localhost:8000/api/v1/codeLoad/'+scriptName+'/Execute'\n",
    "para2_12={'jsonRecord':json.dumps([5,6,7])}\n",
    "resp02_12=requests.get(url4,params=para2_12)\n",
    "resp02_12.text"
   ]
  },
  {
   "cell_type": "code",
   "execution_count": null,
   "metadata": {},
   "outputs": [],
   "source": []
  }
 ],
 "metadata": {
  "kernelspec": {
   "display_name": "Python 3",
   "language": "python",
   "name": "python3"
  },
  "language_info": {
   "codemirror_mode": {
    "name": "ipython",
    "version": 3
   },
   "file_extension": ".py",
   "mimetype": "text/x-python",
   "name": "python",
   "nbconvert_exporter": "python",
   "pygments_lexer": "ipython3",
   "version": "3.6.5"
  }
 },
 "nbformat": 4,
 "nbformat_minor": 2
}
