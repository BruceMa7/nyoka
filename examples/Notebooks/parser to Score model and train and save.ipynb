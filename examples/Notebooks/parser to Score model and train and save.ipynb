{
 "cells": [
  {
   "cell_type": "code",
   "execution_count": null,
   "metadata": {},
   "outputs": [],
   "source": [
    "pwd"
   ]
  },
  {
   "cell_type": "code",
   "execution_count": 1,
   "metadata": {},
   "outputs": [
    {
     "name": "stderr",
     "output_type": "stream",
     "text": [
      "Using TensorFlow backend.\n"
     ]
    }
   ],
   "source": [
    "import warnings\n",
    "warnings.filterwarnings('ignore')\n",
    "import pandas as pd\n",
    "import sys\n",
    "import pathlib\n",
    "import requests\n",
    "import json\n",
    "from nyoka import PMML43Ext as ny\n",
    "# from nyokaBase.skl.pmml_to_skl import pmml_to_skl\n",
    "fPath='C:/Users/swsh/Desktop/nyokaDurr/nyoka_deurr/nyoka-43Ext/'\n",
    "\n",
    "from nyoka.reconstruct.pmml_to_pipeline_model import generate_skl_model"
   ]
  },
  {
   "cell_type": "code",
   "execution_count": 42,
   "metadata": {},
   "outputs": [
    {
     "data": {
      "text/plain": [
       "('UseCaseDemo.pmml', '.pmml')"
      ]
     },
     "execution_count": 42,
     "metadata": {},
     "output_type": "execute_result"
    }
   ],
   "source": [
    "ppp=pathlib.Path(fPath+'UseCaseDemo.pmml')\n",
    "ppp.name,ppp.suffix"
   ]
  },
  {
   "cell_type": "code",
   "execution_count": 43,
   "metadata": {},
   "outputs": [],
   "source": [
    "pmmlObj=ny.parse(fPath+'UseCase1Self.pmml',silence=True)"
   ]
  },
  {
   "cell_type": "code",
   "execution_count": 44,
   "metadata": {},
   "outputs": [],
   "source": [
    "ppp=pmmlObj.__dict__['DeepNetwork'][0]#.__dict__"
   ]
  },
  {
   "cell_type": "code",
   "execution_count": 45,
   "metadata": {},
   "outputs": [],
   "source": [
    "import ast"
   ]
  },
  {
   "cell_type": "code",
   "execution_count": 6,
   "metadata": {},
   "outputs": [],
   "source": [
    "modelObjectToCheck=['AssociationModel', 'AnomalyDetectionModel', 'BayesianNetworkModel',\n",
    "                    'BaselineModel', 'ClusteringModel', 'DeepNetwork', 'GaussianProcessModel',\n",
    "                    'GeneralRegressionModel', 'MiningModel', 'NaiveBayesModel', 'NearestNeighborModel', \n",
    "                    'NeuralNetwork', 'RegressionModel', 'RuleSetModel', 'SequenceModel', 'Scorecard', \n",
    "                    'SupportVectorMachineModel', 'TextModel', 'TimeSeriesModel', 'TreeModel']"
   ]
  },
  {
   "cell_type": "code",
   "execution_count": 7,
   "metadata": {},
   "outputs": [],
   "source": [
    "def getCode(strngVal):\n",
    "    lines = []\n",
    "    code = strngVal.lstrip('\\n')\n",
    "    leading_spaces = len(code) - len(code.lstrip(' '))\n",
    "    for line in code.split('\\n'):\n",
    "        lines.append(line[leading_spaces:])\n",
    "    code = '\\n'.join(lines)\n",
    "    return code\n",
    "\n",
    "def getCodeObjectToProcess(codeVal):\n",
    "    d = {}\n",
    "    exec(codeVal, None,d)\n",
    "    objeCode=d[list(d.keys())[0]]\n",
    "    return objeCode\n",
    "\n",
    "def getTargetAndColumnsName(modObjToDetect):\n",
    "    targetCol=None\n",
    "    listOFColumns=[]\n",
    "    if modObjToDetect.__dict__['original_tagname_']=='MiningModel':\n",
    "        for minF in modObjToDetect.get_MiningSchema().__dict__['MiningField']:\n",
    "            if minF.__dict__['usageType'] == 'target':\n",
    "                targetCol=minF.__dict__['name']\n",
    "            else:\n",
    "                listOFColumns.append(minF.__dict__['name'])\n",
    "    else:\n",
    "        print ('Add support')\n",
    "        targetCol=None\n",
    "        listOFColumns=[]\n",
    "    return listOFColumns,targetCol\n",
    "\n"
   ]
  },
  {
   "cell_type": "code",
   "execution_count": 8,
   "metadata": {},
   "outputs": [],
   "source": [
    "def nyObjOfModel(pmmlObj,singMod):\n",
    "    import nyoka.PMML43Ext as ny\n",
    "    if singMod['pmmlModelObject'].__dict__['original_tagname_']=='MiningModel':\n",
    "        nyokaObj=ny.PMML(MiningBuildTask=pmmlObj.MiningBuildTask,DataDictionary=pmmlObj.DataDictionary,MiningModel=[singMod['pmmlModelObject']])\n",
    "    elif singMod['pmmlModelObject'].__dict__['original_tagname_']=='DeepNetwork':\n",
    "        nyokaObj=ny.PMML(DataDictionary=pmmlObj.DataDictionary,DeepNetwork=[singMod['pmmlModelObject']])\n",
    "    else:\n",
    "        nyokaObj=None\n",
    "    return nyokaObj"
   ]
  },
  {
   "cell_type": "code",
   "execution_count": 9,
   "metadata": {},
   "outputs": [],
   "source": [
    "modelObj=[]\n",
    "for inMod in modelObjectToCheck:\n",
    "    if len(pmmlObj.__dict__[inMod]) >0:\n",
    "        modPMMLObj=pmmlObj.__dict__[inMod]\n",
    "        if inMod == 'DeepNetwork':\n",
    "            for ininMod in modPMMLObj:\n",
    "                modelObj.append({'modelArchType':'NNModel','pmmlModelObject':ininMod,'recoModelObj':None,'listOFColumns':None,'targetCol':None})\n",
    "        else:\n",
    "            for ininMod in modPMMLObj:\n",
    "                colInfo=getTargetAndColumnsName(ininMod)\n",
    "#                 recoModelObj=generateModelfromPMML(ininMod)\n",
    "                modelObj.append({'modelArchType':'SKLModel','pmmlModelObject':ininMod,'recoModelObj':None,'listOFColumns':colInfo[0],'targetCol':colInfo[1]})"
   ]
  },
  {
   "cell_type": "code",
   "execution_count": 10,
   "metadata": {},
   "outputs": [
    {
     "data": {
      "text/plain": [
       "[{'modelArchType': 'NNModel',\n",
       "  'pmmlModelObject': <nyoka.PMML43Ext.DeepNetwork at 0x252f0605b00>,\n",
       "  'recoModelObj': None,\n",
       "  'listOFColumns': None,\n",
       "  'targetCol': None},\n",
       " {'modelArchType': 'SKLModel',\n",
       "  'pmmlModelObject': <nyoka.PMML43Ext.MiningModel at 0x252f06286d8>,\n",
       "  'recoModelObj': None,\n",
       "  'listOFColumns': ['Open',\n",
       "   'Close',\n",
       "   'Low',\n",
       "   'RollingOpen',\n",
       "   'RollingClose',\n",
       "   'RollingLow',\n",
       "   'StdDevOpen',\n",
       "   'StdDevClose',\n",
       "   'StdDevLow'],\n",
       "  'targetCol': 'Volume'}]"
      ]
     },
     "execution_count": 10,
     "metadata": {},
     "output_type": "execute_result"
    }
   ],
   "source": [
    "modelObj"
   ]
  },
  {
   "cell_type": "code",
   "execution_count": 11,
   "metadata": {},
   "outputs": [],
   "source": [
    "tempDict={}\n",
    "tempDict['train']={}\n",
    "\n",
    "tempDict['score']={}\n",
    "\n",
    "for singMod in modelObj:\n",
    "    if singMod['pmmlModelObject'].taskType=='trainAndscore':\n",
    "        tempDict['train'][singMod['pmmlModelObject'].modelName]={}\n",
    "        tempDict['train'][singMod['pmmlModelObject'].modelName]['modelObj']=singMod\n",
    "        tempDict['train'][singMod['pmmlModelObject'].modelName]['modelObj']['pmmlDdicObj']=pmmlObj.DataDictionary\n",
    "        tempDict['train'][singMod['pmmlModelObject'].modelName]['modelObj']['pmmlNyokaObj']=nyObjOfModel(pmmlObj,singMod)\n",
    "        tempDict['score'][singMod['pmmlModelObject'].modelName]={}\n",
    "        tempDict['score'][singMod['pmmlModelObject'].modelName]['modelObj']=singMod\n",
    "        tempDict['score'][singMod['pmmlModelObject'].modelName]['modelObj']['pmmlDdicObj']=pmmlObj.DataDictionary\n",
    "        tempDict['train'][singMod['pmmlModelObject'].modelName]['modelObj']['pmmlNyokaObj']=nyObjOfModel(pmmlObj,singMod)\n",
    "    else:\n",
    "        tempDict[singMod['pmmlModelObject'].taskType][singMod['pmmlModelObject'].modelName]={}\n",
    "        tempDict[singMod['pmmlModelObject'].taskType][singMod['pmmlModelObject'].modelName]['modelObj']=singMod\n",
    "        tempDict[singMod['pmmlModelObject'].taskType][singMod['pmmlModelObject'].modelName]['modelObj']['pmmlDdicObj']=pmmlObj.DataDictionary\n",
    "        tempDict[singMod['pmmlModelObject'].taskType][singMod['pmmlModelObject'].modelName]['modelObj']['pmmlNyokaObj']=nyObjOfModel(pmmlObj,singMod)"
   ]
  },
  {
   "cell_type": "code",
   "execution_count": 12,
   "metadata": {
    "scrolled": true
   },
   "outputs": [
    {
     "name": "stdout",
     "output_type": "stream",
     "text": [
      "train\n",
      "['model1']\n",
      ">>>>>   model1\n",
      "score\n",
      "['model1', 'model2']\n",
      ">>>>>   model1\n",
      ">>>>>   model2\n"
     ]
    }
   ],
   "source": [
    "tempDict2={}\n",
    "for taType in tempDict:\n",
    "    print (taType)\n",
    "    tempTa=list(tempDict[taType].keys())\n",
    "    tempTa.sort()\n",
    "    print (tempTa)\n",
    "    for taTTemp in tempTa:\n",
    "        print ('>>>>>  ',taTTemp)\n",
    "        if taType in tempDict2:\n",
    "            pass\n",
    "        else:\n",
    "            tempDict2[taType]={}\n",
    "        tempDict2[taType][taTTemp]=tempDict[taType][taTTemp]"
   ]
  },
  {
   "cell_type": "code",
   "execution_count": 13,
   "metadata": {},
   "outputs": [],
   "source": [
    "tempDict=tempDict2.copy()"
   ]
  },
  {
   "cell_type": "code",
   "execution_count": 14,
   "metadata": {},
   "outputs": [],
   "source": [
    "for sc1 in pmmlObj.script:\n",
    "#     print (sc1.class_,sc1.for_,sc1.scriptPurpose,sc1.valueOf_)\n",
    "    if sc1.scriptPurpose=='trainAndscore':\n",
    "        tempDict['train'][sc1.for_][sc1.class_]={}\n",
    "        tempDict['train'][sc1.for_][sc1.class_+'_code']=getCode(sc1.valueOf_)\n",
    "        tempDict['train'][sc1.for_][sc1.class_]=getCodeObjectToProcess(getCode(sc1.valueOf_))\n",
    "        tempDict['score'][sc1.for_][sc1.class_]={}\n",
    "        tempDict['score'][sc1.for_][sc1.class_+'_code']=getCode(sc1.valueOf_)\n",
    "        tempDict['score'][sc1.for_][sc1.class_]=getCodeObjectToProcess(getCode(sc1.valueOf_))\n",
    "    else:\n",
    "        tempDict[sc1.scriptPurpose][sc1.for_][sc1.class_]={}\n",
    "        tempDict[sc1.scriptPurpose][sc1.for_][sc1.class_+'_code']=getCode(sc1.valueOf_)\n",
    "        tempDict[sc1.scriptPurpose][sc1.for_][sc1.class_]=getCodeObjectToProcess(getCode(sc1.valueOf_))"
   ]
  },
  {
   "cell_type": "code",
   "execution_count": 15,
   "metadata": {},
   "outputs": [],
   "source": [
    "taskTypesName=list(tempDict.keys())\n",
    "listOfModelNames=set([k for j in tempDict for k in tempDict[j]])\n",
    "\n",
    "hyperParDict={}\n",
    "for extObj in pmmlObj.MiningBuildTask.Extension:\n",
    "    if extObj.name=='hyperparameters':\n",
    "        hyperParDict[extObj.for_]=ast.literal_eval(extObj.value)"
   ]
  },
  {
   "cell_type": "code",
   "execution_count": 16,
   "metadata": {},
   "outputs": [
    {
     "data": {
      "text/plain": [
       "{'model2': {'num_leaves': 31,\n",
       "  'objective': 'regression',\n",
       "  'metric': 'mean_absolute_error'}}"
      ]
     },
     "execution_count": 16,
     "metadata": {},
     "output_type": "execute_result"
    }
   ],
   "source": [
    "hyperParDict"
   ]
  },
  {
   "cell_type": "code",
   "execution_count": 17,
   "metadata": {},
   "outputs": [],
   "source": [
    "%load_ext autoreload\n",
    "%reload_ext autoreload"
   ]
  },
  {
   "cell_type": "code",
   "execution_count": 18,
   "metadata": {},
   "outputs": [
    {
     "name": "stdout",
     "output_type": "stream",
     "text": [
      "train\n",
      "score\n",
      "Creating Layers: [###############---------------] 50% lstm_2                                       WARNING:tensorflow:From C:\\Users\\swsh\\AppData\\Local\\Continuum\\anaconda3\\envs\\py36\\lib\\site-packages\\tensorflow\\python\\framework\\op_def_library.py:263: colocate_with (from tensorflow.python.framework.ops) is deprecated and will be removed in a future version.\n",
      "Instructions for updating:\n",
      "Colocations handled automatically by placer.\n",
      "Creating Layers: [##############################] 100% dense_4                                     \n",
      "Applying Weights: [##############################] 100% dense_4                                    \n"
     ]
    }
   ],
   "source": [
    "modelLoadStatus=[]\n",
    "for taskT in tempDict:\n",
    "    print (taskT)\n",
    "    for mO in tempDict[taskT]:\n",
    "        if tempDict[taskT][mO]['modelObj']['modelArchType']==\"NNModel\":\n",
    "            modelProp=tempDict[taskT][mO]['modelObj']['pmmlNyokaObj']\n",
    "            recoModelObj=generate_skl_model(modelProp)\n",
    "            if str(recoModelObj) != 'None':\n",
    "                tempDict[taskT][mO]['modelObj']['recoModelObj']=recoModelObj\n",
    "                modelLoadStatus.append(1)\n",
    "            else:\n",
    "                modelLoadStatus.append(0)\n",
    "            try:\n",
    "                tempDict[taskT][mO]['modelObj']['hyperparameters']=hyperParDict[mO]\n",
    "            except:\n",
    "                tempDict[taskT][mO]['modelObj']['hyperparameters']=None\n",
    "        elif tempDict[taskT][mO]['modelObj']['modelArchType']==\"SKLModel\":\n",
    "            modelProp=tempDict[taskT][mO]['modelObj']['pmmlNyokaObj']\n",
    "            recoModelObj=generate_skl_model(modelProp)\n",
    "            if recoModelObj != None:\n",
    "                tempDict[taskT][mO]['modelObj']['recoModelObj']=recoModelObj\n",
    "                modelLoadStatus.append(1)\n",
    "            else:\n",
    "                modelLoadStatus.append(0)\n",
    "            try:\n",
    "                tempDict[taskT][mO]['modelObj']['hyperparameters']=hyperParDict[mO]\n",
    "            except:\n",
    "                tempDict[taskT][mO]['modelObj']['hyperparameters']=None"
   ]
  },
  {
   "cell_type": "code",
   "execution_count": 55,
   "metadata": {},
   "outputs": [
    {
     "data": {
      "text/plain": [
       "{'model1': {'modelObj': {'modelArchType': 'SKLModel',\n",
       "   'pmmlModelObject': <nyoka.PMML43Ext.MiningModel at 0x252f06286d8>,\n",
       "   'recoModelObj': <lightgbm.basic.Booster at 0x252f0c76160>,\n",
       "   'listOFColumns': ['Open',\n",
       "    'Close',\n",
       "    'Low',\n",
       "    'RollingOpen',\n",
       "    'RollingClose',\n",
       "    'RollingLow',\n",
       "    'StdDevOpen',\n",
       "    'StdDevClose',\n",
       "    'StdDevLow'],\n",
       "   'targetCol': 'Volume',\n",
       "   'pmmlDdicObj': <nyoka.PMML43Ext.DataDictionary at 0x252f0605588>,\n",
       "   'pmmlNyokaObj': <nyoka.PMML43Ext.PMML at 0x252f0c375f8>,\n",
       "   'hyperparameters': None},\n",
       "  'preprocessing': <function __main__.preProcessDataTrain()>,\n",
       "  'preprocessing_code': \"def preProcessDataTrain():\\n    import pandas as pd\\n    data=pd.read_csv('../ZMOD/Data/NIFTY.txt',header=None)\\n    data.columns=['StockName','Date','Time','Open','Close','Low','High','Volume','Ext']\\n    toData=data[['Open','Close','Low','Volume']]\\n    toData['RollingOpen']=toData.rolling(window=5)[['Open']].mean()\\n    toData['RollingClose']=toData.rolling(window=5)[['Close']].mean()\\n    toData['RollingLow']=toData.rolling(window=5)[['Low']].mean()\\n    toData['StdDevOpen']=toData.rolling(window=5)[['Open']].std()\\n    toData['StdDevClose']=toData.rolling(window=5)[['Close']].std()\\n    toData['StdDevLow']=toData.rolling(window=5)[['Low']].std()\\n    toData=toData.fillna(method='bfill')\\n    return toData\\n\"}}"
      ]
     },
     "execution_count": 55,
     "metadata": {},
     "output_type": "execute_result"
    }
   ],
   "source": [
    "tempDict['train']"
   ]
  },
  {
   "cell_type": "markdown",
   "metadata": {},
   "source": [
    "## Train Model"
   ]
  },
  {
   "cell_type": "code",
   "execution_count": 19,
   "metadata": {},
   "outputs": [],
   "source": [
    "import pandas as pd\n",
    "import numpy as np\n",
    "from sklearn import ensemble,metrics\n",
    "from sklearn import datasets\n",
    "import lightgbm as lgb\n",
    "\n",
    "data=pd.read_csv('NIFTY.txt',header=None)\n",
    "data.columns=['StockName','Date','Time','Open','Close','Low','High','Volume','Ext']\n",
    "toData=data[['Open','Close','Low','Volume']]\n",
    "\n",
    "def preProcessDataScore(toData):\n",
    "    toData['RollingOpen']=toData.rolling(window=5)[['Open']].mean()\n",
    "    toData['RollingClose']=toData.rolling(window=5)[['Close']].mean()\n",
    "    toData['RollingLow']=toData.rolling(window=5)[['Low']].mean()\n",
    "    toData['StdDevOpen']=toData.rolling(window=5)[['Open']].std()\n",
    "    toData['StdDevClose']=toData.rolling(window=5)[['Close']].std()\n",
    "    toData['StdDevLow']=toData.rolling(window=5)[['Low']].std()\n",
    "    toData=toData.fillna(method='bfill')\n",
    "    return toData\n",
    "\n",
    "def preProcessDataTrain():\n",
    "    import pandas as pd\n",
    "    data=pd.read_csv('../ZMOD/Data/NIFTY.txt',header=None)\n",
    "    data.columns=['StockName','Date','Time','Open','Close','Low','High','Volume','Ext']\n",
    "    toData=data[['Open','Close','Low','Volume']]\n",
    "    toData['RollingOpen']=toData.rolling(window=5)[['Open']].mean()\n",
    "    toData['RollingClose']=toData.rolling(window=5)[['Close']].mean()\n",
    "    toData['RollingLow']=toData.rolling(window=5)[['Low']].mean()\n",
    "    toData['StdDevOpen']=toData.rolling(window=5)[['Open']].std()\n",
    "    toData['StdDevClose']=toData.rolling(window=5)[['Close']].std()\n",
    "    toData['StdDevLow']=toData.rolling(window=5)[['Low']].std()\n",
    "    toData=toData.fillna(method='bfill')\n",
    "    return toData\n",
    "\n",
    "toData=preProcessDataScore(toData)"
   ]
  },
  {
   "cell_type": "code",
   "execution_count": 50,
   "metadata": {},
   "outputs": [],
   "source": [
    "modltToTest=tempDict['train']['model1']['modelObj']['recoModelObj']"
   ]
  },
  {
   "cell_type": "code",
   "execution_count": 54,
   "metadata": {},
   "outputs": [
    {
     "data": {
      "text/plain": [
       "False"
      ]
     },
     "execution_count": 54,
     "metadata": {},
     "output_type": "execute_result"
    }
   ],
   "source": [
    "type(modltToTest)=='lightgbm.basic.Booster'\n"
   ]
  },
  {
   "cell_type": "code",
   "execution_count": 21,
   "metadata": {},
   "outputs": [
    {
     "data": {
      "text/plain": [
       "-1"
      ]
     },
     "execution_count": 21,
     "metadata": {},
     "output_type": "execute_result"
    }
   ],
   "source": [
    "modltToTest.best_iteration"
   ]
  },
  {
   "cell_type": "code",
   "execution_count": 22,
   "metadata": {},
   "outputs": [],
   "source": [
    "XVar=['Open', 'Close', 'Low',  'RollingOpen', 'RollingClose','RollingLow', 'StdDevOpen', 'StdDevClose', 'StdDevLow']\n",
    "YVar=['Volume']"
   ]
  },
  {
   "cell_type": "code",
   "execution_count": 23,
   "metadata": {},
   "outputs": [],
   "source": [
    "train_data=lgb.Dataset(toData[XVar],toData[YVar])\n",
    "num_round = 10\n",
    "param = {'num_leaves': 31, 'objective': 'regression'}\n",
    "param['metric'] = 'mean_absolute_error'\n",
    "model1_ = lgb.train(param, train_data, num_round,init_model=modltToTest)"
   ]
  },
  {
   "cell_type": "code",
   "execution_count": 24,
   "metadata": {},
   "outputs": [],
   "source": [
    "scor=modltToTest.predict(toData[XVar])"
   ]
  },
  {
   "cell_type": "code",
   "execution_count": 25,
   "metadata": {},
   "outputs": [
    {
     "data": {
      "text/plain": [
       "array([30.97218658, 30.97218658, 30.97218658, ..., 20.82821035,\n",
       "       20.82821035, 20.82821035])"
      ]
     },
     "execution_count": 25,
     "metadata": {},
     "output_type": "execute_result"
    }
   ],
   "source": [
    "model1_.predict(toData[XVar])"
   ]
  },
  {
   "cell_type": "code",
   "execution_count": 26,
   "metadata": {},
   "outputs": [
    {
     "data": {
      "text/plain": [
       "array([26.23067591, 26.23067591, 26.23067591, ..., 18.59628762,\n",
       "       18.59628762, 18.59628762])"
      ]
     },
     "execution_count": 26,
     "metadata": {},
     "output_type": "execute_result"
    }
   ],
   "source": [
    "scor"
   ]
  },
  {
   "cell_type": "code",
   "execution_count": 27,
   "metadata": {},
   "outputs": [],
   "source": [
    "def preProcessData2nd(toData,scored):\n",
    "    toData['resi']=toData['Volume']-scored\n",
    "    toData['Rollingresi']=toData.rolling(window=5)[['resi']].mean()\n",
    "    toData['StdDevresi']=toData.rolling(window=5)[['resi']].std()\n",
    "    toData=toData.fillna(method='bfill')\n",
    "    toData['Volume2']=toData['Volume'].apply(lambda x: 1 if x>17 else 0)\n",
    "    return toData\n",
    "\n",
    "\n",
    "toData2=preProcessData2nd(toData,scor)"
   ]
  },
  {
   "cell_type": "code",
   "execution_count": 28,
   "metadata": {},
   "outputs": [
    {
     "data": {
      "text/html": [
       "<div>\n",
       "<style scoped>\n",
       "    .dataframe tbody tr th:only-of-type {\n",
       "        vertical-align: middle;\n",
       "    }\n",
       "\n",
       "    .dataframe tbody tr th {\n",
       "        vertical-align: top;\n",
       "    }\n",
       "\n",
       "    .dataframe thead th {\n",
       "        text-align: right;\n",
       "    }\n",
       "</style>\n",
       "<table border=\"1\" class=\"dataframe\">\n",
       "  <thead>\n",
       "    <tr style=\"text-align: right;\">\n",
       "      <th></th>\n",
       "      <th>Open</th>\n",
       "      <th>Close</th>\n",
       "      <th>Low</th>\n",
       "      <th>Volume</th>\n",
       "      <th>RollingOpen</th>\n",
       "      <th>RollingClose</th>\n",
       "      <th>RollingLow</th>\n",
       "      <th>StdDevOpen</th>\n",
       "      <th>StdDevClose</th>\n",
       "      <th>StdDevLow</th>\n",
       "      <th>resi</th>\n",
       "      <th>Rollingresi</th>\n",
       "      <th>StdDevresi</th>\n",
       "      <th>Volume2</th>\n",
       "    </tr>\n",
       "  </thead>\n",
       "  <tbody>\n",
       "    <tr>\n",
       "      <th>0</th>\n",
       "      <td>10531.70</td>\n",
       "      <td>10531.70</td>\n",
       "      <td>10531.70</td>\n",
       "      <td>100</td>\n",
       "      <td>10527.31</td>\n",
       "      <td>10528.76</td>\n",
       "      <td>10522.84</td>\n",
       "      <td>5.164833</td>\n",
       "      <td>4.904768</td>\n",
       "      <td>5.303466</td>\n",
       "      <td>73.769324</td>\n",
       "      <td>39.969324</td>\n",
       "      <td>18.992104</td>\n",
       "      <td>1</td>\n",
       "    </tr>\n",
       "    <tr>\n",
       "      <th>1</th>\n",
       "      <td>10533.75</td>\n",
       "      <td>10535.50</td>\n",
       "      <td>10518.00</td>\n",
       "      <td>57</td>\n",
       "      <td>10527.31</td>\n",
       "      <td>10528.76</td>\n",
       "      <td>10522.84</td>\n",
       "      <td>5.164833</td>\n",
       "      <td>4.904768</td>\n",
       "      <td>5.303466</td>\n",
       "      <td>30.769324</td>\n",
       "      <td>39.969324</td>\n",
       "      <td>18.992104</td>\n",
       "      <td>1</td>\n",
       "    </tr>\n",
       "    <tr>\n",
       "      <th>2</th>\n",
       "      <td>10523.00</td>\n",
       "      <td>10527.50</td>\n",
       "      <td>10522.25</td>\n",
       "      <td>59</td>\n",
       "      <td>10527.31</td>\n",
       "      <td>10528.76</td>\n",
       "      <td>10522.84</td>\n",
       "      <td>5.164833</td>\n",
       "      <td>4.904768</td>\n",
       "      <td>5.303466</td>\n",
       "      <td>32.769324</td>\n",
       "      <td>39.969324</td>\n",
       "      <td>18.992104</td>\n",
       "      <td>1</td>\n",
       "    </tr>\n",
       "    <tr>\n",
       "      <th>3</th>\n",
       "      <td>10525.80</td>\n",
       "      <td>10526.15</td>\n",
       "      <td>10522.60</td>\n",
       "      <td>60</td>\n",
       "      <td>10527.31</td>\n",
       "      <td>10528.76</td>\n",
       "      <td>10522.84</td>\n",
       "      <td>5.164833</td>\n",
       "      <td>4.904768</td>\n",
       "      <td>5.303466</td>\n",
       "      <td>33.769324</td>\n",
       "      <td>39.969324</td>\n",
       "      <td>18.992104</td>\n",
       "      <td>1</td>\n",
       "    </tr>\n",
       "    <tr>\n",
       "      <th>4</th>\n",
       "      <td>10522.30</td>\n",
       "      <td>10522.95</td>\n",
       "      <td>10519.65</td>\n",
       "      <td>55</td>\n",
       "      <td>10527.31</td>\n",
       "      <td>10528.76</td>\n",
       "      <td>10522.84</td>\n",
       "      <td>5.164833</td>\n",
       "      <td>4.904768</td>\n",
       "      <td>5.303466</td>\n",
       "      <td>28.769324</td>\n",
       "      <td>39.969324</td>\n",
       "      <td>18.992104</td>\n",
       "      <td>1</td>\n",
       "    </tr>\n",
       "  </tbody>\n",
       "</table>\n",
       "</div>"
      ],
      "text/plain": [
       "       Open     Close       Low  Volume  RollingOpen  RollingClose  \\\n",
       "0  10531.70  10531.70  10531.70     100     10527.31      10528.76   \n",
       "1  10533.75  10535.50  10518.00      57     10527.31      10528.76   \n",
       "2  10523.00  10527.50  10522.25      59     10527.31      10528.76   \n",
       "3  10525.80  10526.15  10522.60      60     10527.31      10528.76   \n",
       "4  10522.30  10522.95  10519.65      55     10527.31      10528.76   \n",
       "\n",
       "   RollingLow  StdDevOpen  StdDevClose  StdDevLow       resi  Rollingresi  \\\n",
       "0    10522.84    5.164833     4.904768   5.303466  73.769324    39.969324   \n",
       "1    10522.84    5.164833     4.904768   5.303466  30.769324    39.969324   \n",
       "2    10522.84    5.164833     4.904768   5.303466  32.769324    39.969324   \n",
       "3    10522.84    5.164833     4.904768   5.303466  33.769324    39.969324   \n",
       "4    10522.84    5.164833     4.904768   5.303466  28.769324    39.969324   \n",
       "\n",
       "   StdDevresi  Volume2  \n",
       "0   18.992104        1  \n",
       "1   18.992104        1  \n",
       "2   18.992104        1  \n",
       "3   18.992104        1  \n",
       "4   18.992104        1  "
      ]
     },
     "execution_count": 28,
     "metadata": {},
     "output_type": "execute_result"
    }
   ],
   "source": [
    "toData2.head()"
   ]
  },
  {
   "cell_type": "code",
   "execution_count": 29,
   "metadata": {},
   "outputs": [],
   "source": [
    "XVar2=['resi', 'Rollingresi', 'StdDevresi']\n",
    "YVar2=['Volume2']"
   ]
  },
  {
   "cell_type": "code",
   "execution_count": 30,
   "metadata": {},
   "outputs": [],
   "source": [
    "from keras.models import Sequential\n",
    "from keras.layers import Dense\n",
    "from keras.layers import LSTM\n",
    "from sklearn.preprocessing import MinMaxScaler\n",
    "from sklearn.metrics import mean_squared_error"
   ]
  },
  {
   "cell_type": "code",
   "execution_count": 31,
   "metadata": {},
   "outputs": [],
   "source": [
    "kk=toData2[XVar2].shape[0]\n",
    "hh=toData2[XVar2].shape[1]\n",
    "XInde=toData2[XVar2].values.reshape(kk,1,hh)\n",
    "YDepe=toData2[YVar2].values#.reshape(1,kk)"
   ]
  },
  {
   "cell_type": "code",
   "execution_count": 32,
   "metadata": {},
   "outputs": [
    {
     "name": "stdout",
     "output_type": "stream",
     "text": [
      "WARNING:tensorflow:From C:\\Users\\swsh\\AppData\\Local\\Continuum\\anaconda3\\envs\\py36\\lib\\site-packages\\tensorflow\\python\\ops\\math_ops.py:3066: to_int32 (from tensorflow.python.ops.math_ops) is deprecated and will be removed in a future version.\n",
      "Instructions for updating:\n",
      "Use tf.cast instead.\n",
      "Epoch 1/5\n",
      "92630/92630 [==============================] - 6s 70us/step - loss: 0.0114 - acc: 0.9968\n",
      "Epoch 2/5\n",
      "92630/92630 [==============================] - 6s 61us/step - loss: 0.0051 - acc: 0.9980\n",
      "Epoch 3/5\n",
      "92630/92630 [==============================] - 6s 61us/step - loss: 0.0048 - acc: 0.9980\n",
      "Epoch 4/5\n",
      "92630/92630 [==============================] - 6s 60us/step - loss: 0.0045 - acc: 0.9982\n",
      "Epoch 5/5\n",
      "92630/92630 [==============================] - 6s 62us/step - loss: 0.0046 - acc: 0.9982\n"
     ]
    },
    {
     "data": {
      "text/plain": [
       "<keras.callbacks.History at 0x252f1e29f60>"
      ]
     },
     "execution_count": 32,
     "metadata": {},
     "output_type": "execute_result"
    }
   ],
   "source": [
    "verbose, epochs, batch_size = 1, 5, 32\n",
    "#n_timesteps, n_features, n_outputs = trainX.shape[1], trainX.shape[2], trainy.shape[1]\n",
    "model = Sequential()\n",
    "model.add(LSTM(32, input_shape=(None,3)))\n",
    "# model.add(Dropout(0.5))\n",
    "model.add(Dense(100, activation='relu'))\n",
    "model.add(Dense(1, activation='sigmoid'))\n",
    "model.compile(loss='binary_crossentropy', optimizer='adam', metrics=['accuracy'])\n",
    "\n",
    "model.fit(XInde,YDepe, epochs=epochs, batch_size=32, verbose=verbose)"
   ]
  },
  {
   "cell_type": "code",
   "execution_count": 33,
   "metadata": {},
   "outputs": [
    {
     "data": {
      "text/plain": [
       "<keras.engine.sequential.Sequential at 0x252f1fd7a20>"
      ]
     },
     "execution_count": 33,
     "metadata": {},
     "output_type": "execute_result"
    }
   ],
   "source": [
    "model"
   ]
  },
  {
   "cell_type": "code",
   "execution_count": 34,
   "metadata": {},
   "outputs": [],
   "source": [
    "from nyoka import model_to_pmml"
   ]
  },
  {
   "cell_type": "markdown",
   "metadata": {},
   "source": [
    "## To export in ZMK"
   ]
  },
  {
   "cell_type": "code",
   "execution_count": 35,
   "metadata": {},
   "outputs": [],
   "source": [
    "toExportDict={\n",
    "    'model1':{\n",
    "        'hyperparameters':None,\n",
    "        'preProcessingScript':{'scripts':[preProcessDataTrain,preProcessDataScore], 'scriptpurpose':['train','score']},\n",
    "        'pipelineObj':None,\n",
    "        'modelObj':model1_,\n",
    "        'featuresUsed':XVar,\n",
    "        'targetName':'Volume',\n",
    "        'postProcessingScript':None,\n",
    "        'taskType': 'trainAndscore'\n",
    "    },\n",
    "    'model2':{\n",
    "    'hyperparameters':param,\n",
    "    'preProcessingScript':{'scripts':[preProcessData2nd], 'scriptpurpose':['score']},\n",
    "    'pipelineObj':None,\n",
    "    'modelObj':model,\n",
    "    'featuresUsed':XVar2,\n",
    "    'targetName':'Volume2',\n",
    "    'postProcessingScript':{'scripts':[preProcessData2nd], 'scriptpurpose':['score']},\n",
    "    'taskType': 'score'\n",
    "    }\n",
    "}\n",
    "\n",
    "pmml = model_to_pmml(toExportDict, pmml_f_name=\"UseCase1Self.pmml\")"
   ]
  },
  {
   "cell_type": "code",
   "execution_count": 36,
   "metadata": {},
   "outputs": [
    {
     "name": "stdout",
     "output_type": "stream",
     "text": [
      "train\n",
      ">>>>> model1\n",
      "score\n",
      ">>>> model2\n",
      ">>>> model1\n"
     ]
    }
   ],
   "source": [
    "taskTypesName=list(tempDict.keys())\n",
    "listOfModelNames=set([k for j in tempDict for k in tempDict[j]])\n",
    "listOfModelNames\n",
    "\n",
    "toExportDict={}\n",
    "for objDet in listOfModelNames:\n",
    "    toExportDict[objDet]={'hyperparameters':None,\n",
    "        'preProcessingScript':{'scripts':[], 'scriptpurpose':[]},\n",
    "        'modelObj':None,\n",
    "        'pipelineObj':None,\n",
    "        'featuresUsed':None,\n",
    "        'targetName':None,\n",
    "        'postProcessingScript':None,\n",
    "        'taskType': None}\n",
    "    \n",
    "for modObjeCom in tempDict:\n",
    "    print (modObjeCom)\n",
    "    if modObjeCom == 'train':\n",
    "        for echMod in toExportDict:\n",
    "            if echMod in tempDict[modObjeCom]:\n",
    "                print ('>>>>>',echMod)\n",
    "                toExportDict[echMod]['modelObj']=tempDict[modObjeCom][echMod]['modelObj']['recoModelObj']\n",
    "                toExportDict[echMod]['preProcessingScript']['scripts'].append(tempDict[modObjeCom][echMod]['preprocessing_code'])\n",
    "                toExportDict[echMod]['preProcessingScript']['scriptpurpose'].append(modObjeCom)\n",
    "                toExportDict[echMod]['taskType']=modObjeCom\n",
    "                toExportDict[echMod]['featuresUsed']=tempDict[modObjeCom][echMod]['modelObj']['listOFColumns']\n",
    "                toExportDict[echMod]['targetName']=tempDict[modObjeCom][echMod]['modelObj']['targetCol']\n",
    "                toExportDict[echMod]['hyperparameters']=tempDict[modObjeCom][echMod]['modelObj']['hyperparameters']\n",
    "    if modObjeCom == 'score':\n",
    "        for echMod in toExportDict:\n",
    "            if echMod in tempDict[modObjeCom]:\n",
    "                print ('>>>>',echMod)\n",
    "                toExportDict[echMod]['modelObj']=tempDict[modObjeCom][echMod]['modelObj']['recoModelObj']\n",
    "                toExportDict[echMod]['preProcessingScript']['scripts'].append(tempDict[modObjeCom][echMod]['preprocessing_code'])\n",
    "                toExportDict[echMod]['preProcessingScript']['scriptpurpose'].append(modObjeCom)\n",
    "                toExportDict[echMod]['targetName']=tempDict[modObjeCom][echMod]['modelObj']['targetCol']\n",
    "                toExportDict[echMod]['hyperparameters']=tempDict[modObjeCom][echMod]['modelObj']['hyperparameters']\n",
    "                \n",
    "for modNa in listOfModelNames:\n",
    "    if (modNa in tempDict['train']) & (modNa in tempDict['score']):\n",
    "        toExportDict[modNa]['taskType']='trainAndscore'\n",
    "    if ((modNa in tempDict['train'] )== False) & (modNa in tempDict['score']):\n",
    "        toExportDict[modNa]['taskType']='score'"
   ]
  },
  {
   "cell_type": "code",
   "execution_count": 37,
   "metadata": {},
   "outputs": [],
   "source": [
    "tempTa2=list(toExportDict.keys())\n",
    "tempTa2.sort()\n",
    "toExportReOrdered={}\n",
    "for taTTemp2 in tempTa2:\n",
    "    toExportReOrdered[taTTemp2]=toExportDict[taTTemp2]"
   ]
  },
  {
   "cell_type": "code",
   "execution_count": 38,
   "metadata": {
    "scrolled": true
   },
   "outputs": [
    {
     "data": {
      "text/plain": [
       "{'model1': {'hyperparameters': None,\n",
       "  'preProcessingScript': {'scripts': [\"def preProcessDataTrain():\\n    import pandas as pd\\n    data=pd.read_csv('../ZMOD/Data/NIFTY.txt',header=None)\\n    data.columns=['StockName','Date','Time','Open','Close','Low','High','Volume','Ext']\\n    toData=data[['Open','Close','Low','Volume']]\\n    toData['RollingOpen']=toData.rolling(window=5)[['Open']].mean()\\n    toData['RollingClose']=toData.rolling(window=5)[['Close']].mean()\\n    toData['RollingLow']=toData.rolling(window=5)[['Low']].mean()\\n    toData['StdDevOpen']=toData.rolling(window=5)[['Open']].std()\\n    toData['StdDevClose']=toData.rolling(window=5)[['Close']].std()\\n    toData['StdDevLow']=toData.rolling(window=5)[['Low']].std()\\n    toData=toData.fillna(method='bfill')\\n    return toData\\n\",\n",
       "    \"def preProcessDataScore(toData):\\n    toData['RollingOpen']=toData.rolling(window=5)[['Open']].mean()\\n    toData['RollingClose']=toData.rolling(window=5)[['Close']].mean()\\n    toData['RollingLow']=toData.rolling(window=5)[['Low']].mean()\\n    toData['StdDevOpen']=toData.rolling(window=5)[['Open']].std()\\n    toData['StdDevClose']=toData.rolling(window=5)[['Close']].std()\\n    toData['StdDevLow']=toData.rolling(window=5)[['Low']].std()\\n    toData=toData.fillna(method='bfill')\\n    return toData\\n\"],\n",
       "   'scriptpurpose': ['train', 'score']},\n",
       "  'modelObj': <lightgbm.basic.Booster at 0x252f0c76160>,\n",
       "  'pipelineObj': None,\n",
       "  'featuresUsed': ['Open',\n",
       "   'Close',\n",
       "   'Low',\n",
       "   'RollingOpen',\n",
       "   'RollingClose',\n",
       "   'RollingLow',\n",
       "   'StdDevOpen',\n",
       "   'StdDevClose',\n",
       "   'StdDevLow'],\n",
       "  'targetName': 'Volume',\n",
       "  'postProcessingScript': None,\n",
       "  'taskType': 'trainAndscore'},\n",
       " 'model2': {'hyperparameters': {'num_leaves': 31,\n",
       "   'objective': 'regression',\n",
       "   'metric': 'mean_absolute_error'},\n",
       "  'preProcessingScript': {'scripts': [\"def preProcessData2nd(toData,scored):\\n    toData['resi']=toData['Volume']-scored\\n    toData['Rollingresi']=toData.rolling(window=5)[['resi']].mean()\\n    toData['StdDevresi']=toData.rolling(window=5)[['resi']].std()\\n    toData=toData.fillna(method='bfill')\\n    toData['Volume2']=toData['Volume'].apply(lambda x: 1 if x>17 else 0)\\n    return toData\\n\"],\n",
       "   'scriptpurpose': ['score']},\n",
       "  'modelObj': <nyoka.keras.pmml_to_keras_model.GenerateKerasModel at 0x252f0c37dd8>,\n",
       "  'pipelineObj': None,\n",
       "  'featuresUsed': None,\n",
       "  'targetName': None,\n",
       "  'postProcessingScript': None,\n",
       "  'taskType': 'score'}}"
      ]
     },
     "execution_count": 38,
     "metadata": {},
     "output_type": "execute_result"
    }
   ],
   "source": [
    "toExportReOrdered"
   ]
  },
  {
   "cell_type": "code",
   "execution_count": 40,
   "metadata": {},
   "outputs": [],
   "source": [
    "from nyoka.skl.skl_to_pmml_V1 import model_to_pmml"
   ]
  },
  {
   "cell_type": "code",
   "execution_count": 41,
   "metadata": {
    "scrolled": true
   },
   "outputs": [
    {
     "name": "stdout",
     "output_type": "stream",
     "text": [
      "model_name >>>>>>>>  model2\n",
      "model_name >>>>>>>>  model1\n"
     ]
    }
   ],
   "source": [
    "conMod=model_to_pmml(toExportDict, pmml_f_name='from_sklearn.pmml')"
   ]
  },
  {
   "cell_type": "code",
   "execution_count": null,
   "metadata": {},
   "outputs": [],
   "source": [
    "conMod.export(open('outputPMML.pmml','w'),0)"
   ]
  },
  {
   "cell_type": "code",
   "execution_count": null,
   "metadata": {},
   "outputs": [],
   "source": [
    "conMod.MiningModel[0].MiningSchema.MiningField[-2].name"
   ]
  },
  {
   "cell_type": "code",
   "execution_count": null,
   "metadata": {},
   "outputs": [],
   "source": []
  },
  {
   "cell_type": "code",
   "execution_count": null,
   "metadata": {},
   "outputs": [],
   "source": []
  },
  {
   "cell_type": "code",
   "execution_count": null,
   "metadata": {},
   "outputs": [],
   "source": [
    "testD=pd.DataFrame([{'MedInc': 8.3252,\n",
    " 'HouseAge': 41.0,\n",
    " 'AveRooms': 6.984126984126984,\n",
    " 'AveBedrms': 1.0238095238095237,\n",
    " 'Population': 322.0,\n",
    " 'AveOccup': 2.5555555555555554,\n",
    " 'Latitude': 37.88,\n",
    " 'Longitude': -122.23,'ExtraColumn':200}])\n",
    "\n",
    "toExportDict['model1']['pipelineObj'].predict(testD)"
   ]
  },
  {
   "cell_type": "code",
   "execution_count": null,
   "metadata": {},
   "outputs": [],
   "source": []
  },
  {
   "cell_type": "code",
   "execution_count": null,
   "metadata": {},
   "outputs": [],
   "source": []
  },
  {
   "cell_type": "code",
   "execution_count": null,
   "metadata": {},
   "outputs": [],
   "source": []
  },
  {
   "cell_type": "code",
   "execution_count": null,
   "metadata": {},
   "outputs": [],
   "source": []
  },
  {
   "cell_type": "code",
   "execution_count": null,
   "metadata": {},
   "outputs": [],
   "source": [
    "testData={'MedInc': 8.3252,\n",
    " 'HouseAge': 41.0,\n",
    " 'AveRooms': 6.984126984126984,\n",
    " 'AveBedrms': 1.0238095238095237,\n",
    " 'Population': 322.0,\n",
    " 'AveOccup': 2.5555555555555554,\n",
    " 'Latitude': 37.88,\n",
    " 'Longitude': -122.23}"
   ]
  },
  {
   "cell_type": "code",
   "execution_count": null,
   "metadata": {},
   "outputs": [],
   "source": []
  },
  {
   "cell_type": "code",
   "execution_count": null,
   "metadata": {},
   "outputs": [],
   "source": []
  },
  {
   "cell_type": "code",
   "execution_count": null,
   "metadata": {},
   "outputs": [],
   "source": []
  },
  {
   "cell_type": "code",
   "execution_count": null,
   "metadata": {},
   "outputs": [],
   "source": []
  },
  {
   "cell_type": "code",
   "execution_count": null,
   "metadata": {},
   "outputs": [],
   "source": []
  },
  {
   "cell_type": "code",
   "execution_count": null,
   "metadata": {},
   "outputs": [],
   "source": []
  },
  {
   "cell_type": "code",
   "execution_count": null,
   "metadata": {},
   "outputs": [],
   "source": [
    "import requests\n",
    "import json\n",
    "url='http://localhost:8000/api/v1/newloadmodels'\n",
    "para={'filePath':fPath+'rf_housing_model.pmml'}\n",
    "reas=requests.post(url,data=para)\n",
    "reas.text"
   ]
  },
  {
   "cell_type": "code",
   "execution_count": null,
   "metadata": {},
   "outputs": [],
   "source": []
  },
  {
   "cell_type": "code",
   "execution_count": null,
   "metadata": {},
   "outputs": [],
   "source": []
  },
  {
   "cell_type": "code",
   "execution_count": null,
   "metadata": {},
   "outputs": [],
   "source": []
  },
  {
   "cell_type": "code",
   "execution_count": null,
   "metadata": {},
   "outputs": [],
   "source": []
  },
  {
   "cell_type": "code",
   "execution_count": null,
   "metadata": {},
   "outputs": [],
   "source": []
  },
  {
   "cell_type": "code",
   "execution_count": null,
   "metadata": {},
   "outputs": [],
   "source": [
    "import pandas as pd"
   ]
  },
  {
   "cell_type": "code",
   "execution_count": null,
   "metadata": {},
   "outputs": [],
   "source": [
    "preproc=tempDict['score']['model1']['preprocessing'](testData)"
   ]
  },
  {
   "cell_type": "code",
   "execution_count": null,
   "metadata": {
    "scrolled": true
   },
   "outputs": [],
   "source": [
    "list(tempDict['score'].keys())"
   ]
  },
  {
   "cell_type": "code",
   "execution_count": null,
   "metadata": {},
   "outputs": [],
   "source": [
    "tempDict['score']['model1']['modelObj']['recoModelObj']"
   ]
  },
  {
   "cell_type": "code",
   "execution_count": null,
   "metadata": {},
   "outputs": [],
   "source": [
    "tempDict['score']['model1']['preprocessing']"
   ]
  },
  {
   "cell_type": "code",
   "execution_count": null,
   "metadata": {},
   "outputs": [],
   "source": []
  },
  {
   "cell_type": "code",
   "execution_count": null,
   "metadata": {
    "scrolled": true
   },
   "outputs": [],
   "source": [
    "tempDict#['train']['Model1']['preprocessing'](6)"
   ]
  },
  {
   "cell_type": "code",
   "execution_count": null,
   "metadata": {},
   "outputs": [],
   "source": []
  },
  {
   "cell_type": "code",
   "execution_count": null,
   "metadata": {},
   "outputs": [],
   "source": []
  },
  {
   "cell_type": "code",
   "execution_count": null,
   "metadata": {},
   "outputs": [],
   "source": []
  },
  {
   "cell_type": "markdown",
   "metadata": {},
   "source": [
    "# Calling rest Calls"
   ]
  },
  {
   "cell_type": "code",
   "execution_count": null,
   "metadata": {},
   "outputs": [],
   "source": [
    "import requests\n",
    "import json\n",
    "url='http://localhost:8000/api/v1/newloadmodels'\n",
    "para={'filePath':fPath+'useCase2.pmml'}\n",
    "reas=requests.post(url,data=para)\n",
    "reas.text"
   ]
  },
  {
   "cell_type": "code",
   "execution_count": null,
   "metadata": {},
   "outputs": [],
   "source": []
  },
  {
   "cell_type": "code",
   "execution_count": null,
   "metadata": {},
   "outputs": [],
   "source": []
  },
  {
   "cell_type": "code",
   "execution_count": null,
   "metadata": {},
   "outputs": [],
   "source": []
  },
  {
   "cell_type": "code",
   "execution_count": null,
   "metadata": {},
   "outputs": [],
   "source": [
    "url='http://10.60.27.137/zmk/api/v1/runningTasks'\n",
    "reas=requests.get(url)#,data=para)\n",
    "reas.text"
   ]
  },
  {
   "cell_type": "code",
   "execution_count": null,
   "metadata": {},
   "outputs": [],
   "source": []
  },
  {
   "cell_type": "code",
   "execution_count": null,
   "metadata": {
    "scrolled": true
   },
   "outputs": [],
   "source": [
    "para={'filePath':fPath+'useCase2.pmml'}\n",
    "reas=requests.get(url,data=para)\n",
    "reas.text"
   ]
  },
  {
   "cell_type": "code",
   "execution_count": null,
   "metadata": {},
   "outputs": [],
   "source": [
    "# para={'filePath':fPath+'useCase1.pmml'}\n",
    "# reas=requests.post(url,data=para)\n",
    "# reas.text"
   ]
  },
  {
   "cell_type": "code",
   "execution_count": null,
   "metadata": {},
   "outputs": [],
   "source": [
    "# from types import FunctionType\n",
    "# def kk(c):\n",
    "#     return c\n",
    "# pp=kk.__code__\n",
    "# print(pp)\n",
    "\n",
    "# oo=FunctionType(pp,globals())\n",
    "# print(oo)\n",
    "\n",
    "# kk(3)"
   ]
  },
  {
   "cell_type": "code",
   "execution_count": null,
   "metadata": {},
   "outputs": [],
   "source": [
    "# def postProcessing(x):\n",
    "#     path=x+x\n",
    "#     print ('Done')\n",
    "#     return path\n",
    "\n",
    "# pp=postProcessing.__code__\n",
    "# print(pp)\n",
    "\n",
    "# oo=FunctionType(pp,globals())\n",
    "# print(oo)\n",
    "\n",
    "# oo(3)"
   ]
  },
  {
   "cell_type": "code",
   "execution_count": null,
   "metadata": {},
   "outputs": [],
   "source": [
    "# coda=compile(tempDict['train']['Model1']['preprocessing'],\"<script>\", \"exec\")\n",
    "# dataCode = marshal.dumps(coda)\n",
    "# kk=marshal.loads(dataCode)\n",
    "# kk(2)"
   ]
  },
  {
   "cell_type": "code",
   "execution_count": null,
   "metadata": {},
   "outputs": [],
   "source": []
  },
  {
   "cell_type": "code",
   "execution_count": null,
   "metadata": {},
   "outputs": [],
   "source": [
    "import shutil"
   ]
  },
  {
   "cell_type": "code",
   "execution_count": null,
   "metadata": {},
   "outputs": [],
   "source": [
    "tocheck=fPath+'rf_housing_model.pmml'"
   ]
  },
  {
   "cell_type": "code",
   "execution_count": null,
   "metadata": {},
   "outputs": [],
   "source": [
    "import os"
   ]
  },
  {
   "cell_type": "code",
   "execution_count": null,
   "metadata": {},
   "outputs": [],
   "source": [
    "os.path.exists(tocheck)"
   ]
  },
  {
   "cell_type": "code",
   "execution_count": null,
   "metadata": {},
   "outputs": [],
   "source": []
  },
  {
   "cell_type": "code",
   "execution_count": null,
   "metadata": {},
   "outputs": [],
   "source": [
    "from itertools import count\n",
    "\n",
    "fName=next(filename)\n",
    "filePath=fPath+fName+'.pmml'\n",
    "while os.path.exists(filePath)==False:\n",
    "    fName=next(filename)\n",
    "    print (fName)"
   ]
  },
  {
   "cell_type": "code",
   "execution_count": null,
   "metadata": {},
   "outputs": [],
   "source": [
    "filePath"
   ]
  },
  {
   "cell_type": "code",
   "execution_count": null,
   "metadata": {},
   "outputs": [],
   "source": [
    "# from itertools import count\n",
    "\n",
    "next(filename)"
   ]
  },
  {
   "cell_type": "code",
   "execution_count": null,
   "metadata": {},
   "outputs": [],
   "source": [
    "fName=\"rf_housing_model_V2\""
   ]
  },
  {
   "cell_type": "code",
   "execution_count": null,
   "metadata": {},
   "outputs": [],
   "source": []
  },
  {
   "cell_type": "code",
   "execution_count": null,
   "metadata": {},
   "outputs": [],
   "source": [
    "increName(fName)"
   ]
  },
  {
   "cell_type": "code",
   "execution_count": null,
   "metadata": {},
   "outputs": [],
   "source": [
    "fName"
   ]
  },
  {
   "cell_type": "code",
   "execution_count": null,
   "metadata": {},
   "outputs": [],
   "source": []
  }
 ],
 "metadata": {
  "kernelspec": {
   "display_name": "Python 3",
   "language": "python",
   "name": "python3"
  },
  "language_info": {
   "codemirror_mode": {
    "name": "ipython",
    "version": 3
   },
   "file_extension": ".py",
   "mimetype": "text/x-python",
   "name": "python",
   "nbconvert_exporter": "python",
   "pygments_lexer": "ipython3",
   "version": "3.6.8"
  }
 },
 "nbformat": 4,
 "nbformat_minor": 2
}
