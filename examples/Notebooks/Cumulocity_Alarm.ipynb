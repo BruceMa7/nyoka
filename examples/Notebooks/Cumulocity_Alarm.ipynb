{
 "cells": [
  {
   "cell_type": "markdown",
   "metadata": {},
   "source": [
    "# Create an alarm"
   ]
  },
  {
   "cell_type": "code",
   "execution_count": 21,
   "metadata": {},
   "outputs": [],
   "source": [
    "import requests\n",
    "from requests.auth import HTTPBasicAuth\n",
    "import json\n",
    "import operator"
   ]
  },
  {
   "cell_type": "code",
   "execution_count": 22,
   "metadata": {},
   "outputs": [],
   "source": [
    "url = \"https://ai.cumulocity.com/alarm/alarms\"\n",
    "\n",
    "headers = {\n",
    "'Content-Type': \"application/vnd.com.nsn.cumulocity.alarm+json\",\n",
    "'Accept': \"application/vnd.com.nsn.cumulocity.alarm+json\",\n",
    "}\n",
    "\n",
    "payload_Critical = {\n",
    "    \"source\": {\n",
    "        \"id\": \"117701\" },\n",
    "    \"type\": \"TestAlarm\",\n",
    "    \"text\": \"DO NOT DRINK WHILE DRIVING\",\n",
    "    \"severity\": \"CRITICAL\",\n",
    "    \"status\": \"ACTIVE\",\n",
    "    \"time\": \"2014-03-03T12:03:27.845Z\"\n",
    "}"
   ]
  },
  {
   "cell_type": "code",
   "execution_count": 23,
   "metadata": {},
   "outputs": [
    {
     "data": {
      "text/plain": [
       "{'Safe_driving': '0.0000000103600035',\n",
       " 'Texting(right_hand)': '0.0000000226115429',\n",
       " 'Talking_on_the_phone(right_hand)': '0.0000001577692217',\n",
       " 'Texting(left_hand)': '0.0000000026958600',\n",
       " 'Talking_on_the_phone_(left_hand)': '0.0000000554588446',\n",
       " 'Operating_the_radio': '0.0000000005802107',\n",
       " 'Drinking': '0.9998681545257568',\n",
       " 'Reaching_behind': '0.0000000512463565',\n",
       " 'Hair_and_makeup': '0.0001313777902396',\n",
       " 'Talking_to_passenger(s)': '0.0000000749102540'}"
      ]
     },
     "execution_count": 23,
     "metadata": {},
     "output_type": "execute_result"
    }
   ],
   "source": [
    "with open('Predicted_img_1003.json') as f:\n",
    "    preds = json.load(f)\n",
    "    \n",
    "for k in preds.keys():\n",
    "    preds[k] = \"%.16f\" % float(preds[k])\n",
    "    \n",
    "preds"
   ]
  },
  {
   "cell_type": "code",
   "execution_count": 24,
   "metadata": {},
   "outputs": [],
   "source": [
    "pred = max(preds.items(), key=operator.itemgetter(1))[0]"
   ]
  },
  {
   "cell_type": "code",
   "execution_count": 25,
   "metadata": {},
   "outputs": [],
   "source": [
    "if pred in ['Texting(right_hand)',\n",
    " 'Talking_on_the_phone(right_hand)',\n",
    " 'Texting(left_hand)',\n",
    " 'Talking_on_the_phone_(left_hand)',\n",
    " 'Operating_the_radio',\n",
    " 'Drinking',\n",
    " 'Reaching_behind',\n",
    " 'Hair_and_makeup',\n",
    " 'Talking_to_passenger(s)']:\n",
    "    response = requests.request(\"POST\", url, data=json.dumps(payload_Critical),\n",
    "                        headers=headers,auth=HTTPBasicAuth('Rainer.Burkhardt@softwareag.com', 'cum 2418 Point Loma'))"
   ]
  },
  {
   "cell_type": "code",
   "execution_count": 26,
   "metadata": {},
   "outputs": [
    {
     "data": {
      "text/plain": [
       "{'severity': 'CRITICAL',\n",
       " 'creationTime': '2019-02-11T09:11:18.050Z',\n",
       " 'count': 1,\n",
       " 'history': {'auditRecords': [],\n",
       "  'self': 'https://ai.cumulocity.com/audit/auditRecords'},\n",
       " 'source': {'name': 'iPhone_Vinay',\n",
       "  'self': 'https://ai.cumulocity.com/inventory/managedObjects/117701',\n",
       "  'id': '117701'},\n",
       " 'type': 'TestAlarm',\n",
       " 'self': 'https://ai.cumulocity.com/alarm/alarms/119272',\n",
       " 'time': '2014-03-03T12:03:27.845Z',\n",
       " 'text': 'DO NOT DRINK WHILE DRIVING',\n",
       " 'id': '119272',\n",
       " 'status': 'ACTIVE'}"
      ]
     },
     "execution_count": 26,
     "metadata": {},
     "output_type": "execute_result"
    }
   ],
   "source": [
    "json.loads(response.content)"
   ]
  }
 ],
 "metadata": {
  "kernelspec": {
   "display_name": "Python 3",
   "language": "python",
   "name": "python3"
  },
  "language_info": {
   "codemirror_mode": {
    "name": "ipython",
    "version": 3
   },
   "file_extension": ".py",
   "mimetype": "text/x-python",
   "name": "python",
   "nbconvert_exporter": "python",
   "pygments_lexer": "ipython3",
   "version": "3.6.5"
  }
 },
 "nbformat": 4,
 "nbformat_minor": 2
}
