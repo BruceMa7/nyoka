{
 "cells": [
  {
   "cell_type": "code",
   "execution_count": 1,
   "metadata": {},
   "outputs": [],
   "source": [
    "import warnings\n",
    "warnings.filterwarnings('ignore')\n",
    "import pandas as pd\n",
    "from sklearn import ensemble"
   ]
  },
  {
   "cell_type": "code",
   "execution_count": 2,
   "metadata": {},
   "outputs": [],
   "source": [
    "from sklearn.datasets import california_housing\n",
    "datasetFor=california_housing.fetch_california_housing()\n",
    "dataForModel=pd.DataFrame(datasetFor.data,columns=datasetFor.feature_names)"
   ]
  },
  {
   "cell_type": "code",
   "execution_count": 3,
   "metadata": {},
   "outputs": [
    {
     "data": {
      "text/plain": [
       "['MedInc',\n",
       " 'HouseAge',\n",
       " 'AveRooms',\n",
       " 'AveBedrms',\n",
       " 'Population',\n",
       " 'AveOccup',\n",
       " 'Latitude',\n",
       " 'Longitude']"
      ]
     },
     "execution_count": 3,
     "metadata": {},
     "output_type": "execute_result"
    }
   ],
   "source": [
    "datasetFor.feature_names"
   ]
  },
  {
   "cell_type": "code",
   "execution_count": 4,
   "metadata": {},
   "outputs": [],
   "source": [
    "targetVals=datasetFor.target"
   ]
  },
  {
   "cell_type": "code",
   "execution_count": 5,
   "metadata": {},
   "outputs": [],
   "source": [
    "def scriptToGenerateData(data):\n",
    "    data['ExtraColumn']=data['MedInc']*data['AveRooms']\n",
    "    return data"
   ]
  },
  {
   "cell_type": "code",
   "execution_count": 6,
   "metadata": {
    "scrolled": true
   },
   "outputs": [
    {
     "data": {
      "text/plain": [
       "{'MedInc': 8.3252,\n",
       " 'HouseAge': 41.0,\n",
       " 'AveRooms': 6.984126984126984,\n",
       " 'AveBedrms': 1.0238095238095237,\n",
       " 'Population': 322.0,\n",
       " 'AveOccup': 2.5555555555555554,\n",
       " 'Latitude': 37.88,\n",
       " 'Longitude': -122.23}"
      ]
     },
     "execution_count": 6,
     "metadata": {},
     "output_type": "execute_result"
    }
   ],
   "source": [
    "dict(dataForModel.ix[0])"
   ]
  },
  {
   "cell_type": "code",
   "execution_count": 7,
   "metadata": {},
   "outputs": [
    {
     "data": {
      "text/plain": [
       "Pipeline(memory=None,\n",
       "     steps=[('scaling', StandardScaler(copy=True, with_mean=True, with_std=True)), ('rfModel', RandomForestRegressor(bootstrap=True, criterion='mse', max_depth=None,\n",
       "           max_features='auto', max_leaf_nodes=None,\n",
       "           min_impurity_decrease=0.0, min_impurity_split=None,\n",
       "           min_samples_leaf=1, min_samples_split=2,\n",
       "           min_weight_fraction_leaf=0.0, n_estimators=2, n_jobs=1,\n",
       "           oob_score=False, random_state=None, verbose=0, warm_start=False))])"
      ]
     },
     "execution_count": 7,
     "metadata": {},
     "output_type": "execute_result"
    }
   ],
   "source": [
    "import pandas as pd\n",
    "from sklearn import datasets\n",
    "from sklearn.pipeline import Pipeline\n",
    "from sklearn.preprocessing import StandardScaler, Imputer\n",
    "from sklearn.svm import SVC\n",
    "\n",
    "pipeline_obj = Pipeline([\n",
    "    ('scaling', StandardScaler()),\n",
    "    ('rfModel',ensemble.RandomForestRegressor(n_estimators=2))\n",
    "])\n",
    "\n",
    "pipeline_obj.fit(scriptToGenerateData(dataForModel),targetVals)"
   ]
  },
  {
   "cell_type": "code",
   "execution_count": 8,
   "metadata": {},
   "outputs": [],
   "source": [
    "toExportDict={\n",
    "    'model1':{\n",
    "        'hyperParameters':'',\n",
    "        'preProcessingScript':{'scripts':[scriptToGenerateData], 'scriptpurpose':['train','score']},\n",
    "        'pipelineObj':pipeline_obj,\n",
    "        'featuresUsed':datasetFor.feature_names+['ExtraColumn'],\n",
    "        'targetName':'target',\n",
    "        'postProcessingScript':None,\n",
    "        'taskType': 'trainAndscore'\n",
    "    }}"
   ]
  },
  {
   "cell_type": "code",
   "execution_count": 9,
   "metadata": {
    "scrolled": true
   },
   "outputs": [],
   "source": [
    "from nyoka.skl.skl_to_pmml import skl_to_pmml\n",
    "\n",
    "skl_to_pmml(toExportDict, pmml_f_name=\"rf_housing_model.pmml\")"
   ]
  },
  {
   "cell_type": "code",
   "execution_count": 10,
   "metadata": {},
   "outputs": [],
   "source": [
    "import nyoka.reconstruct.pmml_to_pipeline_vin as recon"
   ]
  },
  {
   "cell_type": "code",
   "execution_count": 11,
   "metadata": {},
   "outputs": [
    {
     "name": "stdout",
     "output_type": "stream",
     "text": [
      "Error Occurred while reconstructing, details are : 'str' object has no attribute 'MiningBuildTask' \n",
      "Traceback (most recent call last):\n",
      "  File \"C:\\Users\\vran\\Documents\\Zementis_Work\\CUSTOMER PROJECTS\\Durr\\nyoka_deurr\\nyoka-43Ext\\nyoka\\reconstruct\\pmml_to_pipeline_vin.py\", line 40, in generate_skl_pipeline\n",
      "    pmml_mining_bldtask = nyoka_pmml.MiningBuildTask\n",
      "AttributeError: 'str' object has no attribute 'MiningBuildTask'\n",
      "\n"
     ]
    }
   ],
   "source": [
    "rec = recon.generate_skl_pipeline(\"rf_housing_model.pmml\")"
   ]
  },
  {
   "cell_type": "code",
   "execution_count": null,
   "metadata": {},
   "outputs": [],
   "source": []
  }
 ],
 "metadata": {
  "kernelspec": {
   "display_name": "Python 3",
   "language": "python",
   "name": "python3"
  },
  "language_info": {
   "codemirror_mode": {
    "name": "ipython",
    "version": 3
   },
   "file_extension": ".py",
   "mimetype": "text/x-python",
   "name": "python",
   "nbconvert_exporter": "python",
   "pygments_lexer": "ipython3",
   "version": "3.6.5"
  }
 },
 "nbformat": 4,
 "nbformat_minor": 2
}
