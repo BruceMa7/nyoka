{
 "cells": [
  {
   "cell_type": "code",
   "execution_count": null,
   "metadata": {
    "ExecuteTime": {
     "end_time": "2019-06-26T06:31:52.642120Z",
     "start_time": "2019-06-26T06:31:45.846869Z"
    }
   },
   "outputs": [],
   "source": [
    "import pandas as pd\n",
    "import numpy as np\n",
    "from sklearn import ensemble,metrics\n",
    "\n",
    "from keras.models import Sequential\n",
    "from keras.layers import Dense\n",
    "from keras.layers import LSTM\n",
    "from sklearn.preprocessing import MinMaxScaler\n",
    "from sklearn.metrics import mean_squared_error\n",
    "from sklearn import datasets"
   ]
  },
  {
   "cell_type": "markdown",
   "metadata": {},
   "source": [
    "## Data Preparation"
   ]
  },
  {
   "cell_type": "code",
   "execution_count": null,
   "metadata": {
    "ExecuteTime": {
     "end_time": "2019-06-26T06:31:54.271157Z",
     "start_time": "2019-06-26T06:31:54.012155Z"
    }
   },
   "outputs": [],
   "source": [
    "data=pd.read_csv('NIFTY.txt',header=None)\n",
    "data.columns=['StockName','Date','Time','Open','Close','Low','High','Volume','Ext']\n",
    "toData=data[['Open','Close','Low','Volume']]"
   ]
  },
  {
   "cell_type": "code",
   "execution_count": null,
   "metadata": {
    "ExecuteTime": {
     "end_time": "2019-06-26T06:35:45.030901Z",
     "start_time": "2019-06-26T06:35:45.025923Z"
    }
   },
   "outputs": [],
   "source": [
    "def preProcessDataScore(toData):\n",
    "    toData['RollingOpen']=toData.rolling(window=5)[['Open']].mean()\n",
    "    toData['RollingClose']=toData.rolling(window=5)[['Close']].mean()\n",
    "    toData['RollingLow']=toData.rolling(window=5)[['Low']].mean()\n",
    "    toData['StdDevOpen']=toData.rolling(window=5)[['Open']].std()\n",
    "    toData['StdDevClose']=toData.rolling(window=5)[['Close']].std()\n",
    "    toData['StdDevLow']=toData.rolling(window=5)[['Low']].std()\n",
    "    toData=toData.fillna(method='bfill')\n",
    "    return toData"
   ]
  },
  {
   "cell_type": "code",
   "execution_count": null,
   "metadata": {
    "ExecuteTime": {
     "end_time": "2019-06-26T06:35:45.271885Z",
     "start_time": "2019-06-26T06:35:45.266883Z"
    }
   },
   "outputs": [],
   "source": [
    "def preProcessDataTrain(toData):\n",
    "    import pandas as pd\n",
    "    data=pd.read_csv('../ZMOD/Data/NIFTY.txt',header=None)\n",
    "    data.columns=['StockName','Date','Time','Open','Close','Low','High','Volume','Ext']\n",
    "    toData=data[['Open','Close','Low','Volume']]\n",
    "    toData['RollingOpen']=toData.rolling(window=5)[['Open']].mean()\n",
    "    toData['RollingClose']=toData.rolling(window=5)[['Close']].mean()\n",
    "    toData['RollingLow']=toData.rolling(window=5)[['Low']].mean()\n",
    "    toData['StdDevOpen']=toData.rolling(window=5)[['Open']].std()\n",
    "    toData['StdDevClose']=toData.rolling(window=5)[['Close']].std()\n",
    "    toData['StdDevLow']=toData.rolling(window=5)[['Low']].std()\n",
    "    toData=toData.fillna(method='bfill')\n",
    "    return toData"
   ]
  },
  {
   "cell_type": "code",
   "execution_count": null,
   "metadata": {
    "ExecuteTime": {
     "end_time": "2019-06-26T06:31:57.018259Z",
     "start_time": "2019-06-26T06:31:55.491204Z"
    }
   },
   "outputs": [],
   "source": [
    "toData=preProcessDataScore(toData)\n",
    "toData.head()"
   ]
  },
  {
   "cell_type": "code",
   "execution_count": null,
   "metadata": {
    "ExecuteTime": {
     "end_time": "2019-06-26T06:31:57.368288Z",
     "start_time": "2019-06-26T06:31:57.363266Z"
    }
   },
   "outputs": [],
   "source": [
    "toData.columns"
   ]
  },
  {
   "cell_type": "code",
   "execution_count": null,
   "metadata": {
    "ExecuteTime": {
     "end_time": "2019-06-26T06:31:59.071328Z",
     "start_time": "2019-06-26T06:31:59.068335Z"
    }
   },
   "outputs": [],
   "source": [
    "XVar=['Open', 'Close', 'Low',  'RollingOpen', 'RollingClose','RollingLow', 'StdDevOpen', 'StdDevClose', 'StdDevLow']\n",
    "YVar=['Volume']"
   ]
  },
  {
   "cell_type": "markdown",
   "metadata": {},
   "source": [
    "## PostProcess for 2nd Model"
   ]
  },
  {
   "cell_type": "code",
   "execution_count": null,
   "metadata": {
    "ExecuteTime": {
     "end_time": "2019-06-26T06:32:10.495716Z",
     "start_time": "2019-06-26T06:32:10.403718Z"
    }
   },
   "outputs": [],
   "source": [
    "# scored=model2.predict(toData[XVar])"
   ]
  },
  {
   "cell_type": "code",
   "execution_count": null,
   "metadata": {
    "ExecuteTime": {
     "end_time": "2019-06-26T06:32:12.298780Z",
     "start_time": "2019-06-26T06:32:12.293818Z"
    }
   },
   "outputs": [],
   "source": [
    "def preProcessData2nd(toData):#,scored):\n",
    "#     toData['resi']=toData['Volume']-scored\n",
    "#     toData['Rollingresi']=toData.rolling(window=5)[['resi']].mean()\n",
    "#     toData['StdDevresi']=toData.rolling(window=5)[['resi']].std()\n",
    "    toData=toData.fillna(method='bfill')\n",
    "    toData['Volume']=toData['Volume'].apply(lambda x: 1 if x>90 else 0)\n",
    "    return toData"
   ]
  },
  {
   "cell_type": "code",
   "execution_count": null,
   "metadata": {
    "ExecuteTime": {
     "end_time": "2019-06-26T06:32:15.334893Z",
     "start_time": "2019-06-26T06:32:15.099895Z"
    }
   },
   "outputs": [],
   "source": [
    "toData2=preProcessData2nd(toData)"
   ]
  },
  {
   "cell_type": "code",
   "execution_count": null,
   "metadata": {
    "ExecuteTime": {
     "end_time": "2019-06-26T06:32:15.456894Z",
     "start_time": "2019-06-26T06:32:15.451891Z"
    }
   },
   "outputs": [],
   "source": [
    "toData2.shape"
   ]
  },
  {
   "cell_type": "code",
   "execution_count": null,
   "metadata": {
    "ExecuteTime": {
     "end_time": "2019-06-26T06:32:15.790909Z",
     "start_time": "2019-06-26T06:32:15.784944Z"
    }
   },
   "outputs": [],
   "source": [
    "toData2.columns"
   ]
  },
  {
   "cell_type": "code",
   "execution_count": null,
   "metadata": {},
   "outputs": [],
   "source": [
    "toData2.head()"
   ]
  },
  {
   "cell_type": "markdown",
   "metadata": {},
   "source": [
    "# Dense Model"
   ]
  },
  {
   "cell_type": "code",
   "execution_count": null,
   "metadata": {},
   "outputs": [],
   "source": [
    "verbose, epochs, batch_size = 1, 2, 32\n",
    "#n_timesteps, n_features, n_outputs = trainX.shape[1], trainX.shape[2], trainy.shape[1]\n",
    "model2 = Sequential()\n",
    "model2.add(Dense(32, input_dim=9))\n",
    "# model.add(Dropout(0.5))\n",
    "model2.add(Dense(100, activation='relu'))\n",
    "model2.add(Dense(1, activation='sigmoid'))\n",
    "model2.compile(loss='binary_crossentropy', optimizer='adam', metrics=['accuracy'])\n",
    "\n",
    "model2.fit(toData[XVar].values,toData[YVar].values, epochs=epochs, batch_size=32, verbose=verbose)"
   ]
  },
  {
   "cell_type": "markdown",
   "metadata": {},
   "source": [
    "## 2nd Model LSTM"
   ]
  },
  {
   "cell_type": "code",
   "execution_count": null,
   "metadata": {
    "ExecuteTime": {
     "end_time": "2019-06-26T06:32:31.390445Z",
     "start_time": "2019-06-26T06:32:31.351437Z"
    }
   },
   "outputs": [],
   "source": [
    "kk=toData2[XVar].shape[0]\n",
    "hh=toData2[XVar].shape[1]\n",
    "XInde=toData2[XVar].values.reshape(kk,1,hh)\n",
    "YDepe=toData2[YVar].values#.reshape(1,kk)"
   ]
  },
  {
   "cell_type": "code",
   "execution_count": null,
   "metadata": {
    "ExecuteTime": {
     "end_time": "2019-06-26T06:32:31.403441Z",
     "start_time": "2019-06-26T06:32:31.393438Z"
    }
   },
   "outputs": [],
   "source": [
    "XInde[0].shape"
   ]
  },
  {
   "cell_type": "code",
   "execution_count": null,
   "metadata": {},
   "outputs": [],
   "source": [
    "verbose, epochs, batch_size = 1, 2, 32\n",
    "#n_timesteps, n_features, n_outputs = trainX.shape[1], trainX.shape[2], trainy.shape[1]\n",
    "model = Sequential()\n",
    "model.add(LSTM(32, input_shape=(None,9)))\n",
    "# model.add(Dropout(0.5))\n",
    "model.add(Dense(100, activation='relu'))\n",
    "model.add(Dense(1, activation='sigmoid'))\n",
    "model.compile(loss='binary_crossentropy', optimizer='adam', metrics=['accuracy'])\n",
    "\n",
    "model.fit(XInde,YDepe, epochs=epochs, batch_size=32, verbose=verbose)"
   ]
  },
  {
   "cell_type": "code",
   "execution_count": null,
   "metadata": {
    "scrolled": true
   },
   "outputs": [],
   "source": [
    "from nyoka.keras.keras_model_to_pmml import KerasToPmml\n",
    "pmmlObj=KerasToPmml(model)\n",
    "pmmlObj.export(open('LSTMModelTocheck.pmml','w'),0)"
   ]
  },
  {
   "cell_type": "code",
   "execution_count": null,
   "metadata": {
    "scrolled": true
   },
   "outputs": [],
   "source": [
    "pmmlObj2=KerasToPmml(model2)\n",
    "pmmlObj2.export(open('DenseModelTocheck.pmml','w'),0)"
   ]
  },
  {
   "cell_type": "code",
   "execution_count": null,
   "metadata": {},
   "outputs": [],
   "source": [
    "oo2=pmmlObj2.DeepNetwork[0].NetworkLayer[1]"
   ]
  },
  {
   "cell_type": "code",
   "execution_count": null,
   "metadata": {},
   "outputs": [],
   "source": [
    "oo2.LayerWeights.valueOf_"
   ]
  },
  {
   "cell_type": "code",
   "execution_count": 1,
   "metadata": {},
   "outputs": [
    {
     "data": {
      "text/plain": [
       "<nyoka.PMML43Ext.PMML at 0x2111c764be0>"
      ]
     },
     "execution_count": 1,
     "metadata": {},
     "output_type": "execute_result"
    }
   ],
   "source": [
    "import nyoka.PMML43Ext as ny\n",
    "import sys\n",
    "ny.parse('DenseModelTocheck.pmml',silence=True)"
   ]
  },
  {
   "cell_type": "code",
   "execution_count": null,
   "metadata": {},
   "outputs": [],
   "source": [
    "oo=pmmlObj.DeepNetwork[0].NetworkLayer[1]#.LayerRecurrentWeights"
   ]
  },
  {
   "cell_type": "code",
   "execution_count": null,
   "metadata": {},
   "outputs": [],
   "source": [
    "oo.LayerRecurrentWeights.valueOf_"
   ]
  },
  {
   "cell_type": "code",
   "execution_count": null,
   "metadata": {},
   "outputs": [],
   "source": [
    "oo.export(sys.stdout,0)"
   ]
  },
  {
   "cell_type": "code",
   "execution_count": null,
   "metadata": {},
   "outputs": [],
   "source": []
  },
  {
   "cell_type": "code",
   "execution_count": null,
   "metadata": {},
   "outputs": [],
   "source": []
  },
  {
   "cell_type": "code",
   "execution_count": 2,
   "metadata": {
    "scrolled": true
   },
   "outputs": [
    {
     "data": {
      "text/plain": [
       "<nyoka.PMML43Ext.PMML at 0x2111c764b38>"
      ]
     },
     "execution_count": 2,
     "metadata": {},
     "output_type": "execute_result"
    }
   ],
   "source": [
    "ny.parse('LSTMModelTocheck.pmml',silence=True)"
   ]
  },
  {
   "cell_type": "code",
   "execution_count": null,
   "metadata": {},
   "outputs": [],
   "source": []
  },
  {
   "cell_type": "code",
   "execution_count": null,
   "metadata": {},
   "outputs": [],
   "source": []
  },
  {
   "cell_type": "markdown",
   "metadata": {},
   "source": [
    "## Score a sample data"
   ]
  },
  {
   "cell_type": "code",
   "execution_count": null,
   "metadata": {
    "ExecuteTime": {
     "end_time": "2019-06-26T06:32:58.424365Z",
     "start_time": "2019-06-26T06:32:58.246361Z"
    }
   },
   "outputs": [],
   "source": [
    "dataTest=pd.read_csv('NIFTY.txt',header=None)\n",
    "dataTest.columns=['StockName','Date','Time','Open','Close','Low','High','Volume','Ext']\n",
    "dataTest=data[['Open','Close','Low','Volume']].head(10)"
   ]
  },
  {
   "cell_type": "code",
   "execution_count": null,
   "metadata": {
    "ExecuteTime": {
     "end_time": "2019-06-26T06:32:59.370408Z",
     "start_time": "2019-06-26T06:32:59.284395Z"
    }
   },
   "outputs": [],
   "source": [
    "dataTest=preProcessDataScore(dataTest)"
   ]
  },
  {
   "cell_type": "code",
   "execution_count": null,
   "metadata": {
    "ExecuteTime": {
     "end_time": "2019-06-26T06:32:59.833425Z",
     "start_time": "2019-06-26T06:32:59.823427Z"
    }
   },
   "outputs": [],
   "source": [
    "scoredTest=model1_.predict(dataTest[XVar])"
   ]
  },
  {
   "cell_type": "code",
   "execution_count": null,
   "metadata": {
    "ExecuteTime": {
     "end_time": "2019-06-26T06:33:00.428435Z",
     "start_time": "2019-06-26T06:33:00.416436Z"
    }
   },
   "outputs": [],
   "source": [
    "dataTest2=preProcessData2nd(dataTest,scoredTest)"
   ]
  },
  {
   "cell_type": "code",
   "execution_count": null,
   "metadata": {
    "ExecuteTime": {
     "end_time": "2019-06-26T06:33:01.449473Z",
     "start_time": "2019-06-26T06:33:01.445472Z"
    }
   },
   "outputs": [],
   "source": [
    "dataTest2.shape"
   ]
  },
  {
   "cell_type": "code",
   "execution_count": null,
   "metadata": {
    "ExecuteTime": {
     "end_time": "2019-06-26T06:33:01.739483Z",
     "start_time": "2019-06-26T06:33:01.732489Z"
    }
   },
   "outputs": [],
   "source": [
    "kk2=dataTest2[XVar2].shape[0]\n",
    "hh2=dataTest2[XVar2].shape[1]\n",
    "XInde2=dataTest2[XVar2].values.reshape(kk2,1,hh2)\n",
    "YDepe2=dataTest2[YVar2].values#.reshape(1,kk)"
   ]
  },
  {
   "cell_type": "code",
   "execution_count": null,
   "metadata": {
    "ExecuteTime": {
     "end_time": "2019-06-26T06:33:02.381519Z",
     "start_time": "2019-06-26T06:33:02.285520Z"
    }
   },
   "outputs": [],
   "source": [
    "model.predict(XInde2).tolist()"
   ]
  },
  {
   "cell_type": "markdown",
   "metadata": {},
   "source": [
    "# PostProcess for 2nd Model"
   ]
  },
  {
   "cell_type": "code",
   "execution_count": null,
   "metadata": {
    "ExecuteTime": {
     "end_time": "2019-06-26T08:07:12.548208Z",
     "start_time": "2019-06-26T08:07:12.516207Z"
    }
   },
   "outputs": [],
   "source": [
    "def postProcessing2(data,scored):\n",
    "        import requests\n",
    "        from requests.auth import HTTPBasicAuth\n",
    "        import json\n",
    "        import operator\n",
    "\n",
    "        url = \"https://ai.cumulocity.com/alarm/alarms\"\n",
    "        \n",
    "        for i in range(scored):\n",
    "            if lst[i] >= .6:\n",
    "                defect_timestamp = data['timestamp'].values[i]\n",
    "\n",
    "        headers = {\n",
    "        'Content-Type': \"application/vnd.com.nsn.cumulocity.alarm+json\",\n",
    "        'Accept': \"application/vnd.com.nsn.cumulocity.alarm+json\",\n",
    "        }\n",
    "\n",
    "        payload_Critical_Drink = {\n",
    "            \"source\": {\n",
    "                \"id\": \"117701\" },\n",
    "            \"type\": \"Anamoly\",\n",
    "            \"text\": \"There has been an Anamoly and it occured in this timestamp:\"+ str(defect_timestamp),\n",
    "            \"severity\": \"CRITICAL\",\n",
    "            \"status\": \"ACTIVE\",\n",
    "            \"time\": \"2014-03-03T12:03:27.845Z\"\n",
    "        }\n",
    "\n",
    "\n",
    "        print ('File read')\n",
    "\n",
    "        auth = HTTPBasicAuth('Rainer.Burkhardt@softwareag.com', 'cum 2418 Point Loma')\n",
    "\n",
    "        if pred == 1:\n",
    "            response = requests.request(\"POST\", url, data=json.dumps(payload_Critical_Drink),headers=headers,auth=auth)\n",
    "\n",
    "        print ('Done')"
   ]
  },
  {
   "cell_type": "markdown",
   "metadata": {},
   "source": [
    "# PMML Conversion"
   ]
  },
  {
   "cell_type": "code",
   "execution_count": null,
   "metadata": {
    "ExecuteTime": {
     "end_time": "2019-06-26T06:40:07.250409Z",
     "start_time": "2019-06-26T06:40:07.247399Z"
    }
   },
   "outputs": [],
   "source": [
    "from nyoka import model_to_pmml"
   ]
  },
  {
   "cell_type": "code",
   "execution_count": null,
   "metadata": {
    "ExecuteTime": {
     "end_time": "2019-06-26T06:40:08.261448Z",
     "start_time": "2019-06-26T06:40:08.135411Z"
    }
   },
   "outputs": [],
   "source": [
    "toExportDict={\n",
    "    'model1':{\n",
    "        'hyperparameters':None,\n",
    "        'preProcessingScript':{'scripts':[preProcessDataTrain,preProcessDataScore], 'scriptpurpose':['train','score']},\n",
    "        'pipelineObj':None,\n",
    "        'modelObj':model1_,\n",
    "        'featuresUsed':XVar,\n",
    "        'targetName':'Volume',\n",
    "        'postProcessingScript':None,\n",
    "        'taskType': 'trainAndscore'\n",
    "    },\n",
    "    'model2':{\n",
    "    'hyperparameters':param,\n",
    "    'preProcessingScript':{'scripts':[preProcessData2nd], 'scriptpurpose':['score']},\n",
    "    'pipelineObj':None,\n",
    "    'modelObj':model,\n",
    "    'featuresUsed':XVar2,\n",
    "    'targetName':'Volume',\n",
    "    'postProcessingScript':{'scripts':[postProcessing2], 'scriptpurpose':['score']},\n",
    "    'taskType': 'score'\n",
    "    }\n",
    "}\n",
    "\n",
    "pmml = model_to_pmml(toExportDict, pmml_f_name=\"UseCase1.pmml\")"
   ]
  },
  {
   "cell_type": "code",
   "execution_count": null,
   "metadata": {},
   "outputs": [],
   "source": []
  }
 ],
 "metadata": {
  "kernelspec": {
   "display_name": "Python 3",
   "language": "python",
   "name": "python3"
  },
  "language_info": {
   "codemirror_mode": {
    "name": "ipython",
    "version": 3
   },
   "file_extension": ".py",
   "mimetype": "text/x-python",
   "name": "python",
   "nbconvert_exporter": "python",
   "pygments_lexer": "ipython3",
   "version": "3.6.8"
  }
 },
 "nbformat": 4,
 "nbformat_minor": 2
}
