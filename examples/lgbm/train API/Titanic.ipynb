{
 "cells": [
  {
   "cell_type": "code",
   "execution_count": 1,
   "metadata": {
    "ExecuteTime": {
     "end_time": "2019-06-19T09:03:38.418872Z",
     "start_time": "2019-06-19T09:03:37.079803Z"
    }
   },
   "outputs": [],
   "source": [
    "import numpy as np\n",
    "import pandas as pd\n",
    "import os\n",
    "import matplotlib.pyplot as plt\n",
    "# import seaborn as sns\n",
    "from sklearn.preprocessing import LabelEncoder\n",
    "from sklearn.preprocessing import StandardScaler\n",
    "from sklearn.preprocessing import MinMaxScaler\n",
    "from sklearn.metrics import accuracy_score\n",
    "from sklearn.metrics import confusion_matrix\n",
    "import warnings\n",
    "warnings.filterwarnings('ignore')"
   ]
  },
  {
   "cell_type": "code",
   "execution_count": 2,
   "metadata": {
    "ExecuteTime": {
     "end_time": "2019-06-19T09:03:38.453849Z",
     "start_time": "2019-06-19T09:03:38.421814Z"
    }
   },
   "outputs": [],
   "source": [
    "train = pd.read_csv('train.csv')\n",
    "test = pd.read_csv('test.csv')"
   ]
  },
  {
   "cell_type": "code",
   "execution_count": 3,
   "metadata": {
    "ExecuteTime": {
     "end_time": "2019-06-19T09:03:38.479811Z",
     "start_time": "2019-06-19T09:03:38.456806Z"
    }
   },
   "outputs": [
    {
     "data": {
      "text/html": [
       "<div>\n",
       "<style scoped>\n",
       "    .dataframe tbody tr th:only-of-type {\n",
       "        vertical-align: middle;\n",
       "    }\n",
       "\n",
       "    .dataframe tbody tr th {\n",
       "        vertical-align: top;\n",
       "    }\n",
       "\n",
       "    .dataframe thead th {\n",
       "        text-align: right;\n",
       "    }\n",
       "</style>\n",
       "<table border=\"1\" class=\"dataframe\">\n",
       "  <thead>\n",
       "    <tr style=\"text-align: right;\">\n",
       "      <th></th>\n",
       "      <th>PassengerId</th>\n",
       "      <th>Survived</th>\n",
       "      <th>Pclass</th>\n",
       "      <th>Name</th>\n",
       "      <th>Sex</th>\n",
       "      <th>Age</th>\n",
       "      <th>SibSp</th>\n",
       "      <th>Parch</th>\n",
       "      <th>Ticket</th>\n",
       "      <th>Fare</th>\n",
       "      <th>Cabin</th>\n",
       "      <th>Embarked</th>\n",
       "    </tr>\n",
       "  </thead>\n",
       "  <tbody>\n",
       "    <tr>\n",
       "      <th>0</th>\n",
       "      <td>1</td>\n",
       "      <td>0</td>\n",
       "      <td>3</td>\n",
       "      <td>Braund, Mr. Owen Harris</td>\n",
       "      <td>male</td>\n",
       "      <td>22.0</td>\n",
       "      <td>1</td>\n",
       "      <td>0</td>\n",
       "      <td>A/5 21171</td>\n",
       "      <td>7.2500</td>\n",
       "      <td>NaN</td>\n",
       "      <td>S</td>\n",
       "    </tr>\n",
       "    <tr>\n",
       "      <th>1</th>\n",
       "      <td>2</td>\n",
       "      <td>1</td>\n",
       "      <td>1</td>\n",
       "      <td>Cumings, Mrs. John Bradley (Florence Briggs Th...</td>\n",
       "      <td>female</td>\n",
       "      <td>38.0</td>\n",
       "      <td>1</td>\n",
       "      <td>0</td>\n",
       "      <td>PC 17599</td>\n",
       "      <td>71.2833</td>\n",
       "      <td>C85</td>\n",
       "      <td>C</td>\n",
       "    </tr>\n",
       "    <tr>\n",
       "      <th>2</th>\n",
       "      <td>3</td>\n",
       "      <td>1</td>\n",
       "      <td>3</td>\n",
       "      <td>Heikkinen, Miss. Laina</td>\n",
       "      <td>female</td>\n",
       "      <td>26.0</td>\n",
       "      <td>0</td>\n",
       "      <td>0</td>\n",
       "      <td>STON/O2. 3101282</td>\n",
       "      <td>7.9250</td>\n",
       "      <td>NaN</td>\n",
       "      <td>S</td>\n",
       "    </tr>\n",
       "    <tr>\n",
       "      <th>3</th>\n",
       "      <td>4</td>\n",
       "      <td>1</td>\n",
       "      <td>1</td>\n",
       "      <td>Futrelle, Mrs. Jacques Heath (Lily May Peel)</td>\n",
       "      <td>female</td>\n",
       "      <td>35.0</td>\n",
       "      <td>1</td>\n",
       "      <td>0</td>\n",
       "      <td>113803</td>\n",
       "      <td>53.1000</td>\n",
       "      <td>C123</td>\n",
       "      <td>S</td>\n",
       "    </tr>\n",
       "    <tr>\n",
       "      <th>4</th>\n",
       "      <td>5</td>\n",
       "      <td>0</td>\n",
       "      <td>3</td>\n",
       "      <td>Allen, Mr. William Henry</td>\n",
       "      <td>male</td>\n",
       "      <td>35.0</td>\n",
       "      <td>0</td>\n",
       "      <td>0</td>\n",
       "      <td>373450</td>\n",
       "      <td>8.0500</td>\n",
       "      <td>NaN</td>\n",
       "      <td>S</td>\n",
       "    </tr>\n",
       "  </tbody>\n",
       "</table>\n",
       "</div>"
      ],
      "text/plain": [
       "   PassengerId  Survived  Pclass  \\\n",
       "0            1         0       3   \n",
       "1            2         1       1   \n",
       "2            3         1       3   \n",
       "3            4         1       1   \n",
       "4            5         0       3   \n",
       "\n",
       "                                                Name     Sex   Age  SibSp  \\\n",
       "0                            Braund, Mr. Owen Harris    male  22.0      1   \n",
       "1  Cumings, Mrs. John Bradley (Florence Briggs Th...  female  38.0      1   \n",
       "2                             Heikkinen, Miss. Laina  female  26.0      0   \n",
       "3       Futrelle, Mrs. Jacques Heath (Lily May Peel)  female  35.0      1   \n",
       "4                           Allen, Mr. William Henry    male  35.0      0   \n",
       "\n",
       "   Parch            Ticket     Fare Cabin Embarked  \n",
       "0      0         A/5 21171   7.2500   NaN        S  \n",
       "1      0          PC 17599  71.2833   C85        C  \n",
       "2      0  STON/O2. 3101282   7.9250   NaN        S  \n",
       "3      0            113803  53.1000  C123        S  \n",
       "4      0            373450   8.0500   NaN        S  "
      ]
     },
     "execution_count": 3,
     "metadata": {},
     "output_type": "execute_result"
    }
   ],
   "source": [
    "train.head()"
   ]
  },
  {
   "cell_type": "code",
   "execution_count": 4,
   "metadata": {
    "ExecuteTime": {
     "end_time": "2019-06-19T09:03:38.501827Z",
     "start_time": "2019-06-19T09:03:38.483809Z"
    }
   },
   "outputs": [
    {
     "data": {
      "text/html": [
       "<div>\n",
       "<style scoped>\n",
       "    .dataframe tbody tr th:only-of-type {\n",
       "        vertical-align: middle;\n",
       "    }\n",
       "\n",
       "    .dataframe tbody tr th {\n",
       "        vertical-align: top;\n",
       "    }\n",
       "\n",
       "    .dataframe thead th {\n",
       "        text-align: right;\n",
       "    }\n",
       "</style>\n",
       "<table border=\"1\" class=\"dataframe\">\n",
       "  <thead>\n",
       "    <tr style=\"text-align: right;\">\n",
       "      <th></th>\n",
       "      <th>PassengerId</th>\n",
       "      <th>Pclass</th>\n",
       "      <th>Name</th>\n",
       "      <th>Sex</th>\n",
       "      <th>Age</th>\n",
       "      <th>SibSp</th>\n",
       "      <th>Parch</th>\n",
       "      <th>Ticket</th>\n",
       "      <th>Fare</th>\n",
       "      <th>Cabin</th>\n",
       "      <th>Embarked</th>\n",
       "    </tr>\n",
       "  </thead>\n",
       "  <tbody>\n",
       "    <tr>\n",
       "      <th>0</th>\n",
       "      <td>892</td>\n",
       "      <td>3</td>\n",
       "      <td>Kelly, Mr. James</td>\n",
       "      <td>male</td>\n",
       "      <td>34.5</td>\n",
       "      <td>0</td>\n",
       "      <td>0</td>\n",
       "      <td>330911</td>\n",
       "      <td>7.8292</td>\n",
       "      <td>NaN</td>\n",
       "      <td>Q</td>\n",
       "    </tr>\n",
       "    <tr>\n",
       "      <th>1</th>\n",
       "      <td>893</td>\n",
       "      <td>3</td>\n",
       "      <td>Wilkes, Mrs. James (Ellen Needs)</td>\n",
       "      <td>female</td>\n",
       "      <td>47.0</td>\n",
       "      <td>1</td>\n",
       "      <td>0</td>\n",
       "      <td>363272</td>\n",
       "      <td>7.0000</td>\n",
       "      <td>NaN</td>\n",
       "      <td>S</td>\n",
       "    </tr>\n",
       "    <tr>\n",
       "      <th>2</th>\n",
       "      <td>894</td>\n",
       "      <td>2</td>\n",
       "      <td>Myles, Mr. Thomas Francis</td>\n",
       "      <td>male</td>\n",
       "      <td>62.0</td>\n",
       "      <td>0</td>\n",
       "      <td>0</td>\n",
       "      <td>240276</td>\n",
       "      <td>9.6875</td>\n",
       "      <td>NaN</td>\n",
       "      <td>Q</td>\n",
       "    </tr>\n",
       "    <tr>\n",
       "      <th>3</th>\n",
       "      <td>895</td>\n",
       "      <td>3</td>\n",
       "      <td>Wirz, Mr. Albert</td>\n",
       "      <td>male</td>\n",
       "      <td>27.0</td>\n",
       "      <td>0</td>\n",
       "      <td>0</td>\n",
       "      <td>315154</td>\n",
       "      <td>8.6625</td>\n",
       "      <td>NaN</td>\n",
       "      <td>S</td>\n",
       "    </tr>\n",
       "    <tr>\n",
       "      <th>4</th>\n",
       "      <td>896</td>\n",
       "      <td>3</td>\n",
       "      <td>Hirvonen, Mrs. Alexander (Helga E Lindqvist)</td>\n",
       "      <td>female</td>\n",
       "      <td>22.0</td>\n",
       "      <td>1</td>\n",
       "      <td>1</td>\n",
       "      <td>3101298</td>\n",
       "      <td>12.2875</td>\n",
       "      <td>NaN</td>\n",
       "      <td>S</td>\n",
       "    </tr>\n",
       "  </tbody>\n",
       "</table>\n",
       "</div>"
      ],
      "text/plain": [
       "   PassengerId  Pclass                                          Name     Sex  \\\n",
       "0          892       3                              Kelly, Mr. James    male   \n",
       "1          893       3              Wilkes, Mrs. James (Ellen Needs)  female   \n",
       "2          894       2                     Myles, Mr. Thomas Francis    male   \n",
       "3          895       3                              Wirz, Mr. Albert    male   \n",
       "4          896       3  Hirvonen, Mrs. Alexander (Helga E Lindqvist)  female   \n",
       "\n",
       "    Age  SibSp  Parch   Ticket     Fare Cabin Embarked  \n",
       "0  34.5      0      0   330911   7.8292   NaN        Q  \n",
       "1  47.0      1      0   363272   7.0000   NaN        S  \n",
       "2  62.0      0      0   240276   9.6875   NaN        Q  \n",
       "3  27.0      0      0   315154   8.6625   NaN        S  \n",
       "4  22.0      1      1  3101298  12.2875   NaN        S  "
      ]
     },
     "execution_count": 4,
     "metadata": {},
     "output_type": "execute_result"
    }
   ],
   "source": [
    "test.head()"
   ]
  },
  {
   "cell_type": "code",
   "execution_count": 5,
   "metadata": {
    "ExecuteTime": {
     "end_time": "2019-06-19T09:03:38.519807Z",
     "start_time": "2019-06-19T09:03:38.505808Z"
    }
   },
   "outputs": [
    {
     "data": {
      "text/plain": [
       "PassengerId      0\n",
       "Survived         0\n",
       "Pclass           0\n",
       "Name             0\n",
       "Sex              0\n",
       "Age            177\n",
       "SibSp            0\n",
       "Parch            0\n",
       "Ticket           0\n",
       "Fare             0\n",
       "Cabin          687\n",
       "Embarked         2\n",
       "dtype: int64"
      ]
     },
     "execution_count": 5,
     "metadata": {},
     "output_type": "execute_result"
    }
   ],
   "source": [
    "train.isna().sum()"
   ]
  },
  {
   "cell_type": "code",
   "execution_count": 6,
   "metadata": {
    "ExecuteTime": {
     "end_time": "2019-06-19T09:03:38.539806Z",
     "start_time": "2019-06-19T09:03:38.525810Z"
    }
   },
   "outputs": [
    {
     "data": {
      "text/plain": [
       "PassengerId      0\n",
       "Pclass           0\n",
       "Name             0\n",
       "Sex              0\n",
       "Age             86\n",
       "SibSp            0\n",
       "Parch            0\n",
       "Ticket           0\n",
       "Fare             1\n",
       "Cabin          327\n",
       "Embarked         0\n",
       "dtype: int64"
      ]
     },
     "execution_count": 6,
     "metadata": {},
     "output_type": "execute_result"
    }
   ],
   "source": [
    "test.isna().sum()"
   ]
  },
  {
   "cell_type": "code",
   "execution_count": 7,
   "metadata": {
    "ExecuteTime": {
     "end_time": "2019-06-19T09:03:38.551809Z",
     "start_time": "2019-06-19T09:03:38.542807Z"
    }
   },
   "outputs": [],
   "source": [
    "train.Age.fillna(train.Age.mean(), inplace=True)\n",
    "test.Age.fillna(test.Age.mean(), inplace=True)"
   ]
  },
  {
   "cell_type": "code",
   "execution_count": 8,
   "metadata": {
    "ExecuteTime": {
     "end_time": "2019-06-19T09:03:38.566810Z",
     "start_time": "2019-06-19T09:03:38.556808Z"
    }
   },
   "outputs": [],
   "source": [
    "train.Cabin.fillna(train.Cabin.mode()[0], inplace=True)\n",
    "test.Cabin.fillna(test.Cabin.mode()[0], inplace=True)"
   ]
  },
  {
   "cell_type": "code",
   "execution_count": 9,
   "metadata": {
    "ExecuteTime": {
     "end_time": "2019-06-19T09:03:38.750809Z",
     "start_time": "2019-06-19T09:03:38.745832Z"
    }
   },
   "outputs": [],
   "source": [
    "train.Embarked.fillna(train.Embarked.mode()[0], inplace=True)"
   ]
  },
  {
   "cell_type": "code",
   "execution_count": 10,
   "metadata": {
    "ExecuteTime": {
     "end_time": "2019-06-19T09:03:38.955813Z",
     "start_time": "2019-06-19T09:03:38.950853Z"
    }
   },
   "outputs": [],
   "source": [
    "test.Fare.fillna(train.Fare.mean(), inplace=True)"
   ]
  },
  {
   "cell_type": "code",
   "execution_count": 11,
   "metadata": {
    "ExecuteTime": {
     "end_time": "2019-06-19T09:03:39.166856Z",
     "start_time": "2019-06-19T09:03:39.158810Z"
    }
   },
   "outputs": [
    {
     "data": {
      "text/plain": [
       "PassengerId    0\n",
       "Pclass         0\n",
       "Name           0\n",
       "Sex            0\n",
       "Age            0\n",
       "SibSp          0\n",
       "Parch          0\n",
       "Ticket         0\n",
       "Fare           0\n",
       "Cabin          0\n",
       "Embarked       0\n",
       "dtype: int64"
      ]
     },
     "execution_count": 11,
     "metadata": {},
     "output_type": "execute_result"
    }
   ],
   "source": [
    "test.isna().sum()"
   ]
  },
  {
   "cell_type": "code",
   "execution_count": 12,
   "metadata": {
    "ExecuteTime": {
     "end_time": "2019-06-19T09:03:39.377811Z",
     "start_time": "2019-06-19T09:03:39.361812Z"
    }
   },
   "outputs": [],
   "source": [
    "cat_col = []\n",
    "for col in train.columns:\n",
    "    if train[col].dtype == \"object\":\n",
    "        cat_col.append(col)\n",
    "\n",
    "#LabelEncoder\n",
    "lb = LabelEncoder()\n",
    "for column in cat_col:\n",
    "    train[column] = lb.fit_transform(train[column])\n",
    "    test[column] = lb.fit_transform(test[column])"
   ]
  },
  {
   "cell_type": "code",
   "execution_count": 13,
   "metadata": {
    "ExecuteTime": {
     "end_time": "2019-06-19T09:03:39.592817Z",
     "start_time": "2019-06-19T09:03:39.578813Z"
    }
   },
   "outputs": [
    {
     "data": {
      "text/html": [
       "<div>\n",
       "<style scoped>\n",
       "    .dataframe tbody tr th:only-of-type {\n",
       "        vertical-align: middle;\n",
       "    }\n",
       "\n",
       "    .dataframe tbody tr th {\n",
       "        vertical-align: top;\n",
       "    }\n",
       "\n",
       "    .dataframe thead th {\n",
       "        text-align: right;\n",
       "    }\n",
       "</style>\n",
       "<table border=\"1\" class=\"dataframe\">\n",
       "  <thead>\n",
       "    <tr style=\"text-align: right;\">\n",
       "      <th></th>\n",
       "      <th>PassengerId</th>\n",
       "      <th>Survived</th>\n",
       "      <th>Pclass</th>\n",
       "      <th>Name</th>\n",
       "      <th>Sex</th>\n",
       "      <th>Age</th>\n",
       "      <th>SibSp</th>\n",
       "      <th>Parch</th>\n",
       "      <th>Ticket</th>\n",
       "      <th>Fare</th>\n",
       "      <th>Cabin</th>\n",
       "      <th>Embarked</th>\n",
       "    </tr>\n",
       "  </thead>\n",
       "  <tbody>\n",
       "    <tr>\n",
       "      <th>0</th>\n",
       "      <td>1</td>\n",
       "      <td>0</td>\n",
       "      <td>3</td>\n",
       "      <td>108</td>\n",
       "      <td>1</td>\n",
       "      <td>22.0</td>\n",
       "      <td>1</td>\n",
       "      <td>0</td>\n",
       "      <td>523</td>\n",
       "      <td>7.2500</td>\n",
       "      <td>47</td>\n",
       "      <td>2</td>\n",
       "    </tr>\n",
       "    <tr>\n",
       "      <th>1</th>\n",
       "      <td>2</td>\n",
       "      <td>1</td>\n",
       "      <td>1</td>\n",
       "      <td>190</td>\n",
       "      <td>0</td>\n",
       "      <td>38.0</td>\n",
       "      <td>1</td>\n",
       "      <td>0</td>\n",
       "      <td>596</td>\n",
       "      <td>71.2833</td>\n",
       "      <td>81</td>\n",
       "      <td>0</td>\n",
       "    </tr>\n",
       "    <tr>\n",
       "      <th>2</th>\n",
       "      <td>3</td>\n",
       "      <td>1</td>\n",
       "      <td>3</td>\n",
       "      <td>353</td>\n",
       "      <td>0</td>\n",
       "      <td>26.0</td>\n",
       "      <td>0</td>\n",
       "      <td>0</td>\n",
       "      <td>669</td>\n",
       "      <td>7.9250</td>\n",
       "      <td>47</td>\n",
       "      <td>2</td>\n",
       "    </tr>\n",
       "    <tr>\n",
       "      <th>3</th>\n",
       "      <td>4</td>\n",
       "      <td>1</td>\n",
       "      <td>1</td>\n",
       "      <td>272</td>\n",
       "      <td>0</td>\n",
       "      <td>35.0</td>\n",
       "      <td>1</td>\n",
       "      <td>0</td>\n",
       "      <td>49</td>\n",
       "      <td>53.1000</td>\n",
       "      <td>55</td>\n",
       "      <td>2</td>\n",
       "    </tr>\n",
       "    <tr>\n",
       "      <th>4</th>\n",
       "      <td>5</td>\n",
       "      <td>0</td>\n",
       "      <td>3</td>\n",
       "      <td>15</td>\n",
       "      <td>1</td>\n",
       "      <td>35.0</td>\n",
       "      <td>0</td>\n",
       "      <td>0</td>\n",
       "      <td>472</td>\n",
       "      <td>8.0500</td>\n",
       "      <td>47</td>\n",
       "      <td>2</td>\n",
       "    </tr>\n",
       "  </tbody>\n",
       "</table>\n",
       "</div>"
      ],
      "text/plain": [
       "   PassengerId  Survived  Pclass  Name  Sex   Age  SibSp  Parch  Ticket  \\\n",
       "0            1         0       3   108    1  22.0      1      0     523   \n",
       "1            2         1       1   190    0  38.0      1      0     596   \n",
       "2            3         1       3   353    0  26.0      0      0     669   \n",
       "3            4         1       1   272    0  35.0      1      0      49   \n",
       "4            5         0       3    15    1  35.0      0      0     472   \n",
       "\n",
       "      Fare  Cabin  Embarked  \n",
       "0   7.2500     47         2  \n",
       "1  71.2833     81         0  \n",
       "2   7.9250     47         2  \n",
       "3  53.1000     55         2  \n",
       "4   8.0500     47         2  "
      ]
     },
     "execution_count": 13,
     "metadata": {},
     "output_type": "execute_result"
    }
   ],
   "source": [
    "train.head()"
   ]
  },
  {
   "cell_type": "code",
   "execution_count": 14,
   "metadata": {
    "ExecuteTime": {
     "end_time": "2019-06-19T09:03:39.794814Z",
     "start_time": "2019-06-19T09:03:39.788816Z"
    }
   },
   "outputs": [],
   "source": [
    "X = train.drop(['Survived', 'PassengerId'], axis=1)\n",
    "y = train['Survived']"
   ]
  },
  {
   "cell_type": "code",
   "execution_count": 15,
   "metadata": {
    "ExecuteTime": {
     "end_time": "2019-06-19T09:03:40.017815Z",
     "start_time": "2019-06-19T09:03:39.998815Z"
    }
   },
   "outputs": [],
   "source": [
    "from sklearn.model_selection import train_test_split\n",
    "X_train, X_test, y_train, y_test = train_test_split(X, y, test_size=0.3,random_state=0)"
   ]
  },
  {
   "cell_type": "code",
   "execution_count": 16,
   "metadata": {
    "ExecuteTime": {
     "end_time": "2019-06-19T09:03:40.228853Z",
     "start_time": "2019-06-19T09:03:40.206815Z"
    }
   },
   "outputs": [],
   "source": [
    "import lightgbm as lgb\n",
    "lgb_train = lgb.Dataset(X_train, y_train,free_raw_data=False)\n",
    "lgb_eval = lgb.Dataset(X_test, y_test, reference=lgb_train,free_raw_data=False)"
   ]
  },
  {
   "cell_type": "code",
   "execution_count": 17,
   "metadata": {
    "ExecuteTime": {
     "end_time": "2019-06-19T09:03:40.448822Z",
     "start_time": "2019-06-19T09:03:40.444836Z"
    }
   },
   "outputs": [],
   "source": [
    "params = {\n",
    "        'task': 'train',\n",
    "        'objective': 'binary',\n",
    "        'metric': 'binary_error',\n",
    "        'verbose': 1\n",
    "}"
   ]
  },
  {
   "cell_type": "code",
   "execution_count": 18,
   "metadata": {
    "ExecuteTime": {
     "end_time": "2019-06-19T09:03:40.995823Z",
     "start_time": "2019-06-19T09:03:40.990822Z"
    }
   },
   "outputs": [],
   "source": [
    "params1 = {   'learning_rate': 0.1, 'n_estimators': 5000, 'boosting_type': 'gbdt', 'reg_sqrt': True,\n",
    "                  'objective': 'mse', 'sub_feature': 1.0, 'num_leaves': 8, 'min_data_in_leaf': 10,\n",
    "                  'subsample_freq': 1, 'subsample': .5, 'reg_lambda': 0.1, 'reg_alpha': 0.1, 'random_state': 1,\n",
    "                  'max_bin': 200, 'n_jobs': -1, 'verbose': -1\n",
    "              }"
   ]
  },
  {
   "cell_type": "code",
   "execution_count": 19,
   "metadata": {
    "ExecuteTime": {
     "end_time": "2019-06-19T09:03:41.436826Z",
     "start_time": "2019-06-19T09:03:41.348823Z"
    },
    "scrolled": true
   },
   "outputs": [
    {
     "name": "stdout",
     "output_type": "stream",
     "text": [
      "[1]\ttrain's l2: 0.279011\teval's l2: 0.268757\n",
      "Training until validation scores don't improve for 30 rounds.\n",
      "[2]\ttrain's l2: 0.263016\teval's l2: 0.253901\n",
      "[3]\ttrain's l2: 0.248388\teval's l2: 0.239876\n",
      "[4]\ttrain's l2: 0.236534\teval's l2: 0.228294\n",
      "[5]\ttrain's l2: 0.225378\teval's l2: 0.218267\n",
      "[6]\ttrain's l2: 0.214011\teval's l2: 0.20813\n",
      "[7]\ttrain's l2: 0.204781\teval's l2: 0.200287\n",
      "[8]\ttrain's l2: 0.196551\teval's l2: 0.192942\n",
      "[9]\ttrain's l2: 0.189498\teval's l2: 0.186809\n",
      "[10]\ttrain's l2: 0.184334\teval's l2: 0.18226\n",
      "[11]\ttrain's l2: 0.178401\teval's l2: 0.176622\n",
      "[12]\ttrain's l2: 0.173238\teval's l2: 0.171094\n",
      "[13]\ttrain's l2: 0.167097\teval's l2: 0.165257\n",
      "[14]\ttrain's l2: 0.162278\teval's l2: 0.160689\n",
      "[15]\ttrain's l2: 0.158988\teval's l2: 0.158468\n",
      "[16]\ttrain's l2: 0.155494\teval's l2: 0.156236\n",
      "[17]\ttrain's l2: 0.153386\teval's l2: 0.156839\n",
      "[18]\ttrain's l2: 0.150618\teval's l2: 0.154434\n",
      "[19]\ttrain's l2: 0.14935\teval's l2: 0.154329\n",
      "[20]\ttrain's l2: 0.146787\teval's l2: 0.153242\n",
      "[21]\ttrain's l2: 0.144503\teval's l2: 0.151693\n",
      "[22]\ttrain's l2: 0.142147\teval's l2: 0.149547\n",
      "[23]\ttrain's l2: 0.139943\teval's l2: 0.146422\n",
      "[24]\ttrain's l2: 0.137928\teval's l2: 0.144233\n",
      "[25]\ttrain's l2: 0.135234\teval's l2: 0.143854\n",
      "[26]\ttrain's l2: 0.133561\teval's l2: 0.14237\n",
      "[27]\ttrain's l2: 0.132923\teval's l2: 0.142942\n",
      "[28]\ttrain's l2: 0.13194\teval's l2: 0.142343\n",
      "[29]\ttrain's l2: 0.130544\teval's l2: 0.141399\n",
      "[30]\ttrain's l2: 0.129163\teval's l2: 0.1405\n",
      "[31]\ttrain's l2: 0.128331\teval's l2: 0.139846\n",
      "[32]\ttrain's l2: 0.127035\teval's l2: 0.139686\n",
      "[33]\ttrain's l2: 0.125484\teval's l2: 0.138209\n",
      "[34]\ttrain's l2: 0.124468\teval's l2: 0.137404\n",
      "[35]\ttrain's l2: 0.123694\teval's l2: 0.137492\n",
      "[36]\ttrain's l2: 0.122657\teval's l2: 0.137193\n",
      "[37]\ttrain's l2: 0.122575\teval's l2: 0.137465\n",
      "[38]\ttrain's l2: 0.122189\teval's l2: 0.137233\n",
      "[39]\ttrain's l2: 0.121633\teval's l2: 0.136984\n",
      "[40]\ttrain's l2: 0.120949\teval's l2: 0.137026\n",
      "[41]\ttrain's l2: 0.119553\teval's l2: 0.13621\n",
      "[42]\ttrain's l2: 0.118977\teval's l2: 0.135925\n",
      "[43]\ttrain's l2: 0.117714\teval's l2: 0.134898\n",
      "[44]\ttrain's l2: 0.116723\teval's l2: 0.134112\n",
      "[45]\ttrain's l2: 0.115953\teval's l2: 0.134047\n",
      "[46]\ttrain's l2: 0.115477\teval's l2: 0.134659\n",
      "[47]\ttrain's l2: 0.114562\teval's l2: 0.13499\n",
      "[48]\ttrain's l2: 0.114485\teval's l2: 0.135176\n",
      "[49]\ttrain's l2: 0.113527\teval's l2: 0.134458\n",
      "[50]\ttrain's l2: 0.112645\teval's l2: 0.134106\n",
      "[51]\ttrain's l2: 0.112123\teval's l2: 0.133903\n",
      "[52]\ttrain's l2: 0.111605\teval's l2: 0.134135\n",
      "[53]\ttrain's l2: 0.11184\teval's l2: 0.134445\n",
      "[54]\ttrain's l2: 0.111486\teval's l2: 0.134799\n",
      "[55]\ttrain's l2: 0.111332\teval's l2: 0.135407\n",
      "[56]\ttrain's l2: 0.111134\teval's l2: 0.135554\n",
      "[57]\ttrain's l2: 0.110535\teval's l2: 0.135819\n",
      "[58]\ttrain's l2: 0.109941\teval's l2: 0.136284\n",
      "[59]\ttrain's l2: 0.109278\teval's l2: 0.136622\n",
      "[60]\ttrain's l2: 0.109267\teval's l2: 0.137083\n",
      "[61]\ttrain's l2: 0.108712\teval's l2: 0.137108\n",
      "[62]\ttrain's l2: 0.108149\teval's l2: 0.136872\n",
      "[63]\ttrain's l2: 0.107334\teval's l2: 0.136473\n",
      "[64]\ttrain's l2: 0.106445\teval's l2: 0.136412\n",
      "[65]\ttrain's l2: 0.10557\teval's l2: 0.136417\n",
      "[66]\ttrain's l2: 0.105043\teval's l2: 0.136315\n",
      "[67]\ttrain's l2: 0.104637\teval's l2: 0.135942\n",
      "[68]\ttrain's l2: 0.104472\teval's l2: 0.136249\n",
      "[69]\ttrain's l2: 0.104161\teval's l2: 0.136222\n",
      "[70]\ttrain's l2: 0.103415\teval's l2: 0.136001\n",
      "[71]\ttrain's l2: 0.103612\teval's l2: 0.136399\n",
      "[72]\ttrain's l2: 0.102543\teval's l2: 0.136097\n",
      "[73]\ttrain's l2: 0.102761\teval's l2: 0.136315\n",
      "[74]\ttrain's l2: 0.102928\teval's l2: 0.136173\n",
      "[75]\ttrain's l2: 0.102329\teval's l2: 0.136434\n",
      "[76]\ttrain's l2: 0.101433\teval's l2: 0.136568\n",
      "[77]\ttrain's l2: 0.100533\teval's l2: 0.136448\n",
      "[78]\ttrain's l2: 0.100871\teval's l2: 0.137135\n",
      "[79]\ttrain's l2: 0.100525\teval's l2: 0.137401\n",
      "[80]\ttrain's l2: 0.100489\teval's l2: 0.137247\n",
      "[81]\ttrain's l2: 0.100097\teval's l2: 0.137223\n",
      "Early stopping, best iteration is:\n",
      "[51]\ttrain's l2: 0.112123\teval's l2: 0.133903\n"
     ]
    }
   ],
   "source": [
    "gbm = lgb.train(params1,\n",
    "            lgb_train,\n",
    "            num_boost_round=1000,\n",
    "            early_stopping_rounds=30,\n",
    "            valid_sets=[lgb_train,lgb_eval],\n",
    "            valid_names=['train', 'eval'])"
   ]
  },
  {
   "cell_type": "code",
   "execution_count": 20,
   "metadata": {
    "ExecuteTime": {
     "end_time": "2019-06-19T09:03:41.764826Z",
     "start_time": "2019-06-19T09:03:41.754868Z"
    }
   },
   "outputs": [],
   "source": [
    "prediction = gbm.predict(X_test)"
   ]
  },
  {
   "cell_type": "code",
   "execution_count": 21,
   "metadata": {
    "ExecuteTime": {
     "end_time": "2019-06-19T09:03:43.104837Z",
     "start_time": "2019-06-19T09:03:43.100869Z"
    }
   },
   "outputs": [],
   "source": [
    "encodedPrediction = [1 if x > 0.50 else 0 for x in prediction]    "
   ]
  },
  {
   "cell_type": "code",
   "execution_count": 22,
   "metadata": {
    "ExecuteTime": {
     "end_time": "2019-06-19T09:03:43.527832Z",
     "start_time": "2019-06-19T09:03:43.522833Z"
    }
   },
   "outputs": [
    {
     "name": "stdout",
     "output_type": "stream",
     "text": [
      "0.835820895522388\n"
     ]
    }
   ],
   "source": [
    "print(accuracy_score(y_test, encodedPrediction))\n",
    "# print(confusion_matrix(y_test, encodedPrediction))"
   ]
  },
  {
   "cell_type": "code",
   "execution_count": 23,
   "metadata": {
    "ExecuteTime": {
     "end_time": "2019-06-19T09:03:44.315862Z",
     "start_time": "2019-06-19T09:03:44.312836Z"
    }
   },
   "outputs": [],
   "source": [
    "features = list(X.columns)"
   ]
  },
  {
   "cell_type": "markdown",
   "metadata": {},
   "source": [
    "# Export via Extended Nyoka"
   ]
  },
  {
   "cell_type": "code",
   "execution_count": 25,
   "metadata": {
    "ExecuteTime": {
     "end_time": "2019-06-19T09:03:48.646869Z",
     "start_time": "2019-06-19T09:03:48.486865Z"
    }
   },
   "outputs": [],
   "source": [
    "from nyoka import model_to_pmml"
   ]
  },
  {
   "cell_type": "code",
   "execution_count": 26,
   "metadata": {
    "ExecuteTime": {
     "end_time": "2019-06-19T09:03:57.047901Z",
     "start_time": "2019-06-19T09:03:56.963944Z"
    }
   },
   "outputs": [],
   "source": [
    "toExportDict={\n",
    "    'model1':{\n",
    "        'hyperparameters':params1,\n",
    "        'preProcessingScript':None,\n",
    "        'pipelineObj':None,\n",
    "        'modelObj':gbm,\n",
    "        'featuresUsed':features,\n",
    "        'targetName':'Survived',\n",
    "        'postProcessingScript':None,\n",
    "        'taskType': 'trainAndscore'\n",
    "    }\n",
    "}\n",
    "\n",
    "pmml = model_to_pmml(toExportDict, pmml_f_name=\"lgbmTrain.pmml\")"
   ]
  },
  {
   "cell_type": "markdown",
   "metadata": {},
   "source": [
    "# Export to PMML"
   ]
  },
  {
   "cell_type": "code",
   "execution_count": null,
   "metadata": {},
   "outputs": [],
   "source": [
    "import lgbmTrainingAPI_to_pmml"
   ]
  },
  {
   "cell_type": "code",
   "execution_count": null,
   "metadata": {},
   "outputs": [],
   "source": [
    "filename = 'lgbmExportedPMM.pmml'"
   ]
  },
  {
   "cell_type": "code",
   "execution_count": null,
   "metadata": {
    "scrolled": true
   },
   "outputs": [],
   "source": [
    "lgbmTrainingAPI_to_pmml.Export(model = gbm , pmml_f_name = filename)"
   ]
  },
  {
   "cell_type": "code",
   "execution_count": null,
   "metadata": {
    "scrolled": false
   },
   "outputs": [],
   "source": [
    "# jsondata = gbm.dump_model()\n",
    "# import pprint\n",
    "# pp = pprint.PrettyPrinter()\n",
    "# pp.pprint(jsondata)"
   ]
  },
  {
   "cell_type": "code",
   "execution_count": null,
   "metadata": {},
   "outputs": [],
   "source": []
  },
  {
   "cell_type": "markdown",
   "metadata": {},
   "source": [
    "# Export to Text"
   ]
  },
  {
   "cell_type": "code",
   "execution_count": null,
   "metadata": {},
   "outputs": [],
   "source": [
    "gbm.save_model('textModel.txt')"
   ]
  },
  {
   "cell_type": "code",
   "execution_count": null,
   "metadata": {},
   "outputs": [],
   "source": []
  },
  {
   "cell_type": "markdown",
   "metadata": {},
   "source": [
    "# FILE RECONSTRUCT (textModel.txt)"
   ]
  },
  {
   "cell_type": "code",
   "execution_count": null,
   "metadata": {},
   "outputs": [],
   "source": [
    "newgbm = lgb.basic.Booster(params = {'model_str' : open('textModel.txt', \"r\").read()})"
   ]
  },
  {
   "cell_type": "code",
   "execution_count": null,
   "metadata": {},
   "outputs": [],
   "source": [
    "frcprediction = newgbm.predict(X_test)"
   ]
  },
  {
   "cell_type": "code",
   "execution_count": null,
   "metadata": {},
   "outputs": [],
   "source": [
    "frcencodedPrediction = [1 if x > 0.50 else 0 for x in frcprediction] "
   ]
  },
  {
   "cell_type": "code",
   "execution_count": null,
   "metadata": {},
   "outputs": [],
   "source": [
    "print(accuracy_score(y_test, frcencodedPrediction))\n",
    "# print(confusion_matrix(y_test, frcencodedPrediction))"
   ]
  },
  {
   "cell_type": "code",
   "execution_count": null,
   "metadata": {},
   "outputs": [],
   "source": []
  },
  {
   "cell_type": "markdown",
   "metadata": {},
   "source": [
    "# PMML RECONSTRUCT"
   ]
  },
  {
   "cell_type": "code",
   "execution_count": null,
   "metadata": {},
   "outputs": [],
   "source": [
    "import pmml_to_lgbmTrainAPI_Dev"
   ]
  },
  {
   "cell_type": "code",
   "execution_count": null,
   "metadata": {},
   "outputs": [],
   "source": [
    "reconstructed_model = pmml_to_lgbmTrainAPI_Dev.reconstruct(filename)"
   ]
  },
  {
   "cell_type": "code",
   "execution_count": null,
   "metadata": {},
   "outputs": [],
   "source": [
    "rcprediction = reconstructed_model.predict(X_test)"
   ]
  },
  {
   "cell_type": "code",
   "execution_count": null,
   "metadata": {},
   "outputs": [],
   "source": [
    "rcencodedPrediction = [1 if x > 0.50 else 0 for x in rcprediction]"
   ]
  },
  {
   "cell_type": "code",
   "execution_count": null,
   "metadata": {},
   "outputs": [],
   "source": [
    "print(accuracy_score(y_test, rcencodedPrediction))\n",
    "print(confusion_matrix(y_test, rcencodedPrediction))"
   ]
  },
  {
   "cell_type": "code",
   "execution_count": null,
   "metadata": {},
   "outputs": [],
   "source": [
    "encodedPrediction == rcencodedPrediction"
   ]
  },
  {
   "cell_type": "code",
   "execution_count": null,
   "metadata": {},
   "outputs": [],
   "source": []
  },
  {
   "cell_type": "markdown",
   "metadata": {},
   "source": [
    "# Continue training"
   ]
  },
  {
   "cell_type": "code",
   "execution_count": null,
   "metadata": {},
   "outputs": [],
   "source": [
    "contGbm = lgb.train(params,\n",
    "            lgb_train,\n",
    "            num_boost_round=1000,\n",
    "            early_stopping_rounds=30,\n",
    "            init_model=reconstructed_model,\n",
    "            valid_sets=[lgb_train,lgb_eval],\n",
    "            valid_names=['train', 'eval'])"
   ]
  },
  {
   "cell_type": "code",
   "execution_count": null,
   "metadata": {},
   "outputs": [],
   "source": [
    "continuedModelprediction = reconstructed_model.predict(X_test)"
   ]
  },
  {
   "cell_type": "code",
   "execution_count": null,
   "metadata": {},
   "outputs": [],
   "source": [
    "rcencodedPrediction = [1 if x > 0.50 else 0 for x in rcprediction]"
   ]
  },
  {
   "cell_type": "code",
   "execution_count": null,
   "metadata": {},
   "outputs": [],
   "source": [
    "print(accuracy_score(y_test, rcencodedPrediction))\n",
    "print(confusion_matrix(y_test, rcencodedPrediction))"
   ]
  },
  {
   "cell_type": "code",
   "execution_count": null,
   "metadata": {},
   "outputs": [],
   "source": [
    "type(contGbm)"
   ]
  },
  {
   "cell_type": "code",
   "execution_count": null,
   "metadata": {},
   "outputs": [],
   "source": [
    "contGbm.__class__.__name__"
   ]
  },
  {
   "cell_type": "code",
   "execution_count": null,
   "metadata": {},
   "outputs": [],
   "source": [
    "str(contGbm)"
   ]
  },
  {
   "cell_type": "code",
   "execution_count": null,
   "metadata": {},
   "outputs": [],
   "source": []
  }
 ],
 "metadata": {
  "kernelspec": {
   "display_name": "Python 3",
   "language": "python",
   "name": "python3"
  },
  "language_info": {
   "codemirror_mode": {
    "name": "ipython",
    "version": 3
   },
   "file_extension": ".py",
   "mimetype": "text/x-python",
   "name": "python",
   "nbconvert_exporter": "python",
   "pygments_lexer": "ipython3",
   "version": "3.6.8"
  }
 },
 "nbformat": 4,
 "nbformat_minor": 2
}
