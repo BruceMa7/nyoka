{
 "cells": [
  {
   "cell_type": "markdown",
   "metadata": {},
   "source": [
    "# LGBM → PMML \n",
    "\n",
    "### Exporter: LGBMRegressor\n",
    "\n",
    "### Data Set used: Auto\n",
    "\n",
    "\n",
    "### **STEPS**: \n",
    "- Build the Pipeline with preprocessing \n",
    "- Build PMML using Nyoka exporter"
   ]
  },
  {
   "cell_type": "markdown",
   "metadata": {},
   "source": [
    "### Pre-processing, Model building (using pipeline) for Auto data set"
   ]
  },
  {
   "cell_type": "code",
   "execution_count": 1,
   "metadata": {
    "ExecuteTime": {
     "end_time": "2018-08-13T17:23:34.023366Z",
     "start_time": "2018-08-13T17:23:33.043866Z"
    }
   },
   "outputs": [
    {
     "data": {
      "text/plain": [
       "Pipeline(memory=None,\n",
       "         steps=[('mapper',\n",
       "                 DataFrameMapper(default=False, df_out=False,\n",
       "                                 features=[('car name',\n",
       "                                            CountVectorizer(analyzer='word',\n",
       "                                                            binary=False,\n",
       "                                                            decode_error='strict',\n",
       "                                                            dtype=<class 'numpy.int64'>,\n",
       "                                                            encoding='utf-8',\n",
       "                                                            input='content',\n",
       "                                                            lowercase=True,\n",
       "                                                            max_df=1.0,\n",
       "                                                            max_features=None,\n",
       "                                                            min_df=1,\n",
       "                                                            ngram_range=(1, 1),\n",
       "                                                            preprocessor=None,\n",
       "                                                            stop_words=None,\n",
       "                                                            strip_accents=No...\n",
       "                 LGBMRegressor(boosting_type='gbdt', class_weight=None,\n",
       "                               colsample_bytree=1.0, importance_type='split',\n",
       "                               learning_rate=0.1, max_depth=-1,\n",
       "                               min_child_samples=20, min_child_weight=0.001,\n",
       "                               min_split_gain=0.0, n_estimators=100, n_jobs=-1,\n",
       "                               num_leaves=31, objective=None, random_state=None,\n",
       "                               reg_alpha=0.0, reg_lambda=0.0, silent=True,\n",
       "                               subsample=1.0, subsample_for_bin=200000,\n",
       "                               subsample_freq=0))],\n",
       "         verbose=False)"
      ]
     },
     "execution_count": 1,
     "metadata": {},
     "output_type": "execute_result"
    }
   ],
   "source": [
    "import pandas as pd\n",
    "from sklearn import datasets\n",
    "from sklearn.pipeline import Pipeline\n",
    "from sklearn.preprocessing import StandardScaler\n",
    "from sklearn.feature_extraction.text import CountVectorizer\n",
    "from lightgbm import LGBMRegressor,LGBMClassifier\n",
    "from sklearn_pandas import DataFrameMapper\n",
    "from sklearn.model_selection import train_test_split\n",
    "\n",
    "auto = pd.read_csv('auto-mpg.csv')\n",
    "X = auto.drop(['mpg'], axis=1)\n",
    "y = auto['mpg']\n",
    "\n",
    "feature_names = [name for name in auto.columns if name not in ('mpg')]\n",
    "\n",
    "target_name='mpg'\n",
    "x_train, x_test, y_train, y_test = train_test_split(X, y, test_size=0.33, random_state=101)\n",
    "pipeline_obj = Pipeline([\n",
    "    ('mapper', DataFrameMapper([\n",
    "        ('car name', CountVectorizer()),\n",
    "        (['displacement'],[StandardScaler()]) \n",
    "    ])),\n",
    "    ('lgbmr',LGBMRegressor())\n",
    "])\n",
    "pipeline_obj.fit(x_train,y_train)"
   ]
  },
  {
   "cell_type": "code",
   "execution_count": 2,
   "metadata": {},
   "outputs": [
    {
     "data": {
      "text/plain": [
       "23.514978294580377"
      ]
     },
     "execution_count": 2,
     "metadata": {},
     "output_type": "execute_result"
    }
   ],
   "source": [
    "pipeline_obj.predict(x_test)[0]"
   ]
  },
  {
   "cell_type": "markdown",
   "metadata": {},
   "source": [
    "### Export the Pipeline object into PMML using the Nyoka package"
   ]
  },
  {
   "cell_type": "code",
   "execution_count": 3,
   "metadata": {
    "ExecuteTime": {
     "end_time": "2018-08-13T17:23:36.956866Z",
     "start_time": "2018-08-13T17:23:36.319366Z"
    }
   },
   "outputs": [],
   "source": [
    "from nyoka import lgb_to_pmml\n",
    "lgb_to_pmml(pipeline_obj,feature_names,target_name,\"lgbmr_pmml_preprocess.pmml\")"
   ]
  },
  {
   "cell_type": "code",
   "execution_count": 4,
   "metadata": {},
   "outputs": [],
   "source": [
    "x_test.to_csv(\"test.csv\")"
   ]
  },
  {
   "cell_type": "code",
   "execution_count": 5,
   "metadata": {},
   "outputs": [
    {
     "name": "stderr",
     "output_type": "stream",
     "text": [
      "C:\\Users\\nibo\\AppData\\Local\\Continuum\\anaconda3\\envs\\zxpo\\lib\\site-packages\\sklearn\\externals\\six.py:31: DeprecationWarning: The module is deprecated in version 0.21 and will be removed in version 0.23 since we've dropped support for Python 2.7. Please rely on the official version of six (https://pypi.org/project/six/).\n",
      "  \"(https://pypi.org/project/six/).\", DeprecationWarning)\n"
     ]
    }
   ],
   "source": [
    "from nyoka.reconstruct import pmml_to_pipeline"
   ]
  },
  {
   "cell_type": "code",
   "execution_count": 6,
   "metadata": {},
   "outputs": [],
   "source": [
    "from nyoka import PMML44 as pml\n",
    "pmml = pml.parse(\"lgbmr_pmml_preprocess.pmml\",True)"
   ]
  },
  {
   "cell_type": "code",
   "execution_count": 7,
   "metadata": {},
   "outputs": [],
   "source": [
    "pp=pmml_to_pipeline.generate_skl_pipeline(\"lgbmr_pmml_preprocess.pmml\")"
   ]
  },
  {
   "cell_type": "code",
   "execution_count": 8,
   "metadata": {},
   "outputs": [
    {
     "data": {
      "text/plain": [
       "array([22.05589583, 16.01039357, 31.06273444, 13.49501308, 13.49501308,\n",
       "       22.0743162 , 27.24776216, 24.64091376, 27.24776216, 24.22439045,\n",
       "       20.14067172, 24.22439045, 27.24776216, 31.06273444, 13.08395063,\n",
       "       13.32363937, 16.01039357, 16.01039357, 27.24776216, 28.4925652 ,\n",
       "       13.49501308, 17.99139482, 28.4925652 , 13.32363937, 13.32363937,\n",
       "       32.08713101, 24.22439045, 25.14047562, 14.09732717, 13.49501308,\n",
       "       17.99139482, 31.06273444, 24.22439045, 27.24776216, 31.06273444,\n",
       "       13.08395063, 29.08732713, 25.14047562, 13.32363937, 24.22439045,\n",
       "       28.4925652 , 14.09732717, 23.52078561, 14.09732717, 16.35795301,\n",
       "       16.01039357, 27.24776216, 23.65049444, 16.35795301, 31.06273444,\n",
       "       16.01039357, 16.01039357, 16.95889481, 24.22439045, 16.35795301,\n",
       "       24.22439045, 31.06273444, 32.08713101, 16.01039357, 31.06273444,\n",
       "       23.52078561, 31.06273444, 32.08713101, 16.01039357, 18.0191349 ,\n",
       "       16.95889481, 31.06273444, 31.06273444, 13.32363937, 13.49501308,\n",
       "       16.01039357, 27.24776216, 20.14067172, 21.90362568, 13.49501308,\n",
       "       13.32363937, 22.05589583, 13.08395063, 20.14067172, 16.01039357,\n",
       "       23.06392632, 16.95889481, 23.52078561, 23.52078561, 18.0191349 ,\n",
       "       32.08713101, 27.1775502 , 31.06273444, 13.49501308, 13.08395063,\n",
       "       23.52078561, 24.22439045, 16.35795301, 30.99438689, 21.18375164,\n",
       "       13.32363937, 13.49501308, 13.49501308, 13.08395063, 13.49501308,\n",
       "       29.08732713, 13.49501308, 29.08732713, 32.08713101, 21.18375164,\n",
       "       31.06273444, 20.14067172, 29.08732713, 16.01039357, 13.49501308,\n",
       "       20.14067172, 16.35795301, 30.99438689, 13.32363937, 18.0191349 ,\n",
       "       21.90362568, 27.24776216, 28.4925652 , 23.52078561, 13.08395063,\n",
       "       13.32363937, 23.06392632, 29.08732713, 28.4925652 , 20.14067172,\n",
       "       13.08395063, 14.41235752, 13.49501308, 31.06273444, 13.49501308,\n",
       "       13.49501308, 29.08732713])"
      ]
     },
     "execution_count": 8,
     "metadata": {},
     "output_type": "execute_result"
    }
   ],
   "source": [
    "pp.predict(x_test)"
   ]
  },
  {
   "cell_type": "code",
   "execution_count": 9,
   "metadata": {},
   "outputs": [
    {
     "data": {
      "text/plain": [
       "['car name']"
      ]
     },
     "execution_count": 9,
     "metadata": {},
     "output_type": "execute_result"
    }
   ],
   "source": [
    "\"car name\".split(r'\\\\s+')"
   ]
  },
  {
   "cell_type": "code",
   "execution_count": null,
   "metadata": {},
   "outputs": [],
   "source": []
  }
 ],
 "metadata": {
  "kernelspec": {
   "display_name": "Python 3",
   "language": "python",
   "name": "python3"
  },
  "language_info": {
   "codemirror_mode": {
    "name": "ipython",
    "version": 3
   },
   "file_extension": ".py",
   "mimetype": "text/x-python",
   "name": "python",
   "nbconvert_exporter": "python",
   "pygments_lexer": "ipython3",
   "version": "3.6.8"
  },
  "latex_envs": {
   "LaTeX_envs_menu_present": true,
   "autoclose": false,
   "autocomplete": true,
   "bibliofile": "biblio.bib",
   "cite_by": "apalike",
   "current_citInitial": 1,
   "eqLabelWithNumbers": true,
   "eqNumInitial": 1,
   "hotkeys": {
    "equation": "Ctrl-E",
    "itemize": "Ctrl-I"
   },
   "labels_anchors": false,
   "latex_user_defs": false,
   "report_style_numbering": false,
   "user_envs_cfg": false
  }
 },
 "nbformat": 4,
 "nbformat_minor": 2
}
