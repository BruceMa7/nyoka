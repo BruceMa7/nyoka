{
 "cells": [
  {
   "cell_type": "markdown",
   "metadata": {},
   "source": [
    "## Object Detection Model (RetinaNet) export using Nyoka"
   ]
  },
  {
   "cell_type": "code",
   "execution_count": null,
   "metadata": {},
   "outputs": [],
   "source": [
    "from keras_retinanet.models import load_model\n",
    "from PIL import ImageDraw\n",
    "from nyoka import RetinanetToPmml\n",
    "import requests\n",
    "import warnings\n",
    "warnings.filterwarnings(\"ignore\")"
   ]
  },
  {
   "cell_type": "markdown",
   "metadata": {},
   "source": [
    "### Download the pre-trained RetinaNet model"
   ]
  },
  {
   "cell_type": "code",
   "execution_count": null,
   "metadata": {},
   "outputs": [],
   "source": [
    "model = requests.get(\"https://github.com/fizyr/keras-retinanet/releases/download/0.5.1/resnet50_coco_best_v2.1.0.h5\")\n",
    "with open('resnet50_coco_best_v2.1.0.h5','wb') as file:\n",
    "    file.write(model.content)"
   ]
  },
  {
   "cell_type": "markdown",
   "metadata": {},
   "source": [
    "### Load the downloaded model\n",
    "The model is loaded using `load_model` function from keras_retinanet.\n",
    "\n",
    "The model was trained with `coco` dataset and `resnet50` was used as backbone"
   ]
  },
  {
   "cell_type": "code",
   "execution_count": null,
   "metadata": {},
   "outputs": [],
   "source": [
    "model = load_model('resnet50_coco_best_v2.1.0.h5', backbone_name='resnet50')"
   ]
  },
  {
   "cell_type": "markdown",
   "metadata": {},
   "source": [
    "The pre-trained model has `score_threshold=0.05`, which means it will consider all classes whose predicted probability is greater than 5%. To remove noisy predictions, it is updated to 0.5 (50%)"
   ]
  },
  {
   "cell_type": "code",
   "execution_count": null,
   "metadata": {},
   "outputs": [],
   "source": [
    "model.layers[-1].score_threshold = 0.5\n",
    "model.save(\"Retinanet_with_new_threshold.h5\")\n",
    "print(\"The updated model is saved and it needs to be loaded again to reflect the change\")\n",
    "model = load_model(\"Retinanet_with_new_threshold.h5\",backbone_name='resnet50')\n",
    "print(\"The model is loaded again\")"
   ]
  },
  {
   "cell_type": "markdown",
   "metadata": {},
   "source": [
    "### Libraries to load and preprocess the image.\n",
    "\n",
    "Since the model was trained using `resnet50` as backbone, we need to preprocess the image to convert it to the format used by resnet"
   ]
  },
  {
   "cell_type": "code",
   "execution_count": null,
   "metadata": {},
   "outputs": [],
   "source": [
    "from keras.applications.resnet50 import preprocess_input\n",
    "from keras.preprocessing.image import img_to_array, load_img\n",
    "import numpy as np"
   ]
  },
  {
   "cell_type": "markdown",
   "metadata": {},
   "source": [
    "#### Load and preprocess the image"
   ]
  },
  {
   "cell_type": "code",
   "execution_count": null,
   "metadata": {},
   "outputs": [],
   "source": [
    "file = \"test_1\"\n",
    "orig_img = load_img(file+'.png')\n",
    "img = img_to_array(orig_img)\n",
    "img = preprocess_input(img)"
   ]
  },
  {
   "cell_type": "markdown",
   "metadata": {},
   "source": [
    "### Predict using the preprocessed image. The model will return boundary boxes, scores and classes/labels"
   ]
  },
  {
   "cell_type": "code",
   "execution_count": null,
   "metadata": {},
   "outputs": [],
   "source": [
    "bboxes, scores, labels = model.predict(np.expand_dims(img, axis=0))"
   ]
  },
  {
   "cell_type": "markdown",
   "metadata": {},
   "source": [
    "### Extracting valid predictions"
   ]
  },
  {
   "cell_type": "code",
   "execution_count": null,
   "metadata": {},
   "outputs": [],
   "source": [
    "score_range=list(scores.ravel()).index(-1.0)\n",
    "scores = scores.ravel()[:score_range]\n",
    "labels = labels.ravel()[:score_range]\n",
    "bboxes = bboxes[0][:score_range]"
   ]
  },
  {
   "cell_type": "markdown",
   "metadata": {},
   "source": [
    "### List of classes used to train the model"
   ]
  },
  {
   "cell_type": "code",
   "execution_count": null,
   "metadata": {},
   "outputs": [],
   "source": [
    "import json\n",
    "classes = json.load(open(\"categories_coco.json\",'r'))\n",
    "classes = list(classes.values())"
   ]
  },
  {
   "cell_type": "markdown",
   "metadata": {},
   "source": [
    "### Drawing boxes and labels on the original image"
   ]
  },
  {
   "cell_type": "markdown",
   "metadata": {},
   "source": [
    "#### Draw the boxes and labels"
   ]
  },
  {
   "cell_type": "code",
   "execution_count": null,
   "metadata": {},
   "outputs": [],
   "source": [
    "img_with_boxes=orig_img.copy()\n",
    "drawer = ImageDraw.Draw(img_with_boxes)\n",
    "\n",
    "for i in range(score_range):\n",
    "    drawer.rectangle(bboxes[i],outline='red')\n",
    "    drawer.text([bboxes[i][0], bboxes[i][1]],text=classes[labels[i]]+\" \"+\"{:.2f}\".format(scores[i]))"
   ]
  },
  {
   "cell_type": "markdown",
   "metadata": {},
   "source": [
    "#### Original Image"
   ]
  },
  {
   "cell_type": "code",
   "execution_count": null,
   "metadata": {},
   "outputs": [],
   "source": [
    "orig_img"
   ]
  },
  {
   "cell_type": "markdown",
   "metadata": {},
   "source": [
    "#### Annotated image"
   ]
  },
  {
   "cell_type": "code",
   "execution_count": null,
   "metadata": {},
   "outputs": [],
   "source": [
    "img_with_boxes"
   ]
  },
  {
   "cell_type": "markdown",
   "metadata": {},
   "source": [
    "### Generate the PMML"
   ]
  },
  {
   "cell_type": "markdown",
   "metadata": {},
   "source": [
    "The exporter needs following parameters - \n",
    "* `model` : The trained RetinaNet model\n",
    "* `input_shape` : The expected shape of the image to be scored\n",
    "* `input_format` : The format of input during inference\n",
    "* `backbone_name` : Name of backbone used to train the model\n",
    "* `trained_classes` : List of classes using which the model was trained\n",
    "* `pmml_file_name` : Name of PMML file"
   ]
  },
  {
   "cell_type": "code",
   "execution_count": null,
   "metadata": {
    "scrolled": true
   },
   "outputs": [],
   "source": [
    "RetinanetToPmml(\n",
    "    model=model,\n",
    "    input_shape=(224,224,3),\n",
    "    input_format='image',\n",
    "    backbone_name='resnet',\n",
    "    trained_classes=classes,\n",
    "    pmml_file_name=\"RetinaNet.pmml\"\n",
    ")"
   ]
  },
  {
   "cell_type": "code",
   "execution_count": null,
   "metadata": {},
   "outputs": [],
   "source": []
  }
 ],
 "metadata": {
  "kernelspec": {
   "display_name": "Python 3",
   "language": "python",
   "name": "python3"
  },
  "language_info": {
   "codemirror_mode": {
    "name": "ipython",
    "version": 3
   },
   "file_extension": ".py",
   "mimetype": "text/x-python",
   "name": "python",
   "nbconvert_exporter": "python",
   "pygments_lexer": "ipython3",
   "version": "3.6.8"
  }
 },
 "nbformat": 4,
 "nbformat_minor": 2
}
